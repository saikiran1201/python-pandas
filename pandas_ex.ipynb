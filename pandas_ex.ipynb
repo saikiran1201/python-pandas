{
 "cells": [
  {
   "cell_type": "markdown",
   "metadata": {},
   "source": [
    "## python pandas data preparation"
   ]
  },
  {
   "cell_type": "code",
   "execution_count": 1,
   "metadata": {},
   "outputs": [],
   "source": [
    "import numpy as np\n",
    "import pandas as pd"
   ]
  },
  {
   "cell_type": "code",
   "execution_count": 2,
   "metadata": {},
   "outputs": [
    {
     "output_type": "stream",
     "name": "stdout",
     "text": [
      " Volume in drive C is Windows\n Volume Serial Number is F8E3-60DE\n\n Directory of c:\\Users\\saikiran\\Desktop\\py\\uohyd\n\n27-03-2021  08:20    <DIR>          .\n27-03-2021  08:20    <DIR>          ..\n27-03-2021  08:09    <DIR>          .ipynb_checkpoints\n24-03-2021  16:16               226 Data.csv\n27-03-2021  08:09           116,779 data_processing.ipynb\n24-03-2021  17:33             8,038 emp_processed.csv\n27-03-2021  08:20           140,167 pandas_ex.ipynb\n24-03-2021  17:33           869,537 Train_UWu5bXk.csv\n               5 File(s)      1,134,747 bytes\n               3 Dir(s)  265,084,620,800 bytes free\n"
     ]
    }
   ],
   "source": [
    "ls"
   ]
  },
  {
   "cell_type": "code",
   "execution_count": 3,
   "metadata": {},
   "outputs": [
    {
     "output_type": "execute_result",
     "data": {
      "text/plain": [
       "'c:\\\\Users\\\\saikiran\\\\Desktop\\\\py\\\\uohyd'"
      ]
     },
     "metadata": {},
     "execution_count": 3
    }
   ],
   "source": [
    "pwd"
   ]
  },
  {
   "cell_type": "code",
   "execution_count": 4,
   "metadata": {},
   "outputs": [],
   "source": [
    "df = pd.read_csv(\"Data.csv\")"
   ]
  },
  {
   "cell_type": "code",
   "execution_count": 5,
   "metadata": {},
   "outputs": [
    {
     "output_type": "execute_result",
     "data": {
      "text/plain": [
       "   Country   Age   Salary Purchased\n",
       "0   France  44.0  72000.0        No\n",
       "1    Spain  27.0  48000.0       Yes\n",
       "2  Germany  30.0  54000.0        No\n",
       "3    Spain  38.0  61000.0        No\n",
       "4  Germany  40.0      NaN       Yes\n",
       "5   France  35.0  58000.0       Yes\n",
       "6    Spain   NaN  52000.0        No\n",
       "7   France  48.0  79000.0       Yes\n",
       "8  Germany  50.0  83000.0        No\n",
       "9   France  37.0  67000.0       Yes"
      ],
      "text/html": "<div>\n<style scoped>\n    .dataframe tbody tr th:only-of-type {\n        vertical-align: middle;\n    }\n\n    .dataframe tbody tr th {\n        vertical-align: top;\n    }\n\n    .dataframe thead th {\n        text-align: right;\n    }\n</style>\n<table border=\"1\" class=\"dataframe\">\n  <thead>\n    <tr style=\"text-align: right;\">\n      <th></th>\n      <th>Country</th>\n      <th>Age</th>\n      <th>Salary</th>\n      <th>Purchased</th>\n    </tr>\n  </thead>\n  <tbody>\n    <tr>\n      <th>0</th>\n      <td>France</td>\n      <td>44.0</td>\n      <td>72000.0</td>\n      <td>No</td>\n    </tr>\n    <tr>\n      <th>1</th>\n      <td>Spain</td>\n      <td>27.0</td>\n      <td>48000.0</td>\n      <td>Yes</td>\n    </tr>\n    <tr>\n      <th>2</th>\n      <td>Germany</td>\n      <td>30.0</td>\n      <td>54000.0</td>\n      <td>No</td>\n    </tr>\n    <tr>\n      <th>3</th>\n      <td>Spain</td>\n      <td>38.0</td>\n      <td>61000.0</td>\n      <td>No</td>\n    </tr>\n    <tr>\n      <th>4</th>\n      <td>Germany</td>\n      <td>40.0</td>\n      <td>NaN</td>\n      <td>Yes</td>\n    </tr>\n    <tr>\n      <th>5</th>\n      <td>France</td>\n      <td>35.0</td>\n      <td>58000.0</td>\n      <td>Yes</td>\n    </tr>\n    <tr>\n      <th>6</th>\n      <td>Spain</td>\n      <td>NaN</td>\n      <td>52000.0</td>\n      <td>No</td>\n    </tr>\n    <tr>\n      <th>7</th>\n      <td>France</td>\n      <td>48.0</td>\n      <td>79000.0</td>\n      <td>Yes</td>\n    </tr>\n    <tr>\n      <th>8</th>\n      <td>Germany</td>\n      <td>50.0</td>\n      <td>83000.0</td>\n      <td>No</td>\n    </tr>\n    <tr>\n      <th>9</th>\n      <td>France</td>\n      <td>37.0</td>\n      <td>67000.0</td>\n      <td>Yes</td>\n    </tr>\n  </tbody>\n</table>\n</div>"
     },
     "metadata": {},
     "execution_count": 5
    }
   ],
   "source": [
    "df"
   ]
  },
  {
   "cell_type": "code",
   "execution_count": 6,
   "metadata": {},
   "outputs": [
    {
     "output_type": "execute_result",
     "data": {
      "text/plain": [
       "Index(['Country', 'Age', 'Salary', 'Purchased'], dtype='object')"
      ]
     },
     "metadata": {},
     "execution_count": 6
    }
   ],
   "source": [
    "df.columns"
   ]
  },
  {
   "cell_type": "code",
   "execution_count": 7,
   "metadata": {},
   "outputs": [
    {
     "output_type": "stream",
     "name": "stdout",
     "text": [
      "<class 'pandas.core.frame.DataFrame'>\nRangeIndex: 10 entries, 0 to 9\nData columns (total 4 columns):\n #   Column     Non-Null Count  Dtype  \n---  ------     --------------  -----  \n 0   Country    10 non-null     object \n 1   Age        9 non-null      float64\n 2   Salary     9 non-null      float64\n 3   Purchased  10 non-null     object \ndtypes: float64(2), object(2)\nmemory usage: 448.0+ bytes\n"
     ]
    }
   ],
   "source": [
    "df.info()"
   ]
  },
  {
   "cell_type": "code",
   "execution_count": 8,
   "metadata": {},
   "outputs": [
    {
     "output_type": "execute_result",
     "data": {
      "text/plain": [
       "   Country   Age   Salary Purchased\n",
       "0   France  44.0  72000.0        No\n",
       "1    Spain  27.0  48000.0       Yes\n",
       "2  Germany  30.0  54000.0        No\n",
       "3    Spain  38.0  61000.0        No\n",
       "4  Germany  40.0      NaN       Yes"
      ],
      "text/html": "<div>\n<style scoped>\n    .dataframe tbody tr th:only-of-type {\n        vertical-align: middle;\n    }\n\n    .dataframe tbody tr th {\n        vertical-align: top;\n    }\n\n    .dataframe thead th {\n        text-align: right;\n    }\n</style>\n<table border=\"1\" class=\"dataframe\">\n  <thead>\n    <tr style=\"text-align: right;\">\n      <th></th>\n      <th>Country</th>\n      <th>Age</th>\n      <th>Salary</th>\n      <th>Purchased</th>\n    </tr>\n  </thead>\n  <tbody>\n    <tr>\n      <th>0</th>\n      <td>France</td>\n      <td>44.0</td>\n      <td>72000.0</td>\n      <td>No</td>\n    </tr>\n    <tr>\n      <th>1</th>\n      <td>Spain</td>\n      <td>27.0</td>\n      <td>48000.0</td>\n      <td>Yes</td>\n    </tr>\n    <tr>\n      <th>2</th>\n      <td>Germany</td>\n      <td>30.0</td>\n      <td>54000.0</td>\n      <td>No</td>\n    </tr>\n    <tr>\n      <th>3</th>\n      <td>Spain</td>\n      <td>38.0</td>\n      <td>61000.0</td>\n      <td>No</td>\n    </tr>\n    <tr>\n      <th>4</th>\n      <td>Germany</td>\n      <td>40.0</td>\n      <td>NaN</td>\n      <td>Yes</td>\n    </tr>\n  </tbody>\n</table>\n</div>"
     },
     "metadata": {},
     "execution_count": 8
    }
   ],
   "source": [
    "df.head()"
   ]
  },
  {
   "cell_type": "code",
   "execution_count": 9,
   "metadata": {},
   "outputs": [
    {
     "output_type": "execute_result",
     "data": {
      "text/plain": [
       "   Country   Age   Salary Purchased\n",
       "5   France  35.0  58000.0       Yes\n",
       "6    Spain   NaN  52000.0        No\n",
       "7   France  48.0  79000.0       Yes\n",
       "8  Germany  50.0  83000.0        No\n",
       "9   France  37.0  67000.0       Yes"
      ],
      "text/html": "<div>\n<style scoped>\n    .dataframe tbody tr th:only-of-type {\n        vertical-align: middle;\n    }\n\n    .dataframe tbody tr th {\n        vertical-align: top;\n    }\n\n    .dataframe thead th {\n        text-align: right;\n    }\n</style>\n<table border=\"1\" class=\"dataframe\">\n  <thead>\n    <tr style=\"text-align: right;\">\n      <th></th>\n      <th>Country</th>\n      <th>Age</th>\n      <th>Salary</th>\n      <th>Purchased</th>\n    </tr>\n  </thead>\n  <tbody>\n    <tr>\n      <th>5</th>\n      <td>France</td>\n      <td>35.0</td>\n      <td>58000.0</td>\n      <td>Yes</td>\n    </tr>\n    <tr>\n      <th>6</th>\n      <td>Spain</td>\n      <td>NaN</td>\n      <td>52000.0</td>\n      <td>No</td>\n    </tr>\n    <tr>\n      <th>7</th>\n      <td>France</td>\n      <td>48.0</td>\n      <td>79000.0</td>\n      <td>Yes</td>\n    </tr>\n    <tr>\n      <th>8</th>\n      <td>Germany</td>\n      <td>50.0</td>\n      <td>83000.0</td>\n      <td>No</td>\n    </tr>\n    <tr>\n      <th>9</th>\n      <td>France</td>\n      <td>37.0</td>\n      <td>67000.0</td>\n      <td>Yes</td>\n    </tr>\n  </tbody>\n</table>\n</div>"
     },
     "metadata": {},
     "execution_count": 9
    }
   ],
   "source": [
    "df.tail()"
   ]
  },
  {
   "cell_type": "code",
   "execution_count": 10,
   "metadata": {},
   "outputs": [
    {
     "output_type": "execute_result",
     "data": {
      "text/plain": [
       "RangeIndex(start=0, stop=10, step=1)"
      ]
     },
     "metadata": {},
     "execution_count": 10
    }
   ],
   "source": [
    "df.index"
   ]
  },
  {
   "cell_type": "code",
   "execution_count": 11,
   "metadata": {},
   "outputs": [
    {
     "output_type": "execute_result",
     "data": {
      "text/plain": [
       "             Age        Salary\n",
       "count   9.000000      9.000000\n",
       "mean   38.777778  63777.777778\n",
       "std     7.693793  12265.579662\n",
       "min    27.000000  48000.000000\n",
       "25%    35.000000  54000.000000\n",
       "50%    38.000000  61000.000000\n",
       "75%    44.000000  72000.000000\n",
       "max    50.000000  83000.000000"
      ],
      "text/html": "<div>\n<style scoped>\n    .dataframe tbody tr th:only-of-type {\n        vertical-align: middle;\n    }\n\n    .dataframe tbody tr th {\n        vertical-align: top;\n    }\n\n    .dataframe thead th {\n        text-align: right;\n    }\n</style>\n<table border=\"1\" class=\"dataframe\">\n  <thead>\n    <tr style=\"text-align: right;\">\n      <th></th>\n      <th>Age</th>\n      <th>Salary</th>\n    </tr>\n  </thead>\n  <tbody>\n    <tr>\n      <th>count</th>\n      <td>9.000000</td>\n      <td>9.000000</td>\n    </tr>\n    <tr>\n      <th>mean</th>\n      <td>38.777778</td>\n      <td>63777.777778</td>\n    </tr>\n    <tr>\n      <th>std</th>\n      <td>7.693793</td>\n      <td>12265.579662</td>\n    </tr>\n    <tr>\n      <th>min</th>\n      <td>27.000000</td>\n      <td>48000.000000</td>\n    </tr>\n    <tr>\n      <th>25%</th>\n      <td>35.000000</td>\n      <td>54000.000000</td>\n    </tr>\n    <tr>\n      <th>50%</th>\n      <td>38.000000</td>\n      <td>61000.000000</td>\n    </tr>\n    <tr>\n      <th>75%</th>\n      <td>44.000000</td>\n      <td>72000.000000</td>\n    </tr>\n    <tr>\n      <th>max</th>\n      <td>50.000000</td>\n      <td>83000.000000</td>\n    </tr>\n  </tbody>\n</table>\n</div>"
     },
     "metadata": {},
     "execution_count": 11
    }
   ],
   "source": [
    "df.describe()"
   ]
  },
  {
   "cell_type": "code",
   "execution_count": 12,
   "metadata": {},
   "outputs": [
    {
     "output_type": "execute_result",
     "data": {
      "text/plain": [
       "Country       object\n",
       "Age          float64\n",
       "Salary       float64\n",
       "Purchased     object\n",
       "dtype: object"
      ]
     },
     "metadata": {},
     "execution_count": 12
    }
   ],
   "source": [
    "df.dtypes"
   ]
  },
  {
   "cell_type": "code",
   "execution_count": 13,
   "metadata": {},
   "outputs": [
    {
     "output_type": "execute_result",
     "data": {
      "text/plain": [
       "10"
      ]
     },
     "metadata": {},
     "execution_count": 13
    }
   ],
   "source": [
    "len(df)"
   ]
  },
  {
   "cell_type": "code",
   "execution_count": 14,
   "metadata": {},
   "outputs": [
    {
     "output_type": "execute_result",
     "data": {
      "text/plain": [
       "0     France\n",
       "1      Spain\n",
       "2    Germany\n",
       "3      Spain\n",
       "4    Germany\n",
       "5     France\n",
       "6      Spain\n",
       "7     France\n",
       "8    Germany\n",
       "9     France\n",
       "Name: Country, dtype: object"
      ]
     },
     "metadata": {},
     "execution_count": 14
    }
   ],
   "source": [
    "df['Country']"
   ]
  },
  {
   "cell_type": "code",
   "execution_count": 15,
   "metadata": {},
   "outputs": [
    {
     "output_type": "execute_result",
     "data": {
      "text/plain": [
       "0     France\n",
       "1      Spain\n",
       "2    Germany\n",
       "3      Spain\n",
       "4    Germany\n",
       "5     France\n",
       "6      Spain\n",
       "7     France\n",
       "8    Germany\n",
       "9     France\n",
       "Name: Country, dtype: object"
      ]
     },
     "metadata": {},
     "execution_count": 15
    }
   ],
   "source": [
    "df.Country"
   ]
  },
  {
   "cell_type": "code",
   "execution_count": 16,
   "metadata": {},
   "outputs": [
    {
     "output_type": "execute_result",
     "data": {
      "text/plain": [
       "   Country   Salary\n",
       "0   France  72000.0\n",
       "1    Spain  48000.0\n",
       "2  Germany  54000.0\n",
       "3    Spain  61000.0\n",
       "4  Germany      NaN\n",
       "5   France  58000.0\n",
       "6    Spain  52000.0\n",
       "7   France  79000.0\n",
       "8  Germany  83000.0\n",
       "9   France  67000.0"
      ],
      "text/html": "<div>\n<style scoped>\n    .dataframe tbody tr th:only-of-type {\n        vertical-align: middle;\n    }\n\n    .dataframe tbody tr th {\n        vertical-align: top;\n    }\n\n    .dataframe thead th {\n        text-align: right;\n    }\n</style>\n<table border=\"1\" class=\"dataframe\">\n  <thead>\n    <tr style=\"text-align: right;\">\n      <th></th>\n      <th>Country</th>\n      <th>Salary</th>\n    </tr>\n  </thead>\n  <tbody>\n    <tr>\n      <th>0</th>\n      <td>France</td>\n      <td>72000.0</td>\n    </tr>\n    <tr>\n      <th>1</th>\n      <td>Spain</td>\n      <td>48000.0</td>\n    </tr>\n    <tr>\n      <th>2</th>\n      <td>Germany</td>\n      <td>54000.0</td>\n    </tr>\n    <tr>\n      <th>3</th>\n      <td>Spain</td>\n      <td>61000.0</td>\n    </tr>\n    <tr>\n      <th>4</th>\n      <td>Germany</td>\n      <td>NaN</td>\n    </tr>\n    <tr>\n      <th>5</th>\n      <td>France</td>\n      <td>58000.0</td>\n    </tr>\n    <tr>\n      <th>6</th>\n      <td>Spain</td>\n      <td>52000.0</td>\n    </tr>\n    <tr>\n      <th>7</th>\n      <td>France</td>\n      <td>79000.0</td>\n    </tr>\n    <tr>\n      <th>8</th>\n      <td>Germany</td>\n      <td>83000.0</td>\n    </tr>\n    <tr>\n      <th>9</th>\n      <td>France</td>\n      <td>67000.0</td>\n    </tr>\n  </tbody>\n</table>\n</div>"
     },
     "metadata": {},
     "execution_count": 16
    }
   ],
   "source": [
    "df[[\"Country\",\"Salary\"]]"
   ]
  },
  {
   "cell_type": "code",
   "execution_count": 17,
   "metadata": {},
   "outputs": [
    {
     "output_type": "execute_result",
     "data": {
      "text/plain": [
       "   Country   Age   Salary Purchased serial No\n",
       "0   France  44.0  72000.0        No         1\n",
       "1    Spain  27.0  48000.0       Yes         2\n",
       "2  Germany  30.0  54000.0        No         3\n",
       "3    Spain  38.0  61000.0        No         4\n",
       "4  Germany  40.0      NaN       Yes         5\n",
       "5   France  35.0  58000.0       Yes         6\n",
       "6    Spain   NaN  52000.0        No         7\n",
       "7   France  48.0  79000.0       Yes         8\n",
       "8  Germany  50.0  83000.0        No         9\n",
       "9   France  37.0  67000.0       Yes        10"
      ],
      "text/html": "<div>\n<style scoped>\n    .dataframe tbody tr th:only-of-type {\n        vertical-align: middle;\n    }\n\n    .dataframe tbody tr th {\n        vertical-align: top;\n    }\n\n    .dataframe thead th {\n        text-align: right;\n    }\n</style>\n<table border=\"1\" class=\"dataframe\">\n  <thead>\n    <tr style=\"text-align: right;\">\n      <th></th>\n      <th>Country</th>\n      <th>Age</th>\n      <th>Salary</th>\n      <th>Purchased</th>\n      <th>serial No</th>\n    </tr>\n  </thead>\n  <tbody>\n    <tr>\n      <th>0</th>\n      <td>France</td>\n      <td>44.0</td>\n      <td>72000.0</td>\n      <td>No</td>\n      <td>1</td>\n    </tr>\n    <tr>\n      <th>1</th>\n      <td>Spain</td>\n      <td>27.0</td>\n      <td>48000.0</td>\n      <td>Yes</td>\n      <td>2</td>\n    </tr>\n    <tr>\n      <th>2</th>\n      <td>Germany</td>\n      <td>30.0</td>\n      <td>54000.0</td>\n      <td>No</td>\n      <td>3</td>\n    </tr>\n    <tr>\n      <th>3</th>\n      <td>Spain</td>\n      <td>38.0</td>\n      <td>61000.0</td>\n      <td>No</td>\n      <td>4</td>\n    </tr>\n    <tr>\n      <th>4</th>\n      <td>Germany</td>\n      <td>40.0</td>\n      <td>NaN</td>\n      <td>Yes</td>\n      <td>5</td>\n    </tr>\n    <tr>\n      <th>5</th>\n      <td>France</td>\n      <td>35.0</td>\n      <td>58000.0</td>\n      <td>Yes</td>\n      <td>6</td>\n    </tr>\n    <tr>\n      <th>6</th>\n      <td>Spain</td>\n      <td>NaN</td>\n      <td>52000.0</td>\n      <td>No</td>\n      <td>7</td>\n    </tr>\n    <tr>\n      <th>7</th>\n      <td>France</td>\n      <td>48.0</td>\n      <td>79000.0</td>\n      <td>Yes</td>\n      <td>8</td>\n    </tr>\n    <tr>\n      <th>8</th>\n      <td>Germany</td>\n      <td>50.0</td>\n      <td>83000.0</td>\n      <td>No</td>\n      <td>9</td>\n    </tr>\n    <tr>\n      <th>9</th>\n      <td>France</td>\n      <td>37.0</td>\n      <td>67000.0</td>\n      <td>Yes</td>\n      <td>10</td>\n    </tr>\n  </tbody>\n</table>\n</div>"
     },
     "metadata": {},
     "execution_count": 17
    }
   ],
   "source": [
    "df[\"serial No\"] = np.array(range(1,11), dtype='str')\n",
    "df"
   ]
  },
  {
   "cell_type": "code",
   "execution_count": 18,
   "metadata": {},
   "outputs": [
    {
     "output_type": "execute_result",
     "data": {
      "text/plain": [
       "           Country   Age   Salary Purchased\n",
       "serial No                                  \n",
       "1           France  44.0  72000.0        No\n",
       "2            Spain  27.0  48000.0       Yes\n",
       "3          Germany  30.0  54000.0        No\n",
       "4            Spain  38.0  61000.0        No\n",
       "5          Germany  40.0      NaN       Yes\n",
       "6           France  35.0  58000.0       Yes\n",
       "7            Spain   NaN  52000.0        No\n",
       "8           France  48.0  79000.0       Yes\n",
       "9          Germany  50.0  83000.0        No\n",
       "10          France  37.0  67000.0       Yes"
      ],
      "text/html": "<div>\n<style scoped>\n    .dataframe tbody tr th:only-of-type {\n        vertical-align: middle;\n    }\n\n    .dataframe tbody tr th {\n        vertical-align: top;\n    }\n\n    .dataframe thead th {\n        text-align: right;\n    }\n</style>\n<table border=\"1\" class=\"dataframe\">\n  <thead>\n    <tr style=\"text-align: right;\">\n      <th></th>\n      <th>Country</th>\n      <th>Age</th>\n      <th>Salary</th>\n      <th>Purchased</th>\n    </tr>\n    <tr>\n      <th>serial No</th>\n      <th></th>\n      <th></th>\n      <th></th>\n      <th></th>\n    </tr>\n  </thead>\n  <tbody>\n    <tr>\n      <th>1</th>\n      <td>France</td>\n      <td>44.0</td>\n      <td>72000.0</td>\n      <td>No</td>\n    </tr>\n    <tr>\n      <th>2</th>\n      <td>Spain</td>\n      <td>27.0</td>\n      <td>48000.0</td>\n      <td>Yes</td>\n    </tr>\n    <tr>\n      <th>3</th>\n      <td>Germany</td>\n      <td>30.0</td>\n      <td>54000.0</td>\n      <td>No</td>\n    </tr>\n    <tr>\n      <th>4</th>\n      <td>Spain</td>\n      <td>38.0</td>\n      <td>61000.0</td>\n      <td>No</td>\n    </tr>\n    <tr>\n      <th>5</th>\n      <td>Germany</td>\n      <td>40.0</td>\n      <td>NaN</td>\n      <td>Yes</td>\n    </tr>\n    <tr>\n      <th>6</th>\n      <td>France</td>\n      <td>35.0</td>\n      <td>58000.0</td>\n      <td>Yes</td>\n    </tr>\n    <tr>\n      <th>7</th>\n      <td>Spain</td>\n      <td>NaN</td>\n      <td>52000.0</td>\n      <td>No</td>\n    </tr>\n    <tr>\n      <th>8</th>\n      <td>France</td>\n      <td>48.0</td>\n      <td>79000.0</td>\n      <td>Yes</td>\n    </tr>\n    <tr>\n      <th>9</th>\n      <td>Germany</td>\n      <td>50.0</td>\n      <td>83000.0</td>\n      <td>No</td>\n    </tr>\n    <tr>\n      <th>10</th>\n      <td>France</td>\n      <td>37.0</td>\n      <td>67000.0</td>\n      <td>Yes</td>\n    </tr>\n  </tbody>\n</table>\n</div>"
     },
     "metadata": {},
     "execution_count": 18
    }
   ],
   "source": [
    "df = df.set_index('serial No')\n",
    "df"
   ]
  },
  {
   "cell_type": "code",
   "execution_count": 19,
   "metadata": {},
   "outputs": [
    {
     "output_type": "execute_result",
     "data": {
      "text/plain": [
       "Country      France\n",
       "Age              48\n",
       "Salary        79000\n",
       "Purchased       Yes\n",
       "Name: 8, dtype: object"
      ]
     },
     "metadata": {},
     "execution_count": 19
    }
   ],
   "source": [
    "#name in loc\n",
    "df.loc['8']"
   ]
  },
  {
   "cell_type": "code",
   "execution_count": 20,
   "metadata": {},
   "outputs": [
    {
     "output_type": "execute_result",
     "data": {
      "text/plain": [
       "Country      Spain\n",
       "Age             27\n",
       "Salary       48000\n",
       "Purchased      Yes\n",
       "Name: 2, dtype: object"
      ]
     },
     "metadata": {},
     "execution_count": 20
    }
   ],
   "source": [
    "#index in iloc\n",
    "df.iloc[1]"
   ]
  },
  {
   "cell_type": "code",
   "execution_count": 21,
   "metadata": {},
   "outputs": [
    {
     "output_type": "execute_result",
     "data": {
      "text/plain": [
       "'Spain'"
      ]
     },
     "metadata": {},
     "execution_count": 21
    }
   ],
   "source": [
    "df.iloc[1][0]"
   ]
  },
  {
   "cell_type": "code",
   "execution_count": 22,
   "metadata": {},
   "outputs": [
    {
     "output_type": "execute_result",
     "data": {
      "text/plain": [
       "  serial No  Country   Age   Salary Purchased\n",
       "0         1   France  44.0  72000.0        No\n",
       "1         2    Spain  27.0  48000.0       Yes\n",
       "2         3  Germany  30.0  54000.0        No\n",
       "3         4    Spain  38.0  61000.0        No\n",
       "4         5  Germany  40.0      NaN       Yes\n",
       "5         6   France  35.0  58000.0       Yes\n",
       "6         7    Spain   NaN  52000.0        No\n",
       "7         8   France  48.0  79000.0       Yes\n",
       "8         9  Germany  50.0  83000.0        No\n",
       "9        10   France  37.0  67000.0       Yes"
      ],
      "text/html": "<div>\n<style scoped>\n    .dataframe tbody tr th:only-of-type {\n        vertical-align: middle;\n    }\n\n    .dataframe tbody tr th {\n        vertical-align: top;\n    }\n\n    .dataframe thead th {\n        text-align: right;\n    }\n</style>\n<table border=\"1\" class=\"dataframe\">\n  <thead>\n    <tr style=\"text-align: right;\">\n      <th></th>\n      <th>serial No</th>\n      <th>Country</th>\n      <th>Age</th>\n      <th>Salary</th>\n      <th>Purchased</th>\n    </tr>\n  </thead>\n  <tbody>\n    <tr>\n      <th>0</th>\n      <td>1</td>\n      <td>France</td>\n      <td>44.0</td>\n      <td>72000.0</td>\n      <td>No</td>\n    </tr>\n    <tr>\n      <th>1</th>\n      <td>2</td>\n      <td>Spain</td>\n      <td>27.0</td>\n      <td>48000.0</td>\n      <td>Yes</td>\n    </tr>\n    <tr>\n      <th>2</th>\n      <td>3</td>\n      <td>Germany</td>\n      <td>30.0</td>\n      <td>54000.0</td>\n      <td>No</td>\n    </tr>\n    <tr>\n      <th>3</th>\n      <td>4</td>\n      <td>Spain</td>\n      <td>38.0</td>\n      <td>61000.0</td>\n      <td>No</td>\n    </tr>\n    <tr>\n      <th>4</th>\n      <td>5</td>\n      <td>Germany</td>\n      <td>40.0</td>\n      <td>NaN</td>\n      <td>Yes</td>\n    </tr>\n    <tr>\n      <th>5</th>\n      <td>6</td>\n      <td>France</td>\n      <td>35.0</td>\n      <td>58000.0</td>\n      <td>Yes</td>\n    </tr>\n    <tr>\n      <th>6</th>\n      <td>7</td>\n      <td>Spain</td>\n      <td>NaN</td>\n      <td>52000.0</td>\n      <td>No</td>\n    </tr>\n    <tr>\n      <th>7</th>\n      <td>8</td>\n      <td>France</td>\n      <td>48.0</td>\n      <td>79000.0</td>\n      <td>Yes</td>\n    </tr>\n    <tr>\n      <th>8</th>\n      <td>9</td>\n      <td>Germany</td>\n      <td>50.0</td>\n      <td>83000.0</td>\n      <td>No</td>\n    </tr>\n    <tr>\n      <th>9</th>\n      <td>10</td>\n      <td>France</td>\n      <td>37.0</td>\n      <td>67000.0</td>\n      <td>Yes</td>\n    </tr>\n  </tbody>\n</table>\n</div>"
     },
     "metadata": {},
     "execution_count": 22
    }
   ],
   "source": [
    "df = df.reset_index('serial No')\n",
    "df"
   ]
  },
  {
   "cell_type": "code",
   "execution_count": 23,
   "metadata": {},
   "outputs": [
    {
     "output_type": "execute_result",
     "data": {
      "text/plain": [
       "   Country   Age   Salary Purchased\n",
       "0   France  44.0  72000.0        No\n",
       "1    Spain  27.0  48000.0       Yes\n",
       "2  Germany  30.0  54000.0        No\n",
       "3    Spain  38.0  61000.0        No\n",
       "4  Germany  40.0      NaN       Yes\n",
       "5   France  35.0  58000.0       Yes\n",
       "6    Spain   NaN  52000.0        No\n",
       "7   France  48.0  79000.0       Yes\n",
       "8  Germany  50.0  83000.0        No\n",
       "9   France  37.0  67000.0       Yes"
      ],
      "text/html": "<div>\n<style scoped>\n    .dataframe tbody tr th:only-of-type {\n        vertical-align: middle;\n    }\n\n    .dataframe tbody tr th {\n        vertical-align: top;\n    }\n\n    .dataframe thead th {\n        text-align: right;\n    }\n</style>\n<table border=\"1\" class=\"dataframe\">\n  <thead>\n    <tr style=\"text-align: right;\">\n      <th></th>\n      <th>Country</th>\n      <th>Age</th>\n      <th>Salary</th>\n      <th>Purchased</th>\n    </tr>\n  </thead>\n  <tbody>\n    <tr>\n      <th>0</th>\n      <td>France</td>\n      <td>44.0</td>\n      <td>72000.0</td>\n      <td>No</td>\n    </tr>\n    <tr>\n      <th>1</th>\n      <td>Spain</td>\n      <td>27.0</td>\n      <td>48000.0</td>\n      <td>Yes</td>\n    </tr>\n    <tr>\n      <th>2</th>\n      <td>Germany</td>\n      <td>30.0</td>\n      <td>54000.0</td>\n      <td>No</td>\n    </tr>\n    <tr>\n      <th>3</th>\n      <td>Spain</td>\n      <td>38.0</td>\n      <td>61000.0</td>\n      <td>No</td>\n    </tr>\n    <tr>\n      <th>4</th>\n      <td>Germany</td>\n      <td>40.0</td>\n      <td>NaN</td>\n      <td>Yes</td>\n    </tr>\n    <tr>\n      <th>5</th>\n      <td>France</td>\n      <td>35.0</td>\n      <td>58000.0</td>\n      <td>Yes</td>\n    </tr>\n    <tr>\n      <th>6</th>\n      <td>Spain</td>\n      <td>NaN</td>\n      <td>52000.0</td>\n      <td>No</td>\n    </tr>\n    <tr>\n      <th>7</th>\n      <td>France</td>\n      <td>48.0</td>\n      <td>79000.0</td>\n      <td>Yes</td>\n    </tr>\n    <tr>\n      <th>8</th>\n      <td>Germany</td>\n      <td>50.0</td>\n      <td>83000.0</td>\n      <td>No</td>\n    </tr>\n    <tr>\n      <th>9</th>\n      <td>France</td>\n      <td>37.0</td>\n      <td>67000.0</td>\n      <td>Yes</td>\n    </tr>\n  </tbody>\n</table>\n</div>"
     },
     "metadata": {},
     "execution_count": 23
    }
   ],
   "source": [
    "df = df.drop('serial No', axis=1)\n",
    "df"
   ]
  },
  {
   "cell_type": "code",
   "execution_count": 24,
   "metadata": {},
   "outputs": [
    {
     "output_type": "execute_result",
     "data": {
      "text/plain": [
       "{'Country': 'India', 'Age': 25, 'Salary': 25000, 'Purchased': 'Yes'}"
      ]
     },
     "metadata": {},
     "execution_count": 24
    }
   ],
   "source": [
    "one_row = {'Country':'India', 'Age':25, 'Salary':25000, 'Purchased':'Yes'}\n",
    "one_row"
   ]
  },
  {
   "cell_type": "code",
   "execution_count": 25,
   "metadata": {},
   "outputs": [
    {
     "output_type": "execute_result",
     "data": {
      "text/plain": [
       "    Country   Age   Salary Purchased\n",
       "0    France  44.0  72000.0        No\n",
       "1     Spain  27.0  48000.0       Yes\n",
       "2   Germany  30.0  54000.0        No\n",
       "3     Spain  38.0  61000.0        No\n",
       "4   Germany  40.0      NaN       Yes\n",
       "5    France  35.0  58000.0       Yes\n",
       "6     Spain   NaN  52000.0        No\n",
       "7    France  48.0  79000.0       Yes\n",
       "8   Germany  50.0  83000.0        No\n",
       "9    France  37.0  67000.0       Yes\n",
       "10    India  25.0  25000.0       Yes"
      ],
      "text/html": "<div>\n<style scoped>\n    .dataframe tbody tr th:only-of-type {\n        vertical-align: middle;\n    }\n\n    .dataframe tbody tr th {\n        vertical-align: top;\n    }\n\n    .dataframe thead th {\n        text-align: right;\n    }\n</style>\n<table border=\"1\" class=\"dataframe\">\n  <thead>\n    <tr style=\"text-align: right;\">\n      <th></th>\n      <th>Country</th>\n      <th>Age</th>\n      <th>Salary</th>\n      <th>Purchased</th>\n    </tr>\n  </thead>\n  <tbody>\n    <tr>\n      <th>0</th>\n      <td>France</td>\n      <td>44.0</td>\n      <td>72000.0</td>\n      <td>No</td>\n    </tr>\n    <tr>\n      <th>1</th>\n      <td>Spain</td>\n      <td>27.0</td>\n      <td>48000.0</td>\n      <td>Yes</td>\n    </tr>\n    <tr>\n      <th>2</th>\n      <td>Germany</td>\n      <td>30.0</td>\n      <td>54000.0</td>\n      <td>No</td>\n    </tr>\n    <tr>\n      <th>3</th>\n      <td>Spain</td>\n      <td>38.0</td>\n      <td>61000.0</td>\n      <td>No</td>\n    </tr>\n    <tr>\n      <th>4</th>\n      <td>Germany</td>\n      <td>40.0</td>\n      <td>NaN</td>\n      <td>Yes</td>\n    </tr>\n    <tr>\n      <th>5</th>\n      <td>France</td>\n      <td>35.0</td>\n      <td>58000.0</td>\n      <td>Yes</td>\n    </tr>\n    <tr>\n      <th>6</th>\n      <td>Spain</td>\n      <td>NaN</td>\n      <td>52000.0</td>\n      <td>No</td>\n    </tr>\n    <tr>\n      <th>7</th>\n      <td>France</td>\n      <td>48.0</td>\n      <td>79000.0</td>\n      <td>Yes</td>\n    </tr>\n    <tr>\n      <th>8</th>\n      <td>Germany</td>\n      <td>50.0</td>\n      <td>83000.0</td>\n      <td>No</td>\n    </tr>\n    <tr>\n      <th>9</th>\n      <td>France</td>\n      <td>37.0</td>\n      <td>67000.0</td>\n      <td>Yes</td>\n    </tr>\n    <tr>\n      <th>10</th>\n      <td>India</td>\n      <td>25.0</td>\n      <td>25000.0</td>\n      <td>Yes</td>\n    </tr>\n  </tbody>\n</table>\n</div>"
     },
     "metadata": {},
     "execution_count": 25
    }
   ],
   "source": [
    "df = df.append(one_row,ignore_index=True)\n",
    "df"
   ]
  },
  {
   "cell_type": "code",
   "execution_count": 26,
   "metadata": {},
   "outputs": [
    {
     "output_type": "execute_result",
     "data": {
      "text/plain": [
       "Country      India\n",
       "Age             25\n",
       "Salary       25000\n",
       "Purchased      Yes\n",
       "Name: 10, dtype: object"
      ]
     },
     "metadata": {},
     "execution_count": 26
    }
   ],
   "source": [
    "df.iloc[10]"
   ]
  },
  {
   "cell_type": "code",
   "execution_count": 27,
   "metadata": {},
   "outputs": [
    {
     "output_type": "execute_result",
     "data": {
      "text/plain": [
       "   Country   Age   Salary Purchased\n",
       "0   France  44.0  72000.0        No\n",
       "1    Spain  27.0  48000.0       Yes\n",
       "2  Germany  30.0  54000.0        No\n",
       "3    Spain  38.0  61000.0        No\n",
       "4  Germany  40.0      NaN       Yes\n",
       "5   France  35.0  58000.0       Yes\n",
       "6    Spain   NaN  52000.0        No\n",
       "7   France  48.0  79000.0       Yes\n",
       "8  Germany  50.0  83000.0        No\n",
       "9   France  37.0  67000.0       Yes"
      ],
      "text/html": "<div>\n<style scoped>\n    .dataframe tbody tr th:only-of-type {\n        vertical-align: middle;\n    }\n\n    .dataframe tbody tr th {\n        vertical-align: top;\n    }\n\n    .dataframe thead th {\n        text-align: right;\n    }\n</style>\n<table border=\"1\" class=\"dataframe\">\n  <thead>\n    <tr style=\"text-align: right;\">\n      <th></th>\n      <th>Country</th>\n      <th>Age</th>\n      <th>Salary</th>\n      <th>Purchased</th>\n    </tr>\n  </thead>\n  <tbody>\n    <tr>\n      <th>0</th>\n      <td>France</td>\n      <td>44.0</td>\n      <td>72000.0</td>\n      <td>No</td>\n    </tr>\n    <tr>\n      <th>1</th>\n      <td>Spain</td>\n      <td>27.0</td>\n      <td>48000.0</td>\n      <td>Yes</td>\n    </tr>\n    <tr>\n      <th>2</th>\n      <td>Germany</td>\n      <td>30.0</td>\n      <td>54000.0</td>\n      <td>No</td>\n    </tr>\n    <tr>\n      <th>3</th>\n      <td>Spain</td>\n      <td>38.0</td>\n      <td>61000.0</td>\n      <td>No</td>\n    </tr>\n    <tr>\n      <th>4</th>\n      <td>Germany</td>\n      <td>40.0</td>\n      <td>NaN</td>\n      <td>Yes</td>\n    </tr>\n    <tr>\n      <th>5</th>\n      <td>France</td>\n      <td>35.0</td>\n      <td>58000.0</td>\n      <td>Yes</td>\n    </tr>\n    <tr>\n      <th>6</th>\n      <td>Spain</td>\n      <td>NaN</td>\n      <td>52000.0</td>\n      <td>No</td>\n    </tr>\n    <tr>\n      <th>7</th>\n      <td>France</td>\n      <td>48.0</td>\n      <td>79000.0</td>\n      <td>Yes</td>\n    </tr>\n    <tr>\n      <th>8</th>\n      <td>Germany</td>\n      <td>50.0</td>\n      <td>83000.0</td>\n      <td>No</td>\n    </tr>\n    <tr>\n      <th>9</th>\n      <td>France</td>\n      <td>37.0</td>\n      <td>67000.0</td>\n      <td>Yes</td>\n    </tr>\n  </tbody>\n</table>\n</div>"
     },
     "metadata": {},
     "execution_count": 27
    }
   ],
   "source": [
    "df = df.drop(10)\n",
    "df"
   ]
  },
  {
   "cell_type": "code",
   "execution_count": 28,
   "metadata": {},
   "outputs": [
    {
     "output_type": "execute_result",
     "data": {
      "text/plain": [
       "  Country   Age   Salary Purchased\n",
       "0  France  44.0  72000.0        No\n",
       "5  France  35.0  58000.0       Yes\n",
       "7  France  48.0  79000.0       Yes\n",
       "9  France  37.0  67000.0       Yes"
      ],
      "text/html": "<div>\n<style scoped>\n    .dataframe tbody tr th:only-of-type {\n        vertical-align: middle;\n    }\n\n    .dataframe tbody tr th {\n        vertical-align: top;\n    }\n\n    .dataframe thead th {\n        text-align: right;\n    }\n</style>\n<table border=\"1\" class=\"dataframe\">\n  <thead>\n    <tr style=\"text-align: right;\">\n      <th></th>\n      <th>Country</th>\n      <th>Age</th>\n      <th>Salary</th>\n      <th>Purchased</th>\n    </tr>\n  </thead>\n  <tbody>\n    <tr>\n      <th>0</th>\n      <td>France</td>\n      <td>44.0</td>\n      <td>72000.0</td>\n      <td>No</td>\n    </tr>\n    <tr>\n      <th>5</th>\n      <td>France</td>\n      <td>35.0</td>\n      <td>58000.0</td>\n      <td>Yes</td>\n    </tr>\n    <tr>\n      <th>7</th>\n      <td>France</td>\n      <td>48.0</td>\n      <td>79000.0</td>\n      <td>Yes</td>\n    </tr>\n    <tr>\n      <th>9</th>\n      <td>France</td>\n      <td>37.0</td>\n      <td>67000.0</td>\n      <td>Yes</td>\n    </tr>\n  </tbody>\n</table>\n</div>"
     },
     "metadata": {},
     "execution_count": 28
    }
   ],
   "source": [
    "df[df['Country'] == 'France']"
   ]
  },
  {
   "cell_type": "code",
   "execution_count": 29,
   "metadata": {},
   "outputs": [
    {
     "output_type": "execute_result",
     "data": {
      "text/plain": [
       "   Country   Age   Salary Purchased\n",
       "1    Spain  27.0  48000.0       Yes\n",
       "2  Germany  30.0  54000.0        No\n",
       "3    Spain  38.0  61000.0        No\n",
       "4  Germany  40.0      NaN       Yes\n",
       "6    Spain   NaN  52000.0        No\n",
       "8  Germany  50.0  83000.0        No"
      ],
      "text/html": "<div>\n<style scoped>\n    .dataframe tbody tr th:only-of-type {\n        vertical-align: middle;\n    }\n\n    .dataframe tbody tr th {\n        vertical-align: top;\n    }\n\n    .dataframe thead th {\n        text-align: right;\n    }\n</style>\n<table border=\"1\" class=\"dataframe\">\n  <thead>\n    <tr style=\"text-align: right;\">\n      <th></th>\n      <th>Country</th>\n      <th>Age</th>\n      <th>Salary</th>\n      <th>Purchased</th>\n    </tr>\n  </thead>\n  <tbody>\n    <tr>\n      <th>1</th>\n      <td>Spain</td>\n      <td>27.0</td>\n      <td>48000.0</td>\n      <td>Yes</td>\n    </tr>\n    <tr>\n      <th>2</th>\n      <td>Germany</td>\n      <td>30.0</td>\n      <td>54000.0</td>\n      <td>No</td>\n    </tr>\n    <tr>\n      <th>3</th>\n      <td>Spain</td>\n      <td>38.0</td>\n      <td>61000.0</td>\n      <td>No</td>\n    </tr>\n    <tr>\n      <th>4</th>\n      <td>Germany</td>\n      <td>40.0</td>\n      <td>NaN</td>\n      <td>Yes</td>\n    </tr>\n    <tr>\n      <th>6</th>\n      <td>Spain</td>\n      <td>NaN</td>\n      <td>52000.0</td>\n      <td>No</td>\n    </tr>\n    <tr>\n      <th>8</th>\n      <td>Germany</td>\n      <td>50.0</td>\n      <td>83000.0</td>\n      <td>No</td>\n    </tr>\n  </tbody>\n</table>\n</div>"
     },
     "metadata": {},
     "execution_count": 29
    }
   ],
   "source": [
    "df[(df['Country'] == 'Germany') | (df['Country'] == 'Spain')]"
   ]
  },
  {
   "cell_type": "code",
   "execution_count": 30,
   "metadata": {},
   "outputs": [
    {
     "output_type": "execute_result",
     "data": {
      "text/plain": [
       "   Country   Age   Salary Purchased\n",
       "2  Germany  30.0  54000.0        No\n",
       "8  Germany  50.0  83000.0        No"
      ],
      "text/html": "<div>\n<style scoped>\n    .dataframe tbody tr th:only-of-type {\n        vertical-align: middle;\n    }\n\n    .dataframe tbody tr th {\n        vertical-align: top;\n    }\n\n    .dataframe thead th {\n        text-align: right;\n    }\n</style>\n<table border=\"1\" class=\"dataframe\">\n  <thead>\n    <tr style=\"text-align: right;\">\n      <th></th>\n      <th>Country</th>\n      <th>Age</th>\n      <th>Salary</th>\n      <th>Purchased</th>\n    </tr>\n  </thead>\n  <tbody>\n    <tr>\n      <th>2</th>\n      <td>Germany</td>\n      <td>30.0</td>\n      <td>54000.0</td>\n      <td>No</td>\n    </tr>\n    <tr>\n      <th>8</th>\n      <td>Germany</td>\n      <td>50.0</td>\n      <td>83000.0</td>\n      <td>No</td>\n    </tr>\n  </tbody>\n</table>\n</div>"
     },
     "metadata": {},
     "execution_count": 30
    }
   ],
   "source": [
    "df[(df['Country'] == 'Germany') & (df['Purchased'] == 'No')]"
   ]
  },
  {
   "cell_type": "code",
   "execution_count": 31,
   "metadata": {},
   "outputs": [],
   "source": [
    "def rever(x):\n",
    "    return x[::-1]"
   ]
  },
  {
   "cell_type": "code",
   "execution_count": 32,
   "metadata": {},
   "outputs": [
    {
     "output_type": "execute_result",
     "data": {
      "text/plain": [
       "'narik'"
      ]
     },
     "metadata": {},
     "execution_count": 32
    }
   ],
   "source": [
    "rever('kiran')"
   ]
  },
  {
   "cell_type": "code",
   "execution_count": 33,
   "metadata": {},
   "outputs": [
    {
     "output_type": "execute_result",
     "data": {
      "text/plain": [
       "0     ecnarF\n",
       "1      niapS\n",
       "2    ynamreG\n",
       "3      niapS\n",
       "4    ynamreG\n",
       "5     ecnarF\n",
       "6      niapS\n",
       "7     ecnarF\n",
       "8    ynamreG\n",
       "9     ecnarF\n",
       "Name: Country, dtype: object"
      ]
     },
     "metadata": {},
     "execution_count": 33
    }
   ],
   "source": [
    "df['Country'].apply(rever)"
   ]
  },
  {
   "cell_type": "code",
   "execution_count": 34,
   "metadata": {},
   "outputs": [
    {
     "output_type": "execute_result",
     "data": {
      "text/plain": [
       "dtype('float64')"
      ]
     },
     "metadata": {},
     "execution_count": 34
    }
   ],
   "source": [
    "df.Age.dtypes"
   ]
  },
  {
   "cell_type": "code",
   "execution_count": 35,
   "metadata": {},
   "outputs": [
    {
     "output_type": "execute_result",
     "data": {
      "text/plain": [
       "array(['France', 'Spain', 'Germany'], dtype=object)"
      ]
     },
     "metadata": {},
     "execution_count": 35
    }
   ],
   "source": [
    "df.Country.unique()"
   ]
  },
  {
   "cell_type": "code",
   "execution_count": 36,
   "metadata": {},
   "outputs": [
    {
     "output_type": "execute_result",
     "data": {
      "text/plain": [
       "array([44., 27., 30., 38., 40., 35., nan, 48., 50., 37.])"
      ]
     },
     "metadata": {},
     "execution_count": 36
    }
   ],
   "source": [
    "df.Age.unique()"
   ]
  },
  {
   "cell_type": "code",
   "execution_count": 37,
   "metadata": {},
   "outputs": [
    {
     "output_type": "execute_result",
     "data": {
      "text/plain": [
       "array(['No', 'Yes'], dtype=object)"
      ]
     },
     "metadata": {},
     "execution_count": 37
    }
   ],
   "source": [
    "df.Purchased.unique()"
   ]
  },
  {
   "cell_type": "code",
   "execution_count": 38,
   "metadata": {},
   "outputs": [
    {
     "output_type": "execute_result",
     "data": {
      "text/plain": [
       "France     4\n",
       "Spain      3\n",
       "Germany    3\n",
       "Name: Country, dtype: int64"
      ]
     },
     "metadata": {},
     "execution_count": 38
    }
   ],
   "source": [
    "df.Country.value_counts()"
   ]
  },
  {
   "cell_type": "code",
   "execution_count": 39,
   "metadata": {},
   "outputs": [
    {
     "output_type": "execute_result",
     "data": {
      "text/plain": [
       "France     0.4\n",
       "Spain      0.3\n",
       "Germany    0.3\n",
       "Name: Country, dtype: float64"
      ]
     },
     "metadata": {},
     "execution_count": 39
    }
   ],
   "source": [
    "df.Country.value_counts(normalize=True)"
   ]
  },
  {
   "cell_type": "code",
   "execution_count": 40,
   "metadata": {},
   "outputs": [
    {
     "output_type": "execute_result",
     "data": {
      "text/plain": [
       "Yes    5\n",
       "No     5\n",
       "Name: Purchased, dtype: int64"
      ]
     },
     "metadata": {},
     "execution_count": 40
    }
   ],
   "source": [
    "df.Purchased.value_counts()"
   ]
  },
  {
   "cell_type": "code",
   "execution_count": 41,
   "metadata": {},
   "outputs": [
    {
     "output_type": "execute_result",
     "data": {
      "text/plain": [
       "Yes    0.5\n",
       "No     0.5\n",
       "Name: Purchased, dtype: float64"
      ]
     },
     "metadata": {},
     "execution_count": 41
    }
   ],
   "source": [
    "df.Purchased.value_counts(normalize=True)"
   ]
  },
  {
   "cell_type": "code",
   "execution_count": 42,
   "metadata": {},
   "outputs": [
    {
     "output_type": "execute_result",
     "data": {
      "text/plain": [
       "   Country    Age  Salary  Purchased\n",
       "0    False  False   False      False\n",
       "1    False  False   False      False\n",
       "2    False  False   False      False\n",
       "3    False  False   False      False\n",
       "4    False  False    True      False\n",
       "5    False  False   False      False\n",
       "6    False   True   False      False\n",
       "7    False  False   False      False\n",
       "8    False  False   False      False\n",
       "9    False  False   False      False"
      ],
      "text/html": "<div>\n<style scoped>\n    .dataframe tbody tr th:only-of-type {\n        vertical-align: middle;\n    }\n\n    .dataframe tbody tr th {\n        vertical-align: top;\n    }\n\n    .dataframe thead th {\n        text-align: right;\n    }\n</style>\n<table border=\"1\" class=\"dataframe\">\n  <thead>\n    <tr style=\"text-align: right;\">\n      <th></th>\n      <th>Country</th>\n      <th>Age</th>\n      <th>Salary</th>\n      <th>Purchased</th>\n    </tr>\n  </thead>\n  <tbody>\n    <tr>\n      <th>0</th>\n      <td>False</td>\n      <td>False</td>\n      <td>False</td>\n      <td>False</td>\n    </tr>\n    <tr>\n      <th>1</th>\n      <td>False</td>\n      <td>False</td>\n      <td>False</td>\n      <td>False</td>\n    </tr>\n    <tr>\n      <th>2</th>\n      <td>False</td>\n      <td>False</td>\n      <td>False</td>\n      <td>False</td>\n    </tr>\n    <tr>\n      <th>3</th>\n      <td>False</td>\n      <td>False</td>\n      <td>False</td>\n      <td>False</td>\n    </tr>\n    <tr>\n      <th>4</th>\n      <td>False</td>\n      <td>False</td>\n      <td>True</td>\n      <td>False</td>\n    </tr>\n    <tr>\n      <th>5</th>\n      <td>False</td>\n      <td>False</td>\n      <td>False</td>\n      <td>False</td>\n    </tr>\n    <tr>\n      <th>6</th>\n      <td>False</td>\n      <td>True</td>\n      <td>False</td>\n      <td>False</td>\n    </tr>\n    <tr>\n      <th>7</th>\n      <td>False</td>\n      <td>False</td>\n      <td>False</td>\n      <td>False</td>\n    </tr>\n    <tr>\n      <th>8</th>\n      <td>False</td>\n      <td>False</td>\n      <td>False</td>\n      <td>False</td>\n    </tr>\n    <tr>\n      <th>9</th>\n      <td>False</td>\n      <td>False</td>\n      <td>False</td>\n      <td>False</td>\n    </tr>\n  </tbody>\n</table>\n</div>"
     },
     "metadata": {},
     "execution_count": 42
    }
   ],
   "source": [
    "df.isnull()"
   ]
  },
  {
   "cell_type": "code",
   "execution_count": 43,
   "metadata": {},
   "outputs": [
    {
     "output_type": "execute_result",
     "data": {
      "text/plain": [
       "True"
      ]
     },
     "metadata": {},
     "execution_count": 43
    }
   ],
   "source": [
    "df.isnull().any().any()"
   ]
  },
  {
   "cell_type": "code",
   "execution_count": 44,
   "metadata": {},
   "outputs": [
    {
     "output_type": "execute_result",
     "data": {
      "text/plain": [
       "True"
      ]
     },
     "metadata": {},
     "execution_count": 44
    }
   ],
   "source": [
    "df.isnull().values.any()"
   ]
  },
  {
   "cell_type": "code",
   "execution_count": 45,
   "metadata": {},
   "outputs": [
    {
     "output_type": "execute_result",
     "data": {
      "text/plain": [
       "2"
      ]
     },
     "metadata": {},
     "execution_count": 45
    }
   ],
   "source": [
    "df.isnull().values.sum()"
   ]
  },
  {
   "cell_type": "code",
   "execution_count": 46,
   "metadata": {},
   "outputs": [
    {
     "output_type": "execute_result",
     "data": {
      "text/plain": [
       "Country      False\n",
       "Age           True\n",
       "Salary        True\n",
       "Purchased    False\n",
       "dtype: bool"
      ]
     },
     "metadata": {},
     "execution_count": 46
    }
   ],
   "source": [
    "df.isnull().any()"
   ]
  },
  {
   "cell_type": "code",
   "execution_count": 47,
   "metadata": {},
   "outputs": [
    {
     "output_type": "execute_result",
     "data": {
      "text/plain": [
       "Country      0\n",
       "Age          1\n",
       "Salary       1\n",
       "Purchased    0\n",
       "dtype: int64"
      ]
     },
     "metadata": {},
     "execution_count": 47
    }
   ],
   "source": [
    "df.isnull().sum()"
   ]
  },
  {
   "cell_type": "code",
   "execution_count": 48,
   "metadata": {},
   "outputs": [
    {
     "output_type": "execute_result",
     "data": {
      "text/plain": [
       "   Country   Age   Salary Purchased\n",
       "4  Germany  40.0      NaN       Yes\n",
       "6    Spain   NaN  52000.0        No"
      ],
      "text/html": "<div>\n<style scoped>\n    .dataframe tbody tr th:only-of-type {\n        vertical-align: middle;\n    }\n\n    .dataframe tbody tr th {\n        vertical-align: top;\n    }\n\n    .dataframe thead th {\n        text-align: right;\n    }\n</style>\n<table border=\"1\" class=\"dataframe\">\n  <thead>\n    <tr style=\"text-align: right;\">\n      <th></th>\n      <th>Country</th>\n      <th>Age</th>\n      <th>Salary</th>\n      <th>Purchased</th>\n    </tr>\n  </thead>\n  <tbody>\n    <tr>\n      <th>4</th>\n      <td>Germany</td>\n      <td>40.0</td>\n      <td>NaN</td>\n      <td>Yes</td>\n    </tr>\n    <tr>\n      <th>6</th>\n      <td>Spain</td>\n      <td>NaN</td>\n      <td>52000.0</td>\n      <td>No</td>\n    </tr>\n  </tbody>\n</table>\n</div>"
     },
     "metadata": {},
     "execution_count": 48
    }
   ],
   "source": [
    "df[df.isnull().any(axis=1)]"
   ]
  },
  {
   "cell_type": "code",
   "execution_count": 49,
   "metadata": {},
   "outputs": [
    {
     "output_type": "execute_result",
     "data": {
      "text/plain": [
       "38.77777777777778"
      ]
     },
     "metadata": {},
     "execution_count": 49
    }
   ],
   "source": [
    "df.Age.mean()"
   ]
  },
  {
   "cell_type": "code",
   "execution_count": 50,
   "metadata": {},
   "outputs": [
    {
     "output_type": "execute_result",
     "data": {
      "text/plain": [
       "63777.77777777778"
      ]
     },
     "metadata": {},
     "execution_count": 50
    }
   ],
   "source": [
    "df.Salary.mean()"
   ]
  },
  {
   "cell_type": "code",
   "execution_count": 51,
   "metadata": {},
   "outputs": [],
   "source": [
    "dataset = df"
   ]
  },
  {
   "cell_type": "code",
   "execution_count": 52,
   "metadata": {},
   "outputs": [],
   "source": [
    "dataset = dataset.fillna({\"Age\":38, \"Salary\":63777})"
   ]
  },
  {
   "cell_type": "code",
   "execution_count": 53,
   "metadata": {},
   "outputs": [
    {
     "output_type": "execute_result",
     "data": {
      "text/plain": [
       "   Country   Age   Salary Purchased\n",
       "0   France  44.0  72000.0        No\n",
       "1    Spain  27.0  48000.0       Yes\n",
       "2  Germany  30.0  54000.0        No\n",
       "3    Spain  38.0  61000.0        No\n",
       "4  Germany  40.0  63777.0       Yes\n",
       "5   France  35.0  58000.0       Yes\n",
       "6    Spain  38.0  52000.0        No\n",
       "7   France  48.0  79000.0       Yes\n",
       "8  Germany  50.0  83000.0        No\n",
       "9   France  37.0  67000.0       Yes"
      ],
      "text/html": "<div>\n<style scoped>\n    .dataframe tbody tr th:only-of-type {\n        vertical-align: middle;\n    }\n\n    .dataframe tbody tr th {\n        vertical-align: top;\n    }\n\n    .dataframe thead th {\n        text-align: right;\n    }\n</style>\n<table border=\"1\" class=\"dataframe\">\n  <thead>\n    <tr style=\"text-align: right;\">\n      <th></th>\n      <th>Country</th>\n      <th>Age</th>\n      <th>Salary</th>\n      <th>Purchased</th>\n    </tr>\n  </thead>\n  <tbody>\n    <tr>\n      <th>0</th>\n      <td>France</td>\n      <td>44.0</td>\n      <td>72000.0</td>\n      <td>No</td>\n    </tr>\n    <tr>\n      <th>1</th>\n      <td>Spain</td>\n      <td>27.0</td>\n      <td>48000.0</td>\n      <td>Yes</td>\n    </tr>\n    <tr>\n      <th>2</th>\n      <td>Germany</td>\n      <td>30.0</td>\n      <td>54000.0</td>\n      <td>No</td>\n    </tr>\n    <tr>\n      <th>3</th>\n      <td>Spain</td>\n      <td>38.0</td>\n      <td>61000.0</td>\n      <td>No</td>\n    </tr>\n    <tr>\n      <th>4</th>\n      <td>Germany</td>\n      <td>40.0</td>\n      <td>63777.0</td>\n      <td>Yes</td>\n    </tr>\n    <tr>\n      <th>5</th>\n      <td>France</td>\n      <td>35.0</td>\n      <td>58000.0</td>\n      <td>Yes</td>\n    </tr>\n    <tr>\n      <th>6</th>\n      <td>Spain</td>\n      <td>38.0</td>\n      <td>52000.0</td>\n      <td>No</td>\n    </tr>\n    <tr>\n      <th>7</th>\n      <td>France</td>\n      <td>48.0</td>\n      <td>79000.0</td>\n      <td>Yes</td>\n    </tr>\n    <tr>\n      <th>8</th>\n      <td>Germany</td>\n      <td>50.0</td>\n      <td>83000.0</td>\n      <td>No</td>\n    </tr>\n    <tr>\n      <th>9</th>\n      <td>France</td>\n      <td>37.0</td>\n      <td>67000.0</td>\n      <td>Yes</td>\n    </tr>\n  </tbody>\n</table>\n</div>"
     },
     "metadata": {},
     "execution_count": 53
    }
   ],
   "source": [
    "dataset"
   ]
  },
  {
   "cell_type": "code",
   "execution_count": 54,
   "metadata": {},
   "outputs": [],
   "source": [
    "def age_gr(x):\n",
    "    if x<=40:\n",
    "        return '30S'\n",
    "    elif  x > 40 and x <=50 :\n",
    "        return '50s'"
   ]
  },
  {
   "cell_type": "code",
   "execution_count": 55,
   "metadata": {},
   "outputs": [
    {
     "output_type": "execute_result",
     "data": {
      "text/plain": [
       "'50s'"
      ]
     },
     "metadata": {},
     "execution_count": 55
    }
   ],
   "source": [
    "age_gr(50.0)"
   ]
  },
  {
   "cell_type": "code",
   "execution_count": 56,
   "metadata": {},
   "outputs": [
    {
     "output_type": "execute_result",
     "data": {
      "text/plain": [
       "0    50s\n",
       "1    30S\n",
       "2    30S\n",
       "3    30S\n",
       "4    30S\n",
       "5    30S\n",
       "6    30S\n",
       "7    50s\n",
       "8    50s\n",
       "9    30S\n",
       "Name: Age, dtype: object"
      ]
     },
     "metadata": {},
     "execution_count": 56
    }
   ],
   "source": [
    "dataset['Age'].apply(age_gr)"
   ]
  },
  {
   "cell_type": "code",
   "execution_count": 57,
   "metadata": {},
   "outputs": [
    {
     "output_type": "stream",
     "name": "stdout",
     "text": [
      "30\n"
     ]
    }
   ],
   "source": [
    "x = lambda a, b : a * b\n",
    "print(x(5, 6))"
   ]
  },
  {
   "cell_type": "code",
   "execution_count": 58,
   "metadata": {},
   "outputs": [
    {
     "output_type": "execute_result",
     "data": {
      "text/plain": [
       "0    6000.000000\n",
       "1    4000.000000\n",
       "2    4500.000000\n",
       "3    5083.333333\n",
       "4    5314.750000\n",
       "5    4833.333333\n",
       "6    4333.333333\n",
       "7    6583.333333\n",
       "8    6916.666667\n",
       "9    5583.333333\n",
       "Name: Salary, dtype: float64"
      ]
     },
     "metadata": {},
     "execution_count": 58
    }
   ],
   "source": [
    "dataset['Salary'].apply(lambda x:x/12)"
   ]
  },
  {
   "cell_type": "code",
   "execution_count": 59,
   "metadata": {},
   "outputs": [],
   "source": [
    "def quality(Age,Sal):\n",
    "    if Sal/Age  > 1500:\n",
    "        return \"Generous\"\n",
    "    else:\n",
    "        return \"Other\""
   ]
  },
  {
   "cell_type": "code",
   "execution_count": 60,
   "metadata": {},
   "outputs": [
    {
     "output_type": "execute_result",
     "data": {
      "text/plain": [
       "0    Generous\n",
       "1    Generous\n",
       "2    Generous\n",
       "3    Generous\n",
       "4    Generous\n",
       "5    Generous\n",
       "6       Other\n",
       "7    Generous\n",
       "8    Generous\n",
       "9    Generous\n",
       "dtype: object"
      ]
     },
     "metadata": {},
     "execution_count": 60
    }
   ],
   "source": [
    "dataset[['Salary', 'Age']].apply(lambda dataset: quality(dataset['Age'],dataset['Salary']),axis=1)"
   ]
  },
  {
   "cell_type": "code",
   "execution_count": 61,
   "metadata": {},
   "outputs": [
    {
     "output_type": "execute_result",
     "data": {
      "text/plain": [
       "0    Generous\n",
       "1    Generous\n",
       "2    Generous\n",
       "3    Generous\n",
       "4    Generous\n",
       "5    Generous\n",
       "6       Other\n",
       "7    Generous\n",
       "8    Generous\n",
       "9    Generous\n",
       "dtype: object"
      ]
     },
     "metadata": {},
     "execution_count": 61
    }
   ],
   "source": [
    "dataset[['Salary', 'Age']].apply(lambda dataset: quality(dataset['Age'],dataset['Salary']),axis=1)"
   ]
  },
  {
   "cell_type": "code",
   "execution_count": 62,
   "metadata": {},
   "outputs": [
    {
     "output_type": "execute_result",
     "data": {
      "text/plain": [
       "   Country   Age   Salary Purchased   quality\n",
       "0   France  44.0  72000.0        No  Generous\n",
       "1    Spain  27.0  48000.0       Yes  Generous\n",
       "2  Germany  30.0  54000.0        No  Generous\n",
       "3    Spain  38.0  61000.0        No  Generous\n",
       "4  Germany  40.0  63777.0       Yes  Generous\n",
       "5   France  35.0  58000.0       Yes  Generous\n",
       "6    Spain  38.0  52000.0        No     Other\n",
       "7   France  48.0  79000.0       Yes  Generous\n",
       "8  Germany  50.0  83000.0        No  Generous\n",
       "9   France  37.0  67000.0       Yes  Generous"
      ],
      "text/html": "<div>\n<style scoped>\n    .dataframe tbody tr th:only-of-type {\n        vertical-align: middle;\n    }\n\n    .dataframe tbody tr th {\n        vertical-align: top;\n    }\n\n    .dataframe thead th {\n        text-align: right;\n    }\n</style>\n<table border=\"1\" class=\"dataframe\">\n  <thead>\n    <tr style=\"text-align: right;\">\n      <th></th>\n      <th>Country</th>\n      <th>Age</th>\n      <th>Salary</th>\n      <th>Purchased</th>\n      <th>quality</th>\n    </tr>\n  </thead>\n  <tbody>\n    <tr>\n      <th>0</th>\n      <td>France</td>\n      <td>44.0</td>\n      <td>72000.0</td>\n      <td>No</td>\n      <td>Generous</td>\n    </tr>\n    <tr>\n      <th>1</th>\n      <td>Spain</td>\n      <td>27.0</td>\n      <td>48000.0</td>\n      <td>Yes</td>\n      <td>Generous</td>\n    </tr>\n    <tr>\n      <th>2</th>\n      <td>Germany</td>\n      <td>30.0</td>\n      <td>54000.0</td>\n      <td>No</td>\n      <td>Generous</td>\n    </tr>\n    <tr>\n      <th>3</th>\n      <td>Spain</td>\n      <td>38.0</td>\n      <td>61000.0</td>\n      <td>No</td>\n      <td>Generous</td>\n    </tr>\n    <tr>\n      <th>4</th>\n      <td>Germany</td>\n      <td>40.0</td>\n      <td>63777.0</td>\n      <td>Yes</td>\n      <td>Generous</td>\n    </tr>\n    <tr>\n      <th>5</th>\n      <td>France</td>\n      <td>35.0</td>\n      <td>58000.0</td>\n      <td>Yes</td>\n      <td>Generous</td>\n    </tr>\n    <tr>\n      <th>6</th>\n      <td>Spain</td>\n      <td>38.0</td>\n      <td>52000.0</td>\n      <td>No</td>\n      <td>Other</td>\n    </tr>\n    <tr>\n      <th>7</th>\n      <td>France</td>\n      <td>48.0</td>\n      <td>79000.0</td>\n      <td>Yes</td>\n      <td>Generous</td>\n    </tr>\n    <tr>\n      <th>8</th>\n      <td>Germany</td>\n      <td>50.0</td>\n      <td>83000.0</td>\n      <td>No</td>\n      <td>Generous</td>\n    </tr>\n    <tr>\n      <th>9</th>\n      <td>France</td>\n      <td>37.0</td>\n      <td>67000.0</td>\n      <td>Yes</td>\n      <td>Generous</td>\n    </tr>\n  </tbody>\n</table>\n</div>"
     },
     "metadata": {},
     "execution_count": 62
    }
   ],
   "source": [
    "dataset['quality'] = np.vectorize(quality)(dataset['Age'], dataset['Salary'])\n",
    "dataset"
   ]
  },
  {
   "cell_type": "code",
   "execution_count": 63,
   "metadata": {},
   "outputs": [
    {
     "output_type": "execute_result",
     "data": {
      "text/plain": [
       "    Age   Salary Purchased  Country_France  Country_Germany  Country_Spain\n",
       "0  44.0  72000.0        No               1                0              0\n",
       "1  27.0  48000.0       Yes               0                0              1\n",
       "2  30.0  54000.0        No               0                1              0\n",
       "3  38.0  61000.0        No               0                0              1\n",
       "4  40.0      NaN       Yes               0                1              0\n",
       "5  35.0  58000.0       Yes               1                0              0\n",
       "6   NaN  52000.0        No               0                0              1\n",
       "7  48.0  79000.0       Yes               1                0              0\n",
       "8  50.0  83000.0        No               0                1              0\n",
       "9  37.0  67000.0       Yes               1                0              0"
      ],
      "text/html": "<div>\n<style scoped>\n    .dataframe tbody tr th:only-of-type {\n        vertical-align: middle;\n    }\n\n    .dataframe tbody tr th {\n        vertical-align: top;\n    }\n\n    .dataframe thead th {\n        text-align: right;\n    }\n</style>\n<table border=\"1\" class=\"dataframe\">\n  <thead>\n    <tr style=\"text-align: right;\">\n      <th></th>\n      <th>Age</th>\n      <th>Salary</th>\n      <th>Purchased</th>\n      <th>Country_France</th>\n      <th>Country_Germany</th>\n      <th>Country_Spain</th>\n    </tr>\n  </thead>\n  <tbody>\n    <tr>\n      <th>0</th>\n      <td>44.0</td>\n      <td>72000.0</td>\n      <td>No</td>\n      <td>1</td>\n      <td>0</td>\n      <td>0</td>\n    </tr>\n    <tr>\n      <th>1</th>\n      <td>27.0</td>\n      <td>48000.0</td>\n      <td>Yes</td>\n      <td>0</td>\n      <td>0</td>\n      <td>1</td>\n    </tr>\n    <tr>\n      <th>2</th>\n      <td>30.0</td>\n      <td>54000.0</td>\n      <td>No</td>\n      <td>0</td>\n      <td>1</td>\n      <td>0</td>\n    </tr>\n    <tr>\n      <th>3</th>\n      <td>38.0</td>\n      <td>61000.0</td>\n      <td>No</td>\n      <td>0</td>\n      <td>0</td>\n      <td>1</td>\n    </tr>\n    <tr>\n      <th>4</th>\n      <td>40.0</td>\n      <td>NaN</td>\n      <td>Yes</td>\n      <td>0</td>\n      <td>1</td>\n      <td>0</td>\n    </tr>\n    <tr>\n      <th>5</th>\n      <td>35.0</td>\n      <td>58000.0</td>\n      <td>Yes</td>\n      <td>1</td>\n      <td>0</td>\n      <td>0</td>\n    </tr>\n    <tr>\n      <th>6</th>\n      <td>NaN</td>\n      <td>52000.0</td>\n      <td>No</td>\n      <td>0</td>\n      <td>0</td>\n      <td>1</td>\n    </tr>\n    <tr>\n      <th>7</th>\n      <td>48.0</td>\n      <td>79000.0</td>\n      <td>Yes</td>\n      <td>1</td>\n      <td>0</td>\n      <td>0</td>\n    </tr>\n    <tr>\n      <th>8</th>\n      <td>50.0</td>\n      <td>83000.0</td>\n      <td>No</td>\n      <td>0</td>\n      <td>1</td>\n      <td>0</td>\n    </tr>\n    <tr>\n      <th>9</th>\n      <td>37.0</td>\n      <td>67000.0</td>\n      <td>Yes</td>\n      <td>1</td>\n      <td>0</td>\n      <td>0</td>\n    </tr>\n  </tbody>\n</table>\n</div>"
     },
     "metadata": {},
     "execution_count": 63
    }
   ],
   "source": [
    "dataset = pd.get_dummies(df, columns=[\"Country\"])\n",
    "dataset"
   ]
  },
  {
   "cell_type": "code",
   "execution_count": 64,
   "metadata": {},
   "outputs": [
    {
     "output_type": "execute_result",
     "data": {
      "text/plain": [
       "             Age        Salary  Country_France  Country_Germany  Country_Spain\n",
       "count   9.000000      9.000000       10.000000        10.000000      10.000000\n",
       "mean   38.777778  63777.777778        0.400000         0.300000       0.300000\n",
       "std     7.693793  12265.579662        0.516398         0.483046       0.483046\n",
       "min    27.000000  48000.000000        0.000000         0.000000       0.000000\n",
       "25%    35.000000  54000.000000        0.000000         0.000000       0.000000\n",
       "50%    38.000000  61000.000000        0.000000         0.000000       0.000000\n",
       "75%    44.000000  72000.000000        1.000000         0.750000       0.750000\n",
       "max    50.000000  83000.000000        1.000000         1.000000       1.000000"
      ],
      "text/html": "<div>\n<style scoped>\n    .dataframe tbody tr th:only-of-type {\n        vertical-align: middle;\n    }\n\n    .dataframe tbody tr th {\n        vertical-align: top;\n    }\n\n    .dataframe thead th {\n        text-align: right;\n    }\n</style>\n<table border=\"1\" class=\"dataframe\">\n  <thead>\n    <tr style=\"text-align: right;\">\n      <th></th>\n      <th>Age</th>\n      <th>Salary</th>\n      <th>Country_France</th>\n      <th>Country_Germany</th>\n      <th>Country_Spain</th>\n    </tr>\n  </thead>\n  <tbody>\n    <tr>\n      <th>count</th>\n      <td>9.000000</td>\n      <td>9.000000</td>\n      <td>10.000000</td>\n      <td>10.000000</td>\n      <td>10.000000</td>\n    </tr>\n    <tr>\n      <th>mean</th>\n      <td>38.777778</td>\n      <td>63777.777778</td>\n      <td>0.400000</td>\n      <td>0.300000</td>\n      <td>0.300000</td>\n    </tr>\n    <tr>\n      <th>std</th>\n      <td>7.693793</td>\n      <td>12265.579662</td>\n      <td>0.516398</td>\n      <td>0.483046</td>\n      <td>0.483046</td>\n    </tr>\n    <tr>\n      <th>min</th>\n      <td>27.000000</td>\n      <td>48000.000000</td>\n      <td>0.000000</td>\n      <td>0.000000</td>\n      <td>0.000000</td>\n    </tr>\n    <tr>\n      <th>25%</th>\n      <td>35.000000</td>\n      <td>54000.000000</td>\n      <td>0.000000</td>\n      <td>0.000000</td>\n      <td>0.000000</td>\n    </tr>\n    <tr>\n      <th>50%</th>\n      <td>38.000000</td>\n      <td>61000.000000</td>\n      <td>0.000000</td>\n      <td>0.000000</td>\n      <td>0.000000</td>\n    </tr>\n    <tr>\n      <th>75%</th>\n      <td>44.000000</td>\n      <td>72000.000000</td>\n      <td>1.000000</td>\n      <td>0.750000</td>\n      <td>0.750000</td>\n    </tr>\n    <tr>\n      <th>max</th>\n      <td>50.000000</td>\n      <td>83000.000000</td>\n      <td>1.000000</td>\n      <td>1.000000</td>\n      <td>1.000000</td>\n    </tr>\n  </tbody>\n</table>\n</div>"
     },
     "metadata": {},
     "execution_count": 64
    }
   ],
   "source": [
    "dataset.describe()"
   ]
  },
  {
   "cell_type": "code",
   "execution_count": 65,
   "metadata": {},
   "outputs": [
    {
     "output_type": "execute_result",
     "data": {
      "text/plain": [
       "    Age   Salary  Country_France  Country_Germany  Country_Spain  \\\n",
       "0  44.0  72000.0               1                0              0   \n",
       "1  27.0  48000.0               0                0              1   \n",
       "2  30.0  54000.0               0                1              0   \n",
       "3  38.0  61000.0               0                0              1   \n",
       "4  40.0      NaN               0                1              0   \n",
       "5  35.0  58000.0               1                0              0   \n",
       "6   NaN  52000.0               0                0              1   \n",
       "7  48.0  79000.0               1                0              0   \n",
       "8  50.0  83000.0               0                1              0   \n",
       "9  37.0  67000.0               1                0              0   \n",
       "\n",
       "   Purchased_No  Purchased_Yes  \n",
       "0             1              0  \n",
       "1             0              1  \n",
       "2             1              0  \n",
       "3             1              0  \n",
       "4             0              1  \n",
       "5             0              1  \n",
       "6             1              0  \n",
       "7             0              1  \n",
       "8             1              0  \n",
       "9             0              1  "
      ],
      "text/html": "<div>\n<style scoped>\n    .dataframe tbody tr th:only-of-type {\n        vertical-align: middle;\n    }\n\n    .dataframe tbody tr th {\n        vertical-align: top;\n    }\n\n    .dataframe thead th {\n        text-align: right;\n    }\n</style>\n<table border=\"1\" class=\"dataframe\">\n  <thead>\n    <tr style=\"text-align: right;\">\n      <th></th>\n      <th>Age</th>\n      <th>Salary</th>\n      <th>Country_France</th>\n      <th>Country_Germany</th>\n      <th>Country_Spain</th>\n      <th>Purchased_No</th>\n      <th>Purchased_Yes</th>\n    </tr>\n  </thead>\n  <tbody>\n    <tr>\n      <th>0</th>\n      <td>44.0</td>\n      <td>72000.0</td>\n      <td>1</td>\n      <td>0</td>\n      <td>0</td>\n      <td>1</td>\n      <td>0</td>\n    </tr>\n    <tr>\n      <th>1</th>\n      <td>27.0</td>\n      <td>48000.0</td>\n      <td>0</td>\n      <td>0</td>\n      <td>1</td>\n      <td>0</td>\n      <td>1</td>\n    </tr>\n    <tr>\n      <th>2</th>\n      <td>30.0</td>\n      <td>54000.0</td>\n      <td>0</td>\n      <td>1</td>\n      <td>0</td>\n      <td>1</td>\n      <td>0</td>\n    </tr>\n    <tr>\n      <th>3</th>\n      <td>38.0</td>\n      <td>61000.0</td>\n      <td>0</td>\n      <td>0</td>\n      <td>1</td>\n      <td>1</td>\n      <td>0</td>\n    </tr>\n    <tr>\n      <th>4</th>\n      <td>40.0</td>\n      <td>NaN</td>\n      <td>0</td>\n      <td>1</td>\n      <td>0</td>\n      <td>0</td>\n      <td>1</td>\n    </tr>\n    <tr>\n      <th>5</th>\n      <td>35.0</td>\n      <td>58000.0</td>\n      <td>1</td>\n      <td>0</td>\n      <td>0</td>\n      <td>0</td>\n      <td>1</td>\n    </tr>\n    <tr>\n      <th>6</th>\n      <td>NaN</td>\n      <td>52000.0</td>\n      <td>0</td>\n      <td>0</td>\n      <td>1</td>\n      <td>1</td>\n      <td>0</td>\n    </tr>\n    <tr>\n      <th>7</th>\n      <td>48.0</td>\n      <td>79000.0</td>\n      <td>1</td>\n      <td>0</td>\n      <td>0</td>\n      <td>0</td>\n      <td>1</td>\n    </tr>\n    <tr>\n      <th>8</th>\n      <td>50.0</td>\n      <td>83000.0</td>\n      <td>0</td>\n      <td>1</td>\n      <td>0</td>\n      <td>1</td>\n      <td>0</td>\n    </tr>\n    <tr>\n      <th>9</th>\n      <td>37.0</td>\n      <td>67000.0</td>\n      <td>1</td>\n      <td>0</td>\n      <td>0</td>\n      <td>0</td>\n      <td>1</td>\n    </tr>\n  </tbody>\n</table>\n</div>"
     },
     "metadata": {},
     "execution_count": 65
    }
   ],
   "source": [
    "pd.get_dummies(df, columns=[\"Country\", \"Purchased\"])"
   ]
  },
  {
   "cell_type": "code",
   "execution_count": 66,
   "metadata": {},
   "outputs": [],
   "source": [
    "assign_label = {\"Purchased\":{\"Yes\": 1, \"No\": 0}}"
   ]
  },
  {
   "cell_type": "code",
   "execution_count": 67,
   "metadata": {},
   "outputs": [
    {
     "output_type": "execute_result",
     "data": {
      "text/plain": [
       "    Age   Salary Purchased  Country_France  Country_Germany  Country_Spain\n",
       "0  44.0  72000.0        No               1                0              0\n",
       "1  27.0  48000.0       Yes               0                0              1\n",
       "2  30.0  54000.0        No               0                1              0\n",
       "3  38.0  61000.0        No               0                0              1\n",
       "4  40.0      NaN       Yes               0                1              0\n",
       "5  35.0  58000.0       Yes               1                0              0\n",
       "6   NaN  52000.0        No               0                0              1\n",
       "7  48.0  79000.0       Yes               1                0              0\n",
       "8  50.0  83000.0        No               0                1              0\n",
       "9  37.0  67000.0       Yes               1                0              0"
      ],
      "text/html": "<div>\n<style scoped>\n    .dataframe tbody tr th:only-of-type {\n        vertical-align: middle;\n    }\n\n    .dataframe tbody tr th {\n        vertical-align: top;\n    }\n\n    .dataframe thead th {\n        text-align: right;\n    }\n</style>\n<table border=\"1\" class=\"dataframe\">\n  <thead>\n    <tr style=\"text-align: right;\">\n      <th></th>\n      <th>Age</th>\n      <th>Salary</th>\n      <th>Purchased</th>\n      <th>Country_France</th>\n      <th>Country_Germany</th>\n      <th>Country_Spain</th>\n    </tr>\n  </thead>\n  <tbody>\n    <tr>\n      <th>0</th>\n      <td>44.0</td>\n      <td>72000.0</td>\n      <td>No</td>\n      <td>1</td>\n      <td>0</td>\n      <td>0</td>\n    </tr>\n    <tr>\n      <th>1</th>\n      <td>27.0</td>\n      <td>48000.0</td>\n      <td>Yes</td>\n      <td>0</td>\n      <td>0</td>\n      <td>1</td>\n    </tr>\n    <tr>\n      <th>2</th>\n      <td>30.0</td>\n      <td>54000.0</td>\n      <td>No</td>\n      <td>0</td>\n      <td>1</td>\n      <td>0</td>\n    </tr>\n    <tr>\n      <th>3</th>\n      <td>38.0</td>\n      <td>61000.0</td>\n      <td>No</td>\n      <td>0</td>\n      <td>0</td>\n      <td>1</td>\n    </tr>\n    <tr>\n      <th>4</th>\n      <td>40.0</td>\n      <td>NaN</td>\n      <td>Yes</td>\n      <td>0</td>\n      <td>1</td>\n      <td>0</td>\n    </tr>\n    <tr>\n      <th>5</th>\n      <td>35.0</td>\n      <td>58000.0</td>\n      <td>Yes</td>\n      <td>1</td>\n      <td>0</td>\n      <td>0</td>\n    </tr>\n    <tr>\n      <th>6</th>\n      <td>NaN</td>\n      <td>52000.0</td>\n      <td>No</td>\n      <td>0</td>\n      <td>0</td>\n      <td>1</td>\n    </tr>\n    <tr>\n      <th>7</th>\n      <td>48.0</td>\n      <td>79000.0</td>\n      <td>Yes</td>\n      <td>1</td>\n      <td>0</td>\n      <td>0</td>\n    </tr>\n    <tr>\n      <th>8</th>\n      <td>50.0</td>\n      <td>83000.0</td>\n      <td>No</td>\n      <td>0</td>\n      <td>1</td>\n      <td>0</td>\n    </tr>\n    <tr>\n      <th>9</th>\n      <td>37.0</td>\n      <td>67000.0</td>\n      <td>Yes</td>\n      <td>1</td>\n      <td>0</td>\n      <td>0</td>\n    </tr>\n  </tbody>\n</table>\n</div>"
     },
     "metadata": {},
     "execution_count": 67
    }
   ],
   "source": [
    "dataset"
   ]
  },
  {
   "cell_type": "code",
   "execution_count": 68,
   "metadata": {},
   "outputs": [],
   "source": [
    "df.replace(assign_label, inplace=True)\n"
   ]
  },
  {
   "cell_type": "code",
   "execution_count": 69,
   "metadata": {},
   "outputs": [
    {
     "output_type": "execute_result",
     "data": {
      "text/plain": [
       "   Country   Age   Salary  Purchased\n",
       "0   France  44.0  72000.0          0\n",
       "1    Spain  27.0  48000.0          1\n",
       "2  Germany  30.0  54000.0          0\n",
       "3    Spain  38.0  61000.0          0\n",
       "4  Germany  40.0      NaN          1\n",
       "5   France  35.0  58000.0          1\n",
       "6    Spain   NaN  52000.0          0\n",
       "7   France  48.0  79000.0          1\n",
       "8  Germany  50.0  83000.0          0\n",
       "9   France  37.0  67000.0          1"
      ],
      "text/html": "<div>\n<style scoped>\n    .dataframe tbody tr th:only-of-type {\n        vertical-align: middle;\n    }\n\n    .dataframe tbody tr th {\n        vertical-align: top;\n    }\n\n    .dataframe thead th {\n        text-align: right;\n    }\n</style>\n<table border=\"1\" class=\"dataframe\">\n  <thead>\n    <tr style=\"text-align: right;\">\n      <th></th>\n      <th>Country</th>\n      <th>Age</th>\n      <th>Salary</th>\n      <th>Purchased</th>\n    </tr>\n  </thead>\n  <tbody>\n    <tr>\n      <th>0</th>\n      <td>France</td>\n      <td>44.0</td>\n      <td>72000.0</td>\n      <td>0</td>\n    </tr>\n    <tr>\n      <th>1</th>\n      <td>Spain</td>\n      <td>27.0</td>\n      <td>48000.0</td>\n      <td>1</td>\n    </tr>\n    <tr>\n      <th>2</th>\n      <td>Germany</td>\n      <td>30.0</td>\n      <td>54000.0</td>\n      <td>0</td>\n    </tr>\n    <tr>\n      <th>3</th>\n      <td>Spain</td>\n      <td>38.0</td>\n      <td>61000.0</td>\n      <td>0</td>\n    </tr>\n    <tr>\n      <th>4</th>\n      <td>Germany</td>\n      <td>40.0</td>\n      <td>NaN</td>\n      <td>1</td>\n    </tr>\n    <tr>\n      <th>5</th>\n      <td>France</td>\n      <td>35.0</td>\n      <td>58000.0</td>\n      <td>1</td>\n    </tr>\n    <tr>\n      <th>6</th>\n      <td>Spain</td>\n      <td>NaN</td>\n      <td>52000.0</td>\n      <td>0</td>\n    </tr>\n    <tr>\n      <th>7</th>\n      <td>France</td>\n      <td>48.0</td>\n      <td>79000.0</td>\n      <td>1</td>\n    </tr>\n    <tr>\n      <th>8</th>\n      <td>Germany</td>\n      <td>50.0</td>\n      <td>83000.0</td>\n      <td>0</td>\n    </tr>\n    <tr>\n      <th>9</th>\n      <td>France</td>\n      <td>37.0</td>\n      <td>67000.0</td>\n      <td>1</td>\n    </tr>\n  </tbody>\n</table>\n</div>"
     },
     "metadata": {},
     "execution_count": 69
    }
   ],
   "source": [
    "df"
   ]
  },
  {
   "cell_type": "code",
   "execution_count": 70,
   "metadata": {},
   "outputs": [
    {
     "output_type": "execute_result",
     "data": {
      "text/plain": [
       "    Age   Salary Purchased  Country_France  Country_Germany  Country_Spain\n",
       "0  44.0  72000.0        No               1                0              0\n",
       "1  27.0  48000.0       Yes               0                0              1\n",
       "2  30.0  54000.0        No               0                1              0\n",
       "3  38.0  61000.0        No               0                0              1\n",
       "4  40.0      NaN       Yes               0                1              0\n",
       "5  35.0  58000.0       Yes               1                0              0\n",
       "6   NaN  52000.0        No               0                0              1\n",
       "7  48.0  79000.0       Yes               1                0              0\n",
       "8  50.0  83000.0        No               0                1              0\n",
       "9  37.0  67000.0       Yes               1                0              0"
      ],
      "text/html": "<div>\n<style scoped>\n    .dataframe tbody tr th:only-of-type {\n        vertical-align: middle;\n    }\n\n    .dataframe tbody tr th {\n        vertical-align: top;\n    }\n\n    .dataframe thead th {\n        text-align: right;\n    }\n</style>\n<table border=\"1\" class=\"dataframe\">\n  <thead>\n    <tr style=\"text-align: right;\">\n      <th></th>\n      <th>Age</th>\n      <th>Salary</th>\n      <th>Purchased</th>\n      <th>Country_France</th>\n      <th>Country_Germany</th>\n      <th>Country_Spain</th>\n    </tr>\n  </thead>\n  <tbody>\n    <tr>\n      <th>0</th>\n      <td>44.0</td>\n      <td>72000.0</td>\n      <td>No</td>\n      <td>1</td>\n      <td>0</td>\n      <td>0</td>\n    </tr>\n    <tr>\n      <th>1</th>\n      <td>27.0</td>\n      <td>48000.0</td>\n      <td>Yes</td>\n      <td>0</td>\n      <td>0</td>\n      <td>1</td>\n    </tr>\n    <tr>\n      <th>2</th>\n      <td>30.0</td>\n      <td>54000.0</td>\n      <td>No</td>\n      <td>0</td>\n      <td>1</td>\n      <td>0</td>\n    </tr>\n    <tr>\n      <th>3</th>\n      <td>38.0</td>\n      <td>61000.0</td>\n      <td>No</td>\n      <td>0</td>\n      <td>0</td>\n      <td>1</td>\n    </tr>\n    <tr>\n      <th>4</th>\n      <td>40.0</td>\n      <td>NaN</td>\n      <td>Yes</td>\n      <td>0</td>\n      <td>1</td>\n      <td>0</td>\n    </tr>\n    <tr>\n      <th>5</th>\n      <td>35.0</td>\n      <td>58000.0</td>\n      <td>Yes</td>\n      <td>1</td>\n      <td>0</td>\n      <td>0</td>\n    </tr>\n    <tr>\n      <th>6</th>\n      <td>NaN</td>\n      <td>52000.0</td>\n      <td>No</td>\n      <td>0</td>\n      <td>0</td>\n      <td>1</td>\n    </tr>\n    <tr>\n      <th>7</th>\n      <td>48.0</td>\n      <td>79000.0</td>\n      <td>Yes</td>\n      <td>1</td>\n      <td>0</td>\n      <td>0</td>\n    </tr>\n    <tr>\n      <th>8</th>\n      <td>50.0</td>\n      <td>83000.0</td>\n      <td>No</td>\n      <td>0</td>\n      <td>1</td>\n      <td>0</td>\n    </tr>\n    <tr>\n      <th>9</th>\n      <td>37.0</td>\n      <td>67000.0</td>\n      <td>Yes</td>\n      <td>1</td>\n      <td>0</td>\n      <td>0</td>\n    </tr>\n  </tbody>\n</table>\n</div>"
     },
     "metadata": {},
     "execution_count": 70
    }
   ],
   "source": [
    "dataset"
   ]
  },
  {
   "cell_type": "code",
   "execution_count": 71,
   "metadata": {},
   "outputs": [
    {
     "output_type": "execute_result",
     "data": {
      "text/plain": [
       "   Country   Age   Salary  Purchased\n",
       "0   France  44.0  72000.0          0\n",
       "1    Spain  27.0  48000.0          1\n",
       "2  Germany  30.0  54000.0          0\n",
       "3    Spain  38.0  61000.0          0\n",
       "4  Germany  40.0      NaN          1\n",
       "5   France  35.0  58000.0          1\n",
       "6    Spain   NaN  52000.0          0\n",
       "7   France  48.0  79000.0          1\n",
       "8  Germany  50.0  83000.0          0\n",
       "9   France  37.0  67000.0          1"
      ],
      "text/html": "<div>\n<style scoped>\n    .dataframe tbody tr th:only-of-type {\n        vertical-align: middle;\n    }\n\n    .dataframe tbody tr th {\n        vertical-align: top;\n    }\n\n    .dataframe thead th {\n        text-align: right;\n    }\n</style>\n<table border=\"1\" class=\"dataframe\">\n  <thead>\n    <tr style=\"text-align: right;\">\n      <th></th>\n      <th>Country</th>\n      <th>Age</th>\n      <th>Salary</th>\n      <th>Purchased</th>\n    </tr>\n  </thead>\n  <tbody>\n    <tr>\n      <th>0</th>\n      <td>France</td>\n      <td>44.0</td>\n      <td>72000.0</td>\n      <td>0</td>\n    </tr>\n    <tr>\n      <th>1</th>\n      <td>Spain</td>\n      <td>27.0</td>\n      <td>48000.0</td>\n      <td>1</td>\n    </tr>\n    <tr>\n      <th>2</th>\n      <td>Germany</td>\n      <td>30.0</td>\n      <td>54000.0</td>\n      <td>0</td>\n    </tr>\n    <tr>\n      <th>3</th>\n      <td>Spain</td>\n      <td>38.0</td>\n      <td>61000.0</td>\n      <td>0</td>\n    </tr>\n    <tr>\n      <th>4</th>\n      <td>Germany</td>\n      <td>40.0</td>\n      <td>NaN</td>\n      <td>1</td>\n    </tr>\n    <tr>\n      <th>5</th>\n      <td>France</td>\n      <td>35.0</td>\n      <td>58000.0</td>\n      <td>1</td>\n    </tr>\n    <tr>\n      <th>6</th>\n      <td>Spain</td>\n      <td>NaN</td>\n      <td>52000.0</td>\n      <td>0</td>\n    </tr>\n    <tr>\n      <th>7</th>\n      <td>France</td>\n      <td>48.0</td>\n      <td>79000.0</td>\n      <td>1</td>\n    </tr>\n    <tr>\n      <th>8</th>\n      <td>Germany</td>\n      <td>50.0</td>\n      <td>83000.0</td>\n      <td>0</td>\n    </tr>\n    <tr>\n      <th>9</th>\n      <td>France</td>\n      <td>37.0</td>\n      <td>67000.0</td>\n      <td>1</td>\n    </tr>\n  </tbody>\n</table>\n</div>"
     },
     "metadata": {},
     "execution_count": 71
    }
   ],
   "source": [
    "df"
   ]
  },
  {
   "cell_type": "code",
   "execution_count": 72,
   "metadata": {},
   "outputs": [
    {
     "output_type": "execute_result",
     "data": {
      "text/plain": [
       "   Country   Age   Salary  Purchased age_group\n",
       "0   France  44.0  72000.0          0       40s\n",
       "1    Spain  27.0  48000.0          1       20s\n",
       "2  Germany  30.0  54000.0          0       30s\n",
       "3    Spain  38.0  61000.0          0       30s\n",
       "4  Germany  40.0      NaN          1       40s\n",
       "5   France  35.0  58000.0          1       30s\n",
       "6    Spain   NaN  52000.0          0       NaN\n",
       "7   France  48.0  79000.0          1       40s\n",
       "8  Germany  50.0  83000.0          0       50s\n",
       "9   France  37.0  67000.0          1       30s"
      ],
      "text/html": "<div>\n<style scoped>\n    .dataframe tbody tr th:only-of-type {\n        vertical-align: middle;\n    }\n\n    .dataframe tbody tr th {\n        vertical-align: top;\n    }\n\n    .dataframe thead th {\n        text-align: right;\n    }\n</style>\n<table border=\"1\" class=\"dataframe\">\n  <thead>\n    <tr style=\"text-align: right;\">\n      <th></th>\n      <th>Country</th>\n      <th>Age</th>\n      <th>Salary</th>\n      <th>Purchased</th>\n      <th>age_group</th>\n    </tr>\n  </thead>\n  <tbody>\n    <tr>\n      <th>0</th>\n      <td>France</td>\n      <td>44.0</td>\n      <td>72000.0</td>\n      <td>0</td>\n      <td>40s</td>\n    </tr>\n    <tr>\n      <th>1</th>\n      <td>Spain</td>\n      <td>27.0</td>\n      <td>48000.0</td>\n      <td>1</td>\n      <td>20s</td>\n    </tr>\n    <tr>\n      <th>2</th>\n      <td>Germany</td>\n      <td>30.0</td>\n      <td>54000.0</td>\n      <td>0</td>\n      <td>30s</td>\n    </tr>\n    <tr>\n      <th>3</th>\n      <td>Spain</td>\n      <td>38.0</td>\n      <td>61000.0</td>\n      <td>0</td>\n      <td>30s</td>\n    </tr>\n    <tr>\n      <th>4</th>\n      <td>Germany</td>\n      <td>40.0</td>\n      <td>NaN</td>\n      <td>1</td>\n      <td>40s</td>\n    </tr>\n    <tr>\n      <th>5</th>\n      <td>France</td>\n      <td>35.0</td>\n      <td>58000.0</td>\n      <td>1</td>\n      <td>30s</td>\n    </tr>\n    <tr>\n      <th>6</th>\n      <td>Spain</td>\n      <td>NaN</td>\n      <td>52000.0</td>\n      <td>0</td>\n      <td>NaN</td>\n    </tr>\n    <tr>\n      <th>7</th>\n      <td>France</td>\n      <td>48.0</td>\n      <td>79000.0</td>\n      <td>1</td>\n      <td>40s</td>\n    </tr>\n    <tr>\n      <th>8</th>\n      <td>Germany</td>\n      <td>50.0</td>\n      <td>83000.0</td>\n      <td>0</td>\n      <td>50s</td>\n    </tr>\n    <tr>\n      <th>9</th>\n      <td>France</td>\n      <td>37.0</td>\n      <td>67000.0</td>\n      <td>1</td>\n      <td>30s</td>\n    </tr>\n  </tbody>\n</table>\n</div>"
     },
     "metadata": {},
     "execution_count": 72
    }
   ],
   "source": [
    "df['age_group'] = pd.cut(x=df['Age'], bins=[20, 29, 39, 49, 59], labels=['20s', '30s', '40s', '50s'])\n",
    "df"
   ]
  },
  {
   "cell_type": "code",
   "execution_count": 73,
   "metadata": {},
   "outputs": [
    {
     "output_type": "execute_result",
     "data": {
      "text/plain": [
       "Age             35.0\n",
       "Salary       54000.0\n",
       "Purchased        0.0\n",
       "Name: 0.25, dtype: float64"
      ]
     },
     "metadata": {},
     "execution_count": 73
    }
   ],
   "source": [
    "Q1 = df.quantile(0.25)\n",
    "Q1"
   ]
  },
  {
   "cell_type": "code",
   "execution_count": 74,
   "metadata": {},
   "outputs": [
    {
     "output_type": "execute_result",
     "data": {
      "text/plain": [
       "Age             38.0\n",
       "Salary       61000.0\n",
       "Purchased        0.5\n",
       "Name: 0.5, dtype: float64"
      ]
     },
     "metadata": {},
     "execution_count": 74
    }
   ],
   "source": [
    "Q2 = df.quantile(0.5)\n",
    "Q2"
   ]
  },
  {
   "cell_type": "code",
   "execution_count": 75,
   "metadata": {},
   "outputs": [
    {
     "output_type": "execute_result",
     "data": {
      "text/plain": [
       "Age             38.0\n",
       "Salary       61000.0\n",
       "Purchased        0.5\n",
       "Name: 0.5, dtype: float64"
      ]
     },
     "metadata": {},
     "execution_count": 75
    }
   ],
   "source": [
    "Q3 = df.quantile(0.5)\n",
    "Q3"
   ]
  },
  {
   "cell_type": "code",
   "execution_count": 76,
   "metadata": {},
   "outputs": [
    {
     "output_type": "execute_result",
     "data": {
      "text/plain": [
       "France     4\n",
       "Spain      3\n",
       "Germany    3\n",
       "Name: Country, dtype: int64"
      ]
     },
     "metadata": {},
     "execution_count": 76
    }
   ],
   "source": [
    "df['Country'].value_counts()"
   ]
  },
  {
   "cell_type": "code",
   "execution_count": 77,
   "metadata": {},
   "outputs": [
    {
     "output_type": "execute_result",
     "data": {
      "text/plain": [
       "   Country   Age   Salary  Purchased age_group\n",
       "0   France  44.0  72000.0          0       40s\n",
       "1    Spain  27.0  48000.0          1       20s\n",
       "2  Germany  30.0  54000.0          0       30s\n",
       "3    Spain  38.0  61000.0          0       30s\n",
       "4  Germany  40.0      NaN          1       40s\n",
       "5   France  35.0  58000.0          1       30s\n",
       "6    Spain   NaN  52000.0          0       NaN\n",
       "7   France  48.0  79000.0          1       40s\n",
       "8  Germany  50.0  83000.0          0       50s\n",
       "9   France  37.0  67000.0          1       30s"
      ],
      "text/html": "<div>\n<style scoped>\n    .dataframe tbody tr th:only-of-type {\n        vertical-align: middle;\n    }\n\n    .dataframe tbody tr th {\n        vertical-align: top;\n    }\n\n    .dataframe thead th {\n        text-align: right;\n    }\n</style>\n<table border=\"1\" class=\"dataframe\">\n  <thead>\n    <tr style=\"text-align: right;\">\n      <th></th>\n      <th>Country</th>\n      <th>Age</th>\n      <th>Salary</th>\n      <th>Purchased</th>\n      <th>age_group</th>\n    </tr>\n  </thead>\n  <tbody>\n    <tr>\n      <th>0</th>\n      <td>France</td>\n      <td>44.0</td>\n      <td>72000.0</td>\n      <td>0</td>\n      <td>40s</td>\n    </tr>\n    <tr>\n      <th>1</th>\n      <td>Spain</td>\n      <td>27.0</td>\n      <td>48000.0</td>\n      <td>1</td>\n      <td>20s</td>\n    </tr>\n    <tr>\n      <th>2</th>\n      <td>Germany</td>\n      <td>30.0</td>\n      <td>54000.0</td>\n      <td>0</td>\n      <td>30s</td>\n    </tr>\n    <tr>\n      <th>3</th>\n      <td>Spain</td>\n      <td>38.0</td>\n      <td>61000.0</td>\n      <td>0</td>\n      <td>30s</td>\n    </tr>\n    <tr>\n      <th>4</th>\n      <td>Germany</td>\n      <td>40.0</td>\n      <td>NaN</td>\n      <td>1</td>\n      <td>40s</td>\n    </tr>\n    <tr>\n      <th>5</th>\n      <td>France</td>\n      <td>35.0</td>\n      <td>58000.0</td>\n      <td>1</td>\n      <td>30s</td>\n    </tr>\n    <tr>\n      <th>6</th>\n      <td>Spain</td>\n      <td>NaN</td>\n      <td>52000.0</td>\n      <td>0</td>\n      <td>NaN</td>\n    </tr>\n    <tr>\n      <th>7</th>\n      <td>France</td>\n      <td>48.0</td>\n      <td>79000.0</td>\n      <td>1</td>\n      <td>40s</td>\n    </tr>\n    <tr>\n      <th>8</th>\n      <td>Germany</td>\n      <td>50.0</td>\n      <td>83000.0</td>\n      <td>0</td>\n      <td>50s</td>\n    </tr>\n    <tr>\n      <th>9</th>\n      <td>France</td>\n      <td>37.0</td>\n      <td>67000.0</td>\n      <td>1</td>\n      <td>30s</td>\n    </tr>\n  </tbody>\n</table>\n</div>"
     },
     "metadata": {},
     "execution_count": 77
    }
   ],
   "source": [
    "df"
   ]
  },
  {
   "cell_type": "code",
   "execution_count": 78,
   "metadata": {},
   "outputs": [
    {
     "output_type": "execute_result",
     "data": {
      "text/plain": [
       "                    Age   Salary\n",
       "Country Purchased               \n",
       "France  0          44.0  72000.0\n",
       "        1          40.0  68000.0\n",
       "Germany 0          40.0  68500.0\n",
       "        1          40.0      NaN\n",
       "Spain   0          38.0  56500.0\n",
       "        1          27.0  48000.0"
      ],
      "text/html": "<div>\n<style scoped>\n    .dataframe tbody tr th:only-of-type {\n        vertical-align: middle;\n    }\n\n    .dataframe tbody tr th {\n        vertical-align: top;\n    }\n\n    .dataframe thead th {\n        text-align: right;\n    }\n</style>\n<table border=\"1\" class=\"dataframe\">\n  <thead>\n    <tr style=\"text-align: right;\">\n      <th></th>\n      <th></th>\n      <th>Age</th>\n      <th>Salary</th>\n    </tr>\n    <tr>\n      <th>Country</th>\n      <th>Purchased</th>\n      <th></th>\n      <th></th>\n    </tr>\n  </thead>\n  <tbody>\n    <tr>\n      <th rowspan=\"2\" valign=\"top\">France</th>\n      <th>0</th>\n      <td>44.0</td>\n      <td>72000.0</td>\n    </tr>\n    <tr>\n      <th>1</th>\n      <td>40.0</td>\n      <td>68000.0</td>\n    </tr>\n    <tr>\n      <th rowspan=\"2\" valign=\"top\">Germany</th>\n      <th>0</th>\n      <td>40.0</td>\n      <td>68500.0</td>\n    </tr>\n    <tr>\n      <th>1</th>\n      <td>40.0</td>\n      <td>NaN</td>\n    </tr>\n    <tr>\n      <th rowspan=\"2\" valign=\"top\">Spain</th>\n      <th>0</th>\n      <td>38.0</td>\n      <td>56500.0</td>\n    </tr>\n    <tr>\n      <th>1</th>\n      <td>27.0</td>\n      <td>48000.0</td>\n    </tr>\n  </tbody>\n</table>\n</div>"
     },
     "metadata": {},
     "execution_count": 78
    }
   ],
   "source": [
    "df.groupby(['Country','Purchased']).mean()"
   ]
  },
  {
   "cell_type": "code",
   "execution_count": 79,
   "metadata": {},
   "outputs": [
    {
     "output_type": "execute_result",
     "data": {
      "text/plain": [
       "   Country   Age   Salary  Purchased age_group\n",
       "7   France  48.0  79000.0          1       40s\n",
       "8  Germany  50.0  83000.0          0       50s"
      ],
      "text/html": "<div>\n<style scoped>\n    .dataframe tbody tr th:only-of-type {\n        vertical-align: middle;\n    }\n\n    .dataframe tbody tr th {\n        vertical-align: top;\n    }\n\n    .dataframe thead th {\n        text-align: right;\n    }\n</style>\n<table border=\"1\" class=\"dataframe\">\n  <thead>\n    <tr style=\"text-align: right;\">\n      <th></th>\n      <th>Country</th>\n      <th>Age</th>\n      <th>Salary</th>\n      <th>Purchased</th>\n      <th>age_group</th>\n    </tr>\n  </thead>\n  <tbody>\n    <tr>\n      <th>7</th>\n      <td>France</td>\n      <td>48.0</td>\n      <td>79000.0</td>\n      <td>1</td>\n      <td>40s</td>\n    </tr>\n    <tr>\n      <th>8</th>\n      <td>Germany</td>\n      <td>50.0</td>\n      <td>83000.0</td>\n      <td>0</td>\n      <td>50s</td>\n    </tr>\n  </tbody>\n</table>\n</div>"
     },
     "metadata": {},
     "execution_count": 79
    }
   ],
   "source": [
    "df[df[\"Age\"] >=45]"
   ]
  },
  {
   "cell_type": "code",
   "execution_count": 80,
   "metadata": {},
   "outputs": [
    {
     "output_type": "execute_result",
     "data": {
      "text/plain": [
       "Purchased  0  1  All\n",
       "Country             \n",
       "France     1  3    4\n",
       "Germany    2  1    3\n",
       "Spain      2  1    3\n",
       "All        5  5   10"
      ],
      "text/html": "<div>\n<style scoped>\n    .dataframe tbody tr th:only-of-type {\n        vertical-align: middle;\n    }\n\n    .dataframe tbody tr th {\n        vertical-align: top;\n    }\n\n    .dataframe thead th {\n        text-align: right;\n    }\n</style>\n<table border=\"1\" class=\"dataframe\">\n  <thead>\n    <tr style=\"text-align: right;\">\n      <th>Purchased</th>\n      <th>0</th>\n      <th>1</th>\n      <th>All</th>\n    </tr>\n    <tr>\n      <th>Country</th>\n      <th></th>\n      <th></th>\n      <th></th>\n    </tr>\n  </thead>\n  <tbody>\n    <tr>\n      <th>France</th>\n      <td>1</td>\n      <td>3</td>\n      <td>4</td>\n    </tr>\n    <tr>\n      <th>Germany</th>\n      <td>2</td>\n      <td>1</td>\n      <td>3</td>\n    </tr>\n    <tr>\n      <th>Spain</th>\n      <td>2</td>\n      <td>1</td>\n      <td>3</td>\n    </tr>\n    <tr>\n      <th>All</th>\n      <td>5</td>\n      <td>5</td>\n      <td>10</td>\n    </tr>\n  </tbody>\n</table>\n</div>"
     },
     "metadata": {},
     "execution_count": 80
    }
   ],
   "source": [
    "pd.crosstab(df.Country,df.Purchased,margins=True)"
   ]
  },
  {
   "cell_type": "code",
   "execution_count": 81,
   "metadata": {},
   "outputs": [
    {
     "output_type": "execute_result",
     "data": {
      "text/plain": [
       "  Country   Age   Salary  Purchased age_group\n",
       "0  France  44.0  72000.0          0       40s\n",
       "1   Spain  27.0  48000.0          1       20s\n",
       "3   Spain  38.0  61000.0          0       30s\n",
       "5  France  35.0  58000.0          1       30s\n",
       "6   Spain   NaN  52000.0          0       NaN\n",
       "7  France  48.0  79000.0          1       40s\n",
       "9  France  37.0  67000.0          1       30s"
      ],
      "text/html": "<div>\n<style scoped>\n    .dataframe tbody tr th:only-of-type {\n        vertical-align: middle;\n    }\n\n    .dataframe tbody tr th {\n        vertical-align: top;\n    }\n\n    .dataframe thead th {\n        text-align: right;\n    }\n</style>\n<table border=\"1\" class=\"dataframe\">\n  <thead>\n    <tr style=\"text-align: right;\">\n      <th></th>\n      <th>Country</th>\n      <th>Age</th>\n      <th>Salary</th>\n      <th>Purchased</th>\n      <th>age_group</th>\n    </tr>\n  </thead>\n  <tbody>\n    <tr>\n      <th>0</th>\n      <td>France</td>\n      <td>44.0</td>\n      <td>72000.0</td>\n      <td>0</td>\n      <td>40s</td>\n    </tr>\n    <tr>\n      <th>1</th>\n      <td>Spain</td>\n      <td>27.0</td>\n      <td>48000.0</td>\n      <td>1</td>\n      <td>20s</td>\n    </tr>\n    <tr>\n      <th>3</th>\n      <td>Spain</td>\n      <td>38.0</td>\n      <td>61000.0</td>\n      <td>0</td>\n      <td>30s</td>\n    </tr>\n    <tr>\n      <th>5</th>\n      <td>France</td>\n      <td>35.0</td>\n      <td>58000.0</td>\n      <td>1</td>\n      <td>30s</td>\n    </tr>\n    <tr>\n      <th>6</th>\n      <td>Spain</td>\n      <td>NaN</td>\n      <td>52000.0</td>\n      <td>0</td>\n      <td>NaN</td>\n    </tr>\n    <tr>\n      <th>7</th>\n      <td>France</td>\n      <td>48.0</td>\n      <td>79000.0</td>\n      <td>1</td>\n      <td>40s</td>\n    </tr>\n    <tr>\n      <th>9</th>\n      <td>France</td>\n      <td>37.0</td>\n      <td>67000.0</td>\n      <td>1</td>\n      <td>30s</td>\n    </tr>\n  </tbody>\n</table>\n</div>"
     },
     "metadata": {},
     "execution_count": 81
    }
   ],
   "source": [
    "df[(df[\"Country\"] == 'France') | (df[\"Country\"] == 'Spain')]"
   ]
  },
  {
   "source": [
    "##Another dataset"
   ],
   "cell_type": "markdown",
   "metadata": {}
  },
  {
   "cell_type": "code",
   "execution_count": 82,
   "metadata": {},
   "outputs": [
    {
     "output_type": "execute_result",
     "data": {
      "text/plain": [
       "     EMPLOYEE_ID FIRST_NAME LAST_NAME     EMAIL  PHONE_NUMBER   HIRE_DATE  \\\n",
       "0            101      Neena   Kochhar  NKOCHHAR  515.123.4568  1989-09-21   \n",
       "1            102        Lex   De Haan   LDEHAAN  515.123.4569  1993-01-13   \n",
       "2            103  Alexander    Hunold   AHUNOLD  590.423.4567  1990-01-03   \n",
       "3            104      Bruce     Ernst    BERNST  590.423.4568  1991-05-21   \n",
       "4            105      David    Austin   DAUSTIN  590.423.4569  1997-06-25   \n",
       "..           ...        ...       ...       ...           ...         ...   \n",
       "101          202        Pat       Fay      PFAY  603.123.6666  1997-08-17   \n",
       "102          203      Susan    Mavris   SMAVRIS  515.123.7777  1994-06-07   \n",
       "103          204    Hermann      Baer     HBAER  515.123.8888  1994-06-07   \n",
       "104          205    Shelley   Higgins  SHIGGINS  515.123.8080  1994-06-07   \n",
       "105          206    William     Gietz    WGIETZ  515.123.8181  1994-06-07   \n",
       "\n",
       "         JOB_ID  SALARY  MANAGER_ID  DEPARTMENT_ID  \n",
       "0         AD_VP   17000         100           90.0  \n",
       "1         AD_VP   17000         100           90.0  \n",
       "2       IT_PROG    9000         102           60.0  \n",
       "3       IT_PROG    6000         103           60.0  \n",
       "4       IT_PROG    4800         103           60.0  \n",
       "..          ...     ...         ...            ...  \n",
       "101      MK_REP    6000         201           20.0  \n",
       "102      HR_REP    6500         101           40.0  \n",
       "103      PR_REP   10000         101           70.0  \n",
       "104      AC_MGR   12000         101          110.0  \n",
       "105  AC_ACCOUNT    8300         205          110.0  \n",
       "\n",
       "[106 rows x 10 columns]"
      ],
      "text/html": "<div>\n<style scoped>\n    .dataframe tbody tr th:only-of-type {\n        vertical-align: middle;\n    }\n\n    .dataframe tbody tr th {\n        vertical-align: top;\n    }\n\n    .dataframe thead th {\n        text-align: right;\n    }\n</style>\n<table border=\"1\" class=\"dataframe\">\n  <thead>\n    <tr style=\"text-align: right;\">\n      <th></th>\n      <th>EMPLOYEE_ID</th>\n      <th>FIRST_NAME</th>\n      <th>LAST_NAME</th>\n      <th>EMAIL</th>\n      <th>PHONE_NUMBER</th>\n      <th>HIRE_DATE</th>\n      <th>JOB_ID</th>\n      <th>SALARY</th>\n      <th>MANAGER_ID</th>\n      <th>DEPARTMENT_ID</th>\n    </tr>\n  </thead>\n  <tbody>\n    <tr>\n      <th>0</th>\n      <td>101</td>\n      <td>Neena</td>\n      <td>Kochhar</td>\n      <td>NKOCHHAR</td>\n      <td>515.123.4568</td>\n      <td>1989-09-21</td>\n      <td>AD_VP</td>\n      <td>17000</td>\n      <td>100</td>\n      <td>90.0</td>\n    </tr>\n    <tr>\n      <th>1</th>\n      <td>102</td>\n      <td>Lex</td>\n      <td>De Haan</td>\n      <td>LDEHAAN</td>\n      <td>515.123.4569</td>\n      <td>1993-01-13</td>\n      <td>AD_VP</td>\n      <td>17000</td>\n      <td>100</td>\n      <td>90.0</td>\n    </tr>\n    <tr>\n      <th>2</th>\n      <td>103</td>\n      <td>Alexander</td>\n      <td>Hunold</td>\n      <td>AHUNOLD</td>\n      <td>590.423.4567</td>\n      <td>1990-01-03</td>\n      <td>IT_PROG</td>\n      <td>9000</td>\n      <td>102</td>\n      <td>60.0</td>\n    </tr>\n    <tr>\n      <th>3</th>\n      <td>104</td>\n      <td>Bruce</td>\n      <td>Ernst</td>\n      <td>BERNST</td>\n      <td>590.423.4568</td>\n      <td>1991-05-21</td>\n      <td>IT_PROG</td>\n      <td>6000</td>\n      <td>103</td>\n      <td>60.0</td>\n    </tr>\n    <tr>\n      <th>4</th>\n      <td>105</td>\n      <td>David</td>\n      <td>Austin</td>\n      <td>DAUSTIN</td>\n      <td>590.423.4569</td>\n      <td>1997-06-25</td>\n      <td>IT_PROG</td>\n      <td>4800</td>\n      <td>103</td>\n      <td>60.0</td>\n    </tr>\n    <tr>\n      <th>...</th>\n      <td>...</td>\n      <td>...</td>\n      <td>...</td>\n      <td>...</td>\n      <td>...</td>\n      <td>...</td>\n      <td>...</td>\n      <td>...</td>\n      <td>...</td>\n      <td>...</td>\n    </tr>\n    <tr>\n      <th>101</th>\n      <td>202</td>\n      <td>Pat</td>\n      <td>Fay</td>\n      <td>PFAY</td>\n      <td>603.123.6666</td>\n      <td>1997-08-17</td>\n      <td>MK_REP</td>\n      <td>6000</td>\n      <td>201</td>\n      <td>20.0</td>\n    </tr>\n    <tr>\n      <th>102</th>\n      <td>203</td>\n      <td>Susan</td>\n      <td>Mavris</td>\n      <td>SMAVRIS</td>\n      <td>515.123.7777</td>\n      <td>1994-06-07</td>\n      <td>HR_REP</td>\n      <td>6500</td>\n      <td>101</td>\n      <td>40.0</td>\n    </tr>\n    <tr>\n      <th>103</th>\n      <td>204</td>\n      <td>Hermann</td>\n      <td>Baer</td>\n      <td>HBAER</td>\n      <td>515.123.8888</td>\n      <td>1994-06-07</td>\n      <td>PR_REP</td>\n      <td>10000</td>\n      <td>101</td>\n      <td>70.0</td>\n    </tr>\n    <tr>\n      <th>104</th>\n      <td>205</td>\n      <td>Shelley</td>\n      <td>Higgins</td>\n      <td>SHIGGINS</td>\n      <td>515.123.8080</td>\n      <td>1994-06-07</td>\n      <td>AC_MGR</td>\n      <td>12000</td>\n      <td>101</td>\n      <td>110.0</td>\n    </tr>\n    <tr>\n      <th>105</th>\n      <td>206</td>\n      <td>William</td>\n      <td>Gietz</td>\n      <td>WGIETZ</td>\n      <td>515.123.8181</td>\n      <td>1994-06-07</td>\n      <td>AC_ACCOUNT</td>\n      <td>8300</td>\n      <td>205</td>\n      <td>110.0</td>\n    </tr>\n  </tbody>\n</table>\n<p>106 rows × 10 columns</p>\n</div>"
     },
     "metadata": {},
     "execution_count": 82
    }
   ],
   "source": [
    "df = pd.read_csv(\"emp_processed.csv\")\n",
    "df"
   ]
  },
  {
   "cell_type": "code",
   "execution_count": 83,
   "metadata": {},
   "outputs": [
    {
     "output_type": "stream",
     "name": "stdout",
     "text": [
      "<class 'pandas.core.frame.DataFrame'>\nRangeIndex: 106 entries, 0 to 105\nData columns (total 10 columns):\n #   Column         Non-Null Count  Dtype  \n---  ------         --------------  -----  \n 0   EMPLOYEE_ID    106 non-null    int64  \n 1   FIRST_NAME     106 non-null    object \n 2   LAST_NAME      106 non-null    object \n 3   EMAIL          106 non-null    object \n 4   PHONE_NUMBER   106 non-null    object \n 5   HIRE_DATE      106 non-null    object \n 6   JOB_ID         106 non-null    object \n 7   SALARY         106 non-null    int64  \n 8   MANAGER_ID     106 non-null    int64  \n 9   DEPARTMENT_ID  105 non-null    float64\ndtypes: float64(1), int64(3), object(6)\nmemory usage: 8.4+ KB\n"
     ]
    }
   ],
   "source": [
    "df.info()"
   ]
  },
  {
   "cell_type": "code",
   "execution_count": 84,
   "metadata": {},
   "outputs": [
    {
     "output_type": "execute_result",
     "data": {
      "text/plain": [
       "206    1\n",
       "127    1\n",
       "129    1\n",
       "130    1\n",
       "131    1\n",
       "      ..\n",
       "174    1\n",
       "175    1\n",
       "176    1\n",
       "177    1\n",
       "101    1\n",
       "Name: EMPLOYEE_ID, Length: 106, dtype: int64"
      ]
     },
     "metadata": {},
     "execution_count": 84
    }
   ],
   "source": [
    "df.EMPLOYEE_ID.value_counts()"
   ]
  },
  {
   "cell_type": "code",
   "execution_count": 85,
   "metadata": {},
   "outputs": [
    {
     "output_type": "execute_result",
     "data": {
      "text/plain": [
       "106"
      ]
     },
     "metadata": {},
     "execution_count": 85
    }
   ],
   "source": [
    "np.count_nonzero(df.EMPLOYEE_ID.unique())"
   ]
  },
  {
   "cell_type": "code",
   "execution_count": 86,
   "metadata": {},
   "outputs": [
    {
     "output_type": "execute_result",
     "data": {
      "text/plain": [
       "106"
      ]
     },
     "metadata": {},
     "execution_count": 86
    }
   ],
   "source": [
    "df.MANAGER_ID.count()"
   ]
  },
  {
   "cell_type": "code",
   "execution_count": 87,
   "metadata": {},
   "outputs": [
    {
     "output_type": "execute_result",
     "data": {
      "text/plain": [
       "100    14\n",
       "124     8\n",
       "122     8\n",
       "121     8\n",
       "120     8\n",
       "123     8\n",
       "146     6\n",
       "147     6\n",
       "148     6\n",
       "149     6\n",
       "145     6\n",
       "108     5\n",
       "114     5\n",
       "101     5\n",
       "103     4\n",
       "205     1\n",
       "201     1\n",
       "102     1\n",
       "Name: MANAGER_ID, dtype: int64"
      ]
     },
     "metadata": {},
     "execution_count": 87
    }
   ],
   "source": [
    "df.MANAGER_ID.value_counts()"
   ]
  },
  {
   "cell_type": "code",
   "execution_count": 88,
   "metadata": {},
   "outputs": [
    {
     "output_type": "execute_result",
     "data": {
      "text/plain": [
       "                        SALARY  DEPARTMENT_ID\n",
       "MANAGER_ID EMPLOYEE_ID                       \n",
       "100        101           17000           90.0\n",
       "           102           17000           90.0\n",
       "           114           11000           30.0\n",
       "           120            8000           50.0\n",
       "           121            8200           50.0\n",
       "...                        ...            ...\n",
       "149        177            8400           80.0\n",
       "           178            7000            0.0\n",
       "           179            6200           80.0\n",
       "201        202            6000           20.0\n",
       "205        206            8300          110.0\n",
       "\n",
       "[106 rows x 2 columns]"
      ],
      "text/html": "<div>\n<style scoped>\n    .dataframe tbody tr th:only-of-type {\n        vertical-align: middle;\n    }\n\n    .dataframe tbody tr th {\n        vertical-align: top;\n    }\n\n    .dataframe thead th {\n        text-align: right;\n    }\n</style>\n<table border=\"1\" class=\"dataframe\">\n  <thead>\n    <tr style=\"text-align: right;\">\n      <th></th>\n      <th></th>\n      <th>SALARY</th>\n      <th>DEPARTMENT_ID</th>\n    </tr>\n    <tr>\n      <th>MANAGER_ID</th>\n      <th>EMPLOYEE_ID</th>\n      <th></th>\n      <th></th>\n    </tr>\n  </thead>\n  <tbody>\n    <tr>\n      <th rowspan=\"5\" valign=\"top\">100</th>\n      <th>101</th>\n      <td>17000</td>\n      <td>90.0</td>\n    </tr>\n    <tr>\n      <th>102</th>\n      <td>17000</td>\n      <td>90.0</td>\n    </tr>\n    <tr>\n      <th>114</th>\n      <td>11000</td>\n      <td>30.0</td>\n    </tr>\n    <tr>\n      <th>120</th>\n      <td>8000</td>\n      <td>50.0</td>\n    </tr>\n    <tr>\n      <th>121</th>\n      <td>8200</td>\n      <td>50.0</td>\n    </tr>\n    <tr>\n      <th>...</th>\n      <th>...</th>\n      <td>...</td>\n      <td>...</td>\n    </tr>\n    <tr>\n      <th rowspan=\"3\" valign=\"top\">149</th>\n      <th>177</th>\n      <td>8400</td>\n      <td>80.0</td>\n    </tr>\n    <tr>\n      <th>178</th>\n      <td>7000</td>\n      <td>0.0</td>\n    </tr>\n    <tr>\n      <th>179</th>\n      <td>6200</td>\n      <td>80.0</td>\n    </tr>\n    <tr>\n      <th>201</th>\n      <th>202</th>\n      <td>6000</td>\n      <td>20.0</td>\n    </tr>\n    <tr>\n      <th>205</th>\n      <th>206</th>\n      <td>8300</td>\n      <td>110.0</td>\n    </tr>\n  </tbody>\n</table>\n<p>106 rows × 2 columns</p>\n</div>"
     },
     "metadata": {},
     "execution_count": 88
    }
   ],
   "source": [
    "df.groupby(['MANAGER_ID','EMPLOYEE_ID']).sum()"
   ]
  },
  {
   "cell_type": "code",
   "execution_count": 89,
   "metadata": {},
   "outputs": [],
   "source": [
    "\n",
    "before = type(df.EMPLOYEE_ID[0])\n",
    "  \n",
    "\n",
    "df.EMPLOYEE_ID = df.EMPLOYEE_ID.astype('string')\n",
    "  \n",
    "\n",
    "after = type(df.EMPLOYEE_ID[0])"
   ]
  },
  {
   "cell_type": "code",
   "execution_count": 90,
   "metadata": {},
   "outputs": [
    {
     "output_type": "execute_result",
     "data": {
      "text/plain": [
       "numpy.int64"
      ]
     },
     "metadata": {},
     "execution_count": 90
    }
   ],
   "source": [
    "before"
   ]
  },
  {
   "cell_type": "code",
   "execution_count": 91,
   "metadata": {},
   "outputs": [
    {
     "output_type": "execute_result",
     "data": {
      "text/plain": [
       "str"
      ]
     },
     "metadata": {},
     "execution_count": 91
    }
   ],
   "source": [
    "after"
   ]
  },
  {
   "cell_type": "code",
   "execution_count": 92,
   "metadata": {},
   "outputs": [
    {
     "output_type": "execute_result",
     "data": {
      "text/plain": [
       "MANAGER_ID\n",
       "100    14\n",
       "101     5\n",
       "102     1\n",
       "103     4\n",
       "108     5\n",
       "114     5\n",
       "120     8\n",
       "121     8\n",
       "122     8\n",
       "123     8\n",
       "124     8\n",
       "145     6\n",
       "146     6\n",
       "147     6\n",
       "148     6\n",
       "149     6\n",
       "201     1\n",
       "205     1\n",
       "Name: EMPLOYEE_ID, dtype: int64"
      ]
     },
     "metadata": {},
     "execution_count": 92
    }
   ],
   "source": [
    "df.groupby('MANAGER_ID').EMPLOYEE_ID.count()"
   ]
  },
  {
   "cell_type": "code",
   "execution_count": 93,
   "metadata": {},
   "outputs": [
    {
     "output_type": "execute_result",
     "data": {
      "text/plain": [
       "106"
      ]
     },
     "metadata": {},
     "execution_count": 93
    }
   ],
   "source": [
    "np.array(df.groupby('MANAGER_ID').EMPLOYEE_ID.count()).sum()"
   ]
  },
  {
   "cell_type": "code",
   "execution_count": 94,
   "metadata": {},
   "outputs": [],
   "source": [
    "import numpy as np"
   ]
  },
  {
   "cell_type": "code",
   "execution_count": 95,
   "metadata": {},
   "outputs": [
    {
     "output_type": "execute_result",
     "data": {
      "text/plain": [
       "            SALARY  DEPARTMENT_ID\n",
       "MANAGER_ID                       \n",
       "100         155400          880.0\n",
       "101          44900          330.0\n",
       "102           9000           60.0\n",
       "103          19800          240.0\n",
       "108          39600          500.0\n",
       "114          13900          150.0\n",
       "120          22100          400.0\n",
       "121          25400          400.0\n",
       "122          23600          400.0\n",
       "123          25900          400.0\n",
       "124          23000          400.0\n",
       "145          51000          480.0\n",
       "146          51000          480.0\n",
       "147          46600          480.0\n",
       "148          51900          480.0\n",
       "149          50000          400.0\n",
       "201           6000           20.0\n",
       "205           8300          110.0"
      ],
      "text/html": "<div>\n<style scoped>\n    .dataframe tbody tr th:only-of-type {\n        vertical-align: middle;\n    }\n\n    .dataframe tbody tr th {\n        vertical-align: top;\n    }\n\n    .dataframe thead th {\n        text-align: right;\n    }\n</style>\n<table border=\"1\" class=\"dataframe\">\n  <thead>\n    <tr style=\"text-align: right;\">\n      <th></th>\n      <th>SALARY</th>\n      <th>DEPARTMENT_ID</th>\n    </tr>\n    <tr>\n      <th>MANAGER_ID</th>\n      <th></th>\n      <th></th>\n    </tr>\n  </thead>\n  <tbody>\n    <tr>\n      <th>100</th>\n      <td>155400</td>\n      <td>880.0</td>\n    </tr>\n    <tr>\n      <th>101</th>\n      <td>44900</td>\n      <td>330.0</td>\n    </tr>\n    <tr>\n      <th>102</th>\n      <td>9000</td>\n      <td>60.0</td>\n    </tr>\n    <tr>\n      <th>103</th>\n      <td>19800</td>\n      <td>240.0</td>\n    </tr>\n    <tr>\n      <th>108</th>\n      <td>39600</td>\n      <td>500.0</td>\n    </tr>\n    <tr>\n      <th>114</th>\n      <td>13900</td>\n      <td>150.0</td>\n    </tr>\n    <tr>\n      <th>120</th>\n      <td>22100</td>\n      <td>400.0</td>\n    </tr>\n    <tr>\n      <th>121</th>\n      <td>25400</td>\n      <td>400.0</td>\n    </tr>\n    <tr>\n      <th>122</th>\n      <td>23600</td>\n      <td>400.0</td>\n    </tr>\n    <tr>\n      <th>123</th>\n      <td>25900</td>\n      <td>400.0</td>\n    </tr>\n    <tr>\n      <th>124</th>\n      <td>23000</td>\n      <td>400.0</td>\n    </tr>\n    <tr>\n      <th>145</th>\n      <td>51000</td>\n      <td>480.0</td>\n    </tr>\n    <tr>\n      <th>146</th>\n      <td>51000</td>\n      <td>480.0</td>\n    </tr>\n    <tr>\n      <th>147</th>\n      <td>46600</td>\n      <td>480.0</td>\n    </tr>\n    <tr>\n      <th>148</th>\n      <td>51900</td>\n      <td>480.0</td>\n    </tr>\n    <tr>\n      <th>149</th>\n      <td>50000</td>\n      <td>400.0</td>\n    </tr>\n    <tr>\n      <th>201</th>\n      <td>6000</td>\n      <td>20.0</td>\n    </tr>\n    <tr>\n      <th>205</th>\n      <td>8300</td>\n      <td>110.0</td>\n    </tr>\n  </tbody>\n</table>\n</div>"
     },
     "metadata": {},
     "execution_count": 95
    }
   ],
   "source": [
    "df.groupby('MANAGER_ID').sum()"
   ]
  },
  {
   "cell_type": "code",
   "execution_count": 96,
   "metadata": {},
   "outputs": [
    {
     "output_type": "execute_result",
     "data": {
      "text/plain": [
       "EMPLOYEE_ID  MANAGER_ID\n",
       "101          100           1\n",
       "102          100           1\n",
       "103          102           1\n",
       "104          103           1\n",
       "105          103           1\n",
       "                          ..\n",
       "202          201           1\n",
       "203          101           1\n",
       "204          101           1\n",
       "205          101           1\n",
       "206          205           1\n",
       "Name: EMPLOYEE_ID, Length: 106, dtype: int64"
      ]
     },
     "metadata": {},
     "execution_count": 96
    }
   ],
   "source": [
    "df.groupby(['EMPLOYEE_ID', 'MANAGER_ID']).EMPLOYEE_ID.count()"
   ]
  },
  {
   "cell_type": "code",
   "execution_count": 97,
   "metadata": {},
   "outputs": [
    {
     "output_type": "execute_result",
     "data": {
      "text/plain": [
       "EMPLOYEE_ID      False\n",
       "FIRST_NAME       False\n",
       "LAST_NAME        False\n",
       "EMAIL            False\n",
       "PHONE_NUMBER     False\n",
       "HIRE_DATE        False\n",
       "JOB_ID           False\n",
       "SALARY           False\n",
       "MANAGER_ID       False\n",
       "DEPARTMENT_ID     True\n",
       "dtype: bool"
      ]
     },
     "metadata": {},
     "execution_count": 97
    }
   ],
   "source": [
    "df.isna().any()"
   ]
  },
  {
   "cell_type": "code",
   "execution_count": 98,
   "metadata": {},
   "outputs": [
    {
     "output_type": "execute_result",
     "data": {
      "text/plain": [
       "DEPARTMENT_ID  EMPLOYEE_ID\n",
       "10.0           200            1\n",
       "20.0           201            1\n",
       "               202            1\n",
       "30.0           114            1\n",
       "               115            1\n",
       "                             ..\n",
       "100.0          111            1\n",
       "               112            1\n",
       "               113            1\n",
       "110.0          205            1\n",
       "               206            1\n",
       "Name: EMPLOYEE_ID, Length: 105, dtype: int64"
      ]
     },
     "metadata": {},
     "execution_count": 98
    }
   ],
   "source": [
    "df.groupby(['DEPARTMENT_ID','EMPLOYEE_ID']).EMPLOYEE_ID.count()"
   ]
  },
  {
   "cell_type": "code",
   "execution_count": 99,
   "metadata": {},
   "outputs": [
    {
     "output_type": "execute_result",
     "data": {
      "text/plain": [
       "   EMPLOYEE_ID FIRST_NAME LAST_NAME   EMAIL        PHONE_NUMBER   HIRE_DATE  \\\n",
       "77         178  Kimberely     Grant  KGRANT  011.44.1644.429263  1999-05-24   \n",
       "\n",
       "    JOB_ID  SALARY  MANAGER_ID  DEPARTMENT_ID  \n",
       "77  SA_REP    7000         149            NaN  "
      ],
      "text/html": "<div>\n<style scoped>\n    .dataframe tbody tr th:only-of-type {\n        vertical-align: middle;\n    }\n\n    .dataframe tbody tr th {\n        vertical-align: top;\n    }\n\n    .dataframe thead th {\n        text-align: right;\n    }\n</style>\n<table border=\"1\" class=\"dataframe\">\n  <thead>\n    <tr style=\"text-align: right;\">\n      <th></th>\n      <th>EMPLOYEE_ID</th>\n      <th>FIRST_NAME</th>\n      <th>LAST_NAME</th>\n      <th>EMAIL</th>\n      <th>PHONE_NUMBER</th>\n      <th>HIRE_DATE</th>\n      <th>JOB_ID</th>\n      <th>SALARY</th>\n      <th>MANAGER_ID</th>\n      <th>DEPARTMENT_ID</th>\n    </tr>\n  </thead>\n  <tbody>\n    <tr>\n      <th>77</th>\n      <td>178</td>\n      <td>Kimberely</td>\n      <td>Grant</td>\n      <td>KGRANT</td>\n      <td>011.44.1644.429263</td>\n      <td>1999-05-24</td>\n      <td>SA_REP</td>\n      <td>7000</td>\n      <td>149</td>\n      <td>NaN</td>\n    </tr>\n  </tbody>\n</table>\n</div>"
     },
     "metadata": {},
     "execution_count": 99
    }
   ],
   "source": [
    "df[df.isnull().any(axis=1)]"
   ]
  },
  {
   "cell_type": "markdown",
   "metadata": {},
   "source": [
    "# #Another data set"
   ]
  },
  {
   "cell_type": "code",
   "execution_count": 100,
   "metadata": {},
   "outputs": [],
   "source": [
    "import numpy as np\n",
    "import pandas as pd"
   ]
  },
  {
   "cell_type": "code",
   "execution_count": 101,
   "metadata": {},
   "outputs": [
    {
     "output_type": "execute_result",
     "data": {
      "text/plain": [
       "     Item_Identifier  Item_Weight Item_Fat_Content  Item_Visibility  \\\n",
       "0              FDA15        9.300          Low Fat         0.016047   \n",
       "1              DRC01        5.920          Regular         0.019278   \n",
       "2              FDN15       17.500          Low Fat         0.016760   \n",
       "3              FDX07       19.200          Regular         0.000000   \n",
       "4              NCD19        8.930          Low Fat         0.000000   \n",
       "...              ...          ...              ...              ...   \n",
       "8518           FDF22        6.865          Low Fat         0.056783   \n",
       "8519           FDS36        8.380          Regular         0.046982   \n",
       "8520           NCJ29       10.600          Low Fat         0.035186   \n",
       "8521           FDN46        7.210          Regular         0.145221   \n",
       "8522           DRG01       14.800          Low Fat         0.044878   \n",
       "\n",
       "                  Item_Type  Item_MRP Outlet_Identifier  \\\n",
       "0                     Dairy  249.8092            OUT049   \n",
       "1               Soft Drinks   48.2692            OUT018   \n",
       "2                      Meat  141.6180            OUT049   \n",
       "3     Fruits and Vegetables  182.0950            OUT010   \n",
       "4                 Household   53.8614            OUT013   \n",
       "...                     ...       ...               ...   \n",
       "8518            Snack Foods  214.5218            OUT013   \n",
       "8519           Baking Goods  108.1570            OUT045   \n",
       "8520     Health and Hygiene   85.1224            OUT035   \n",
       "8521            Snack Foods  103.1332            OUT018   \n",
       "8522            Soft Drinks   75.4670            OUT046   \n",
       "\n",
       "      Outlet_Establishment_Year Outlet_Size Outlet_Location_Type  \\\n",
       "0                          1999      Medium               Tier 1   \n",
       "1                          2009      Medium               Tier 3   \n",
       "2                          1999      Medium               Tier 1   \n",
       "3                          1998         NaN               Tier 3   \n",
       "4                          1987        High               Tier 3   \n",
       "...                         ...         ...                  ...   \n",
       "8518                       1987        High               Tier 3   \n",
       "8519                       2002         NaN               Tier 2   \n",
       "8520                       2004       Small               Tier 2   \n",
       "8521                       2009      Medium               Tier 3   \n",
       "8522                       1997       Small               Tier 1   \n",
       "\n",
       "            Outlet_Type  Item_Outlet_Sales  \n",
       "0     Supermarket Type1          3735.1380  \n",
       "1     Supermarket Type2           443.4228  \n",
       "2     Supermarket Type1          2097.2700  \n",
       "3         Grocery Store           732.3800  \n",
       "4     Supermarket Type1           994.7052  \n",
       "...                 ...                ...  \n",
       "8518  Supermarket Type1          2778.3834  \n",
       "8519  Supermarket Type1           549.2850  \n",
       "8520  Supermarket Type1          1193.1136  \n",
       "8521  Supermarket Type2          1845.5976  \n",
       "8522  Supermarket Type1           765.6700  \n",
       "\n",
       "[8523 rows x 12 columns]"
      ],
      "text/html": "<div>\n<style scoped>\n    .dataframe tbody tr th:only-of-type {\n        vertical-align: middle;\n    }\n\n    .dataframe tbody tr th {\n        vertical-align: top;\n    }\n\n    .dataframe thead th {\n        text-align: right;\n    }\n</style>\n<table border=\"1\" class=\"dataframe\">\n  <thead>\n    <tr style=\"text-align: right;\">\n      <th></th>\n      <th>Item_Identifier</th>\n      <th>Item_Weight</th>\n      <th>Item_Fat_Content</th>\n      <th>Item_Visibility</th>\n      <th>Item_Type</th>\n      <th>Item_MRP</th>\n      <th>Outlet_Identifier</th>\n      <th>Outlet_Establishment_Year</th>\n      <th>Outlet_Size</th>\n      <th>Outlet_Location_Type</th>\n      <th>Outlet_Type</th>\n      <th>Item_Outlet_Sales</th>\n    </tr>\n  </thead>\n  <tbody>\n    <tr>\n      <th>0</th>\n      <td>FDA15</td>\n      <td>9.300</td>\n      <td>Low Fat</td>\n      <td>0.016047</td>\n      <td>Dairy</td>\n      <td>249.8092</td>\n      <td>OUT049</td>\n      <td>1999</td>\n      <td>Medium</td>\n      <td>Tier 1</td>\n      <td>Supermarket Type1</td>\n      <td>3735.1380</td>\n    </tr>\n    <tr>\n      <th>1</th>\n      <td>DRC01</td>\n      <td>5.920</td>\n      <td>Regular</td>\n      <td>0.019278</td>\n      <td>Soft Drinks</td>\n      <td>48.2692</td>\n      <td>OUT018</td>\n      <td>2009</td>\n      <td>Medium</td>\n      <td>Tier 3</td>\n      <td>Supermarket Type2</td>\n      <td>443.4228</td>\n    </tr>\n    <tr>\n      <th>2</th>\n      <td>FDN15</td>\n      <td>17.500</td>\n      <td>Low Fat</td>\n      <td>0.016760</td>\n      <td>Meat</td>\n      <td>141.6180</td>\n      <td>OUT049</td>\n      <td>1999</td>\n      <td>Medium</td>\n      <td>Tier 1</td>\n      <td>Supermarket Type1</td>\n      <td>2097.2700</td>\n    </tr>\n    <tr>\n      <th>3</th>\n      <td>FDX07</td>\n      <td>19.200</td>\n      <td>Regular</td>\n      <td>0.000000</td>\n      <td>Fruits and Vegetables</td>\n      <td>182.0950</td>\n      <td>OUT010</td>\n      <td>1998</td>\n      <td>NaN</td>\n      <td>Tier 3</td>\n      <td>Grocery Store</td>\n      <td>732.3800</td>\n    </tr>\n    <tr>\n      <th>4</th>\n      <td>NCD19</td>\n      <td>8.930</td>\n      <td>Low Fat</td>\n      <td>0.000000</td>\n      <td>Household</td>\n      <td>53.8614</td>\n      <td>OUT013</td>\n      <td>1987</td>\n      <td>High</td>\n      <td>Tier 3</td>\n      <td>Supermarket Type1</td>\n      <td>994.7052</td>\n    </tr>\n    <tr>\n      <th>...</th>\n      <td>...</td>\n      <td>...</td>\n      <td>...</td>\n      <td>...</td>\n      <td>...</td>\n      <td>...</td>\n      <td>...</td>\n      <td>...</td>\n      <td>...</td>\n      <td>...</td>\n      <td>...</td>\n      <td>...</td>\n    </tr>\n    <tr>\n      <th>8518</th>\n      <td>FDF22</td>\n      <td>6.865</td>\n      <td>Low Fat</td>\n      <td>0.056783</td>\n      <td>Snack Foods</td>\n      <td>214.5218</td>\n      <td>OUT013</td>\n      <td>1987</td>\n      <td>High</td>\n      <td>Tier 3</td>\n      <td>Supermarket Type1</td>\n      <td>2778.3834</td>\n    </tr>\n    <tr>\n      <th>8519</th>\n      <td>FDS36</td>\n      <td>8.380</td>\n      <td>Regular</td>\n      <td>0.046982</td>\n      <td>Baking Goods</td>\n      <td>108.1570</td>\n      <td>OUT045</td>\n      <td>2002</td>\n      <td>NaN</td>\n      <td>Tier 2</td>\n      <td>Supermarket Type1</td>\n      <td>549.2850</td>\n    </tr>\n    <tr>\n      <th>8520</th>\n      <td>NCJ29</td>\n      <td>10.600</td>\n      <td>Low Fat</td>\n      <td>0.035186</td>\n      <td>Health and Hygiene</td>\n      <td>85.1224</td>\n      <td>OUT035</td>\n      <td>2004</td>\n      <td>Small</td>\n      <td>Tier 2</td>\n      <td>Supermarket Type1</td>\n      <td>1193.1136</td>\n    </tr>\n    <tr>\n      <th>8521</th>\n      <td>FDN46</td>\n      <td>7.210</td>\n      <td>Regular</td>\n      <td>0.145221</td>\n      <td>Snack Foods</td>\n      <td>103.1332</td>\n      <td>OUT018</td>\n      <td>2009</td>\n      <td>Medium</td>\n      <td>Tier 3</td>\n      <td>Supermarket Type2</td>\n      <td>1845.5976</td>\n    </tr>\n    <tr>\n      <th>8522</th>\n      <td>DRG01</td>\n      <td>14.800</td>\n      <td>Low Fat</td>\n      <td>0.044878</td>\n      <td>Soft Drinks</td>\n      <td>75.4670</td>\n      <td>OUT046</td>\n      <td>1997</td>\n      <td>Small</td>\n      <td>Tier 1</td>\n      <td>Supermarket Type1</td>\n      <td>765.6700</td>\n    </tr>\n  </tbody>\n</table>\n<p>8523 rows × 12 columns</p>\n</div>"
     },
     "metadata": {},
     "execution_count": 101
    }
   ],
   "source": [
    "df = pd.read_csv('Train_UWu5bXk.csv')\n",
    "df"
   ]
  },
  {
   "cell_type": "code",
   "execution_count": 102,
   "metadata": {},
   "outputs": [
    {
     "output_type": "execute_result",
     "data": {
      "text/plain": [
       "array(['Low Fat', 'Regular', 'low fat', 'LF', 'reg'], dtype=object)"
      ]
     },
     "metadata": {},
     "execution_count": 102
    }
   ],
   "source": [
    "df.Item_Fat_Content\t.unique()"
   ]
  },
  {
   "cell_type": "code",
   "execution_count": 103,
   "metadata": {},
   "outputs": [],
   "source": [
    "assign_lebels = {'Low Fat':'LF', 'low fat':'LF', 'reg':'REG', 'Regular':'REG'}"
   ]
  },
  {
   "cell_type": "code",
   "execution_count": 104,
   "metadata": {},
   "outputs": [
    {
     "output_type": "execute_result",
     "data": {
      "text/plain": [
       "     Item_Identifier  Item_Weight Item_Fat_Content  Item_Visibility  \\\n",
       "0              FDA15        9.300               LF         0.016047   \n",
       "1              DRC01        5.920              REG         0.019278   \n",
       "2              FDN15       17.500               LF         0.016760   \n",
       "3              FDX07       19.200              REG         0.000000   \n",
       "4              NCD19        8.930               LF         0.000000   \n",
       "...              ...          ...              ...              ...   \n",
       "8518           FDF22        6.865               LF         0.056783   \n",
       "8519           FDS36        8.380              REG         0.046982   \n",
       "8520           NCJ29       10.600               LF         0.035186   \n",
       "8521           FDN46        7.210              REG         0.145221   \n",
       "8522           DRG01       14.800               LF         0.044878   \n",
       "\n",
       "                  Item_Type  Item_MRP Outlet_Identifier  \\\n",
       "0                     Dairy  249.8092            OUT049   \n",
       "1               Soft Drinks   48.2692            OUT018   \n",
       "2                      Meat  141.6180            OUT049   \n",
       "3     Fruits and Vegetables  182.0950            OUT010   \n",
       "4                 Household   53.8614            OUT013   \n",
       "...                     ...       ...               ...   \n",
       "8518            Snack Foods  214.5218            OUT013   \n",
       "8519           Baking Goods  108.1570            OUT045   \n",
       "8520     Health and Hygiene   85.1224            OUT035   \n",
       "8521            Snack Foods  103.1332            OUT018   \n",
       "8522            Soft Drinks   75.4670            OUT046   \n",
       "\n",
       "      Outlet_Establishment_Year Outlet_Size Outlet_Location_Type  \\\n",
       "0                          1999      Medium               Tier 1   \n",
       "1                          2009      Medium               Tier 3   \n",
       "2                          1999      Medium               Tier 1   \n",
       "3                          1998         NaN               Tier 3   \n",
       "4                          1987        High               Tier 3   \n",
       "...                         ...         ...                  ...   \n",
       "8518                       1987        High               Tier 3   \n",
       "8519                       2002         NaN               Tier 2   \n",
       "8520                       2004       Small               Tier 2   \n",
       "8521                       2009      Medium               Tier 3   \n",
       "8522                       1997       Small               Tier 1   \n",
       "\n",
       "            Outlet_Type  Item_Outlet_Sales  \n",
       "0     Supermarket Type1          3735.1380  \n",
       "1     Supermarket Type2           443.4228  \n",
       "2     Supermarket Type1          2097.2700  \n",
       "3         Grocery Store           732.3800  \n",
       "4     Supermarket Type1           994.7052  \n",
       "...                 ...                ...  \n",
       "8518  Supermarket Type1          2778.3834  \n",
       "8519  Supermarket Type1           549.2850  \n",
       "8520  Supermarket Type1          1193.1136  \n",
       "8521  Supermarket Type2          1845.5976  \n",
       "8522  Supermarket Type1           765.6700  \n",
       "\n",
       "[8523 rows x 12 columns]"
      ],
      "text/html": "<div>\n<style scoped>\n    .dataframe tbody tr th:only-of-type {\n        vertical-align: middle;\n    }\n\n    .dataframe tbody tr th {\n        vertical-align: top;\n    }\n\n    .dataframe thead th {\n        text-align: right;\n    }\n</style>\n<table border=\"1\" class=\"dataframe\">\n  <thead>\n    <tr style=\"text-align: right;\">\n      <th></th>\n      <th>Item_Identifier</th>\n      <th>Item_Weight</th>\n      <th>Item_Fat_Content</th>\n      <th>Item_Visibility</th>\n      <th>Item_Type</th>\n      <th>Item_MRP</th>\n      <th>Outlet_Identifier</th>\n      <th>Outlet_Establishment_Year</th>\n      <th>Outlet_Size</th>\n      <th>Outlet_Location_Type</th>\n      <th>Outlet_Type</th>\n      <th>Item_Outlet_Sales</th>\n    </tr>\n  </thead>\n  <tbody>\n    <tr>\n      <th>0</th>\n      <td>FDA15</td>\n      <td>9.300</td>\n      <td>LF</td>\n      <td>0.016047</td>\n      <td>Dairy</td>\n      <td>249.8092</td>\n      <td>OUT049</td>\n      <td>1999</td>\n      <td>Medium</td>\n      <td>Tier 1</td>\n      <td>Supermarket Type1</td>\n      <td>3735.1380</td>\n    </tr>\n    <tr>\n      <th>1</th>\n      <td>DRC01</td>\n      <td>5.920</td>\n      <td>REG</td>\n      <td>0.019278</td>\n      <td>Soft Drinks</td>\n      <td>48.2692</td>\n      <td>OUT018</td>\n      <td>2009</td>\n      <td>Medium</td>\n      <td>Tier 3</td>\n      <td>Supermarket Type2</td>\n      <td>443.4228</td>\n    </tr>\n    <tr>\n      <th>2</th>\n      <td>FDN15</td>\n      <td>17.500</td>\n      <td>LF</td>\n      <td>0.016760</td>\n      <td>Meat</td>\n      <td>141.6180</td>\n      <td>OUT049</td>\n      <td>1999</td>\n      <td>Medium</td>\n      <td>Tier 1</td>\n      <td>Supermarket Type1</td>\n      <td>2097.2700</td>\n    </tr>\n    <tr>\n      <th>3</th>\n      <td>FDX07</td>\n      <td>19.200</td>\n      <td>REG</td>\n      <td>0.000000</td>\n      <td>Fruits and Vegetables</td>\n      <td>182.0950</td>\n      <td>OUT010</td>\n      <td>1998</td>\n      <td>NaN</td>\n      <td>Tier 3</td>\n      <td>Grocery Store</td>\n      <td>732.3800</td>\n    </tr>\n    <tr>\n      <th>4</th>\n      <td>NCD19</td>\n      <td>8.930</td>\n      <td>LF</td>\n      <td>0.000000</td>\n      <td>Household</td>\n      <td>53.8614</td>\n      <td>OUT013</td>\n      <td>1987</td>\n      <td>High</td>\n      <td>Tier 3</td>\n      <td>Supermarket Type1</td>\n      <td>994.7052</td>\n    </tr>\n    <tr>\n      <th>...</th>\n      <td>...</td>\n      <td>...</td>\n      <td>...</td>\n      <td>...</td>\n      <td>...</td>\n      <td>...</td>\n      <td>...</td>\n      <td>...</td>\n      <td>...</td>\n      <td>...</td>\n      <td>...</td>\n      <td>...</td>\n    </tr>\n    <tr>\n      <th>8518</th>\n      <td>FDF22</td>\n      <td>6.865</td>\n      <td>LF</td>\n      <td>0.056783</td>\n      <td>Snack Foods</td>\n      <td>214.5218</td>\n      <td>OUT013</td>\n      <td>1987</td>\n      <td>High</td>\n      <td>Tier 3</td>\n      <td>Supermarket Type1</td>\n      <td>2778.3834</td>\n    </tr>\n    <tr>\n      <th>8519</th>\n      <td>FDS36</td>\n      <td>8.380</td>\n      <td>REG</td>\n      <td>0.046982</td>\n      <td>Baking Goods</td>\n      <td>108.1570</td>\n      <td>OUT045</td>\n      <td>2002</td>\n      <td>NaN</td>\n      <td>Tier 2</td>\n      <td>Supermarket Type1</td>\n      <td>549.2850</td>\n    </tr>\n    <tr>\n      <th>8520</th>\n      <td>NCJ29</td>\n      <td>10.600</td>\n      <td>LF</td>\n      <td>0.035186</td>\n      <td>Health and Hygiene</td>\n      <td>85.1224</td>\n      <td>OUT035</td>\n      <td>2004</td>\n      <td>Small</td>\n      <td>Tier 2</td>\n      <td>Supermarket Type1</td>\n      <td>1193.1136</td>\n    </tr>\n    <tr>\n      <th>8521</th>\n      <td>FDN46</td>\n      <td>7.210</td>\n      <td>REG</td>\n      <td>0.145221</td>\n      <td>Snack Foods</td>\n      <td>103.1332</td>\n      <td>OUT018</td>\n      <td>2009</td>\n      <td>Medium</td>\n      <td>Tier 3</td>\n      <td>Supermarket Type2</td>\n      <td>1845.5976</td>\n    </tr>\n    <tr>\n      <th>8522</th>\n      <td>DRG01</td>\n      <td>14.800</td>\n      <td>LF</td>\n      <td>0.044878</td>\n      <td>Soft Drinks</td>\n      <td>75.4670</td>\n      <td>OUT046</td>\n      <td>1997</td>\n      <td>Small</td>\n      <td>Tier 1</td>\n      <td>Supermarket Type1</td>\n      <td>765.6700</td>\n    </tr>\n  </tbody>\n</table>\n<p>8523 rows × 12 columns</p>\n</div>"
     },
     "metadata": {},
     "execution_count": 104
    }
   ],
   "source": [
    "df = df.replace(assign_lebels)\n",
    "df"
   ]
  },
  {
   "cell_type": "code",
   "execution_count": 105,
   "metadata": {},
   "outputs": [
    {
     "output_type": "execute_result",
     "data": {
      "text/plain": [
       "2410"
      ]
     },
     "metadata": {},
     "execution_count": 105
    }
   ],
   "source": [
    "df['Outlet_Size'].isnull().sum()"
   ]
  },
  {
   "cell_type": "code",
   "execution_count": 106,
   "metadata": {},
   "outputs": [
    {
     "output_type": "execute_result",
     "data": {
      "text/plain": [
       "     Item_Identifier  Item_Weight Item_Fat_Content  Item_Visibility  \\\n",
       "0              FDA15        9.300               LF         0.016047   \n",
       "1              DRC01        5.920              REG         0.019278   \n",
       "2              FDN15       17.500               LF         0.016760   \n",
       "3              FDX07       19.200              REG         0.000000   \n",
       "4              NCD19        8.930               LF         0.000000   \n",
       "...              ...          ...              ...              ...   \n",
       "8518           FDF22        6.865               LF         0.056783   \n",
       "8519           FDS36        8.380              REG         0.046982   \n",
       "8520           NCJ29       10.600               LF         0.035186   \n",
       "8521           FDN46        7.210              REG         0.145221   \n",
       "8522           DRG01       14.800               LF         0.044878   \n",
       "\n",
       "                  Item_Type  Item_MRP Outlet_Identifier  \\\n",
       "0                     Dairy  249.8092            OUT049   \n",
       "1               Soft Drinks   48.2692            OUT018   \n",
       "2                      Meat  141.6180            OUT049   \n",
       "3     Fruits and Vegetables  182.0950            OUT010   \n",
       "4                 Household   53.8614            OUT013   \n",
       "...                     ...       ...               ...   \n",
       "8518            Snack Foods  214.5218            OUT013   \n",
       "8519           Baking Goods  108.1570            OUT045   \n",
       "8520     Health and Hygiene   85.1224            OUT035   \n",
       "8521            Snack Foods  103.1332            OUT018   \n",
       "8522            Soft Drinks   75.4670            OUT046   \n",
       "\n",
       "      Outlet_Establishment_Year Outlet_Size Outlet_Location_Type  \\\n",
       "0                          1999      Medium               Tier 1   \n",
       "1                          2009      Medium               Tier 3   \n",
       "2                          1999      Medium               Tier 1   \n",
       "3                          1998       Small               Tier 3   \n",
       "4                          1987        High               Tier 3   \n",
       "...                         ...         ...                  ...   \n",
       "8518                       1987        High               Tier 3   \n",
       "8519                       2002         NaN               Tier 2   \n",
       "8520                       2004       Small               Tier 2   \n",
       "8521                       2009      Medium               Tier 3   \n",
       "8522                       1997       Small               Tier 1   \n",
       "\n",
       "            Outlet_Type  Item_Outlet_Sales  \n",
       "0     Supermarket Type1          3735.1380  \n",
       "1     Supermarket Type2           443.4228  \n",
       "2     Supermarket Type1          2097.2700  \n",
       "3         Grocery Store           732.3800  \n",
       "4     Supermarket Type1           994.7052  \n",
       "...                 ...                ...  \n",
       "8518  Supermarket Type1          2778.3834  \n",
       "8519  Supermarket Type1           549.2850  \n",
       "8520  Supermarket Type1          1193.1136  \n",
       "8521  Supermarket Type2          1845.5976  \n",
       "8522  Supermarket Type1           765.6700  \n",
       "\n",
       "[8523 rows x 12 columns]"
      ],
      "text/html": "<div>\n<style scoped>\n    .dataframe tbody tr th:only-of-type {\n        vertical-align: middle;\n    }\n\n    .dataframe tbody tr th {\n        vertical-align: top;\n    }\n\n    .dataframe thead th {\n        text-align: right;\n    }\n</style>\n<table border=\"1\" class=\"dataframe\">\n  <thead>\n    <tr style=\"text-align: right;\">\n      <th></th>\n      <th>Item_Identifier</th>\n      <th>Item_Weight</th>\n      <th>Item_Fat_Content</th>\n      <th>Item_Visibility</th>\n      <th>Item_Type</th>\n      <th>Item_MRP</th>\n      <th>Outlet_Identifier</th>\n      <th>Outlet_Establishment_Year</th>\n      <th>Outlet_Size</th>\n      <th>Outlet_Location_Type</th>\n      <th>Outlet_Type</th>\n      <th>Item_Outlet_Sales</th>\n    </tr>\n  </thead>\n  <tbody>\n    <tr>\n      <th>0</th>\n      <td>FDA15</td>\n      <td>9.300</td>\n      <td>LF</td>\n      <td>0.016047</td>\n      <td>Dairy</td>\n      <td>249.8092</td>\n      <td>OUT049</td>\n      <td>1999</td>\n      <td>Medium</td>\n      <td>Tier 1</td>\n      <td>Supermarket Type1</td>\n      <td>3735.1380</td>\n    </tr>\n    <tr>\n      <th>1</th>\n      <td>DRC01</td>\n      <td>5.920</td>\n      <td>REG</td>\n      <td>0.019278</td>\n      <td>Soft Drinks</td>\n      <td>48.2692</td>\n      <td>OUT018</td>\n      <td>2009</td>\n      <td>Medium</td>\n      <td>Tier 3</td>\n      <td>Supermarket Type2</td>\n      <td>443.4228</td>\n    </tr>\n    <tr>\n      <th>2</th>\n      <td>FDN15</td>\n      <td>17.500</td>\n      <td>LF</td>\n      <td>0.016760</td>\n      <td>Meat</td>\n      <td>141.6180</td>\n      <td>OUT049</td>\n      <td>1999</td>\n      <td>Medium</td>\n      <td>Tier 1</td>\n      <td>Supermarket Type1</td>\n      <td>2097.2700</td>\n    </tr>\n    <tr>\n      <th>3</th>\n      <td>FDX07</td>\n      <td>19.200</td>\n      <td>REG</td>\n      <td>0.000000</td>\n      <td>Fruits and Vegetables</td>\n      <td>182.0950</td>\n      <td>OUT010</td>\n      <td>1998</td>\n      <td>Small</td>\n      <td>Tier 3</td>\n      <td>Grocery Store</td>\n      <td>732.3800</td>\n    </tr>\n    <tr>\n      <th>4</th>\n      <td>NCD19</td>\n      <td>8.930</td>\n      <td>LF</td>\n      <td>0.000000</td>\n      <td>Household</td>\n      <td>53.8614</td>\n      <td>OUT013</td>\n      <td>1987</td>\n      <td>High</td>\n      <td>Tier 3</td>\n      <td>Supermarket Type1</td>\n      <td>994.7052</td>\n    </tr>\n    <tr>\n      <th>...</th>\n      <td>...</td>\n      <td>...</td>\n      <td>...</td>\n      <td>...</td>\n      <td>...</td>\n      <td>...</td>\n      <td>...</td>\n      <td>...</td>\n      <td>...</td>\n      <td>...</td>\n      <td>...</td>\n      <td>...</td>\n    </tr>\n    <tr>\n      <th>8518</th>\n      <td>FDF22</td>\n      <td>6.865</td>\n      <td>LF</td>\n      <td>0.056783</td>\n      <td>Snack Foods</td>\n      <td>214.5218</td>\n      <td>OUT013</td>\n      <td>1987</td>\n      <td>High</td>\n      <td>Tier 3</td>\n      <td>Supermarket Type1</td>\n      <td>2778.3834</td>\n    </tr>\n    <tr>\n      <th>8519</th>\n      <td>FDS36</td>\n      <td>8.380</td>\n      <td>REG</td>\n      <td>0.046982</td>\n      <td>Baking Goods</td>\n      <td>108.1570</td>\n      <td>OUT045</td>\n      <td>2002</td>\n      <td>NaN</td>\n      <td>Tier 2</td>\n      <td>Supermarket Type1</td>\n      <td>549.2850</td>\n    </tr>\n    <tr>\n      <th>8520</th>\n      <td>NCJ29</td>\n      <td>10.600</td>\n      <td>LF</td>\n      <td>0.035186</td>\n      <td>Health and Hygiene</td>\n      <td>85.1224</td>\n      <td>OUT035</td>\n      <td>2004</td>\n      <td>Small</td>\n      <td>Tier 2</td>\n      <td>Supermarket Type1</td>\n      <td>1193.1136</td>\n    </tr>\n    <tr>\n      <th>8521</th>\n      <td>FDN46</td>\n      <td>7.210</td>\n      <td>REG</td>\n      <td>0.145221</td>\n      <td>Snack Foods</td>\n      <td>103.1332</td>\n      <td>OUT018</td>\n      <td>2009</td>\n      <td>Medium</td>\n      <td>Tier 3</td>\n      <td>Supermarket Type2</td>\n      <td>1845.5976</td>\n    </tr>\n    <tr>\n      <th>8522</th>\n      <td>DRG01</td>\n      <td>14.800</td>\n      <td>LF</td>\n      <td>0.044878</td>\n      <td>Soft Drinks</td>\n      <td>75.4670</td>\n      <td>OUT046</td>\n      <td>1997</td>\n      <td>Small</td>\n      <td>Tier 1</td>\n      <td>Supermarket Type1</td>\n      <td>765.6700</td>\n    </tr>\n  </tbody>\n</table>\n<p>8523 rows × 12 columns</p>\n</div>"
     },
     "metadata": {},
     "execution_count": 106
    }
   ],
   "source": [
    "df['Outlet_Size'] = np.where((df.Outlet_Type.values == 'Grocery Store'), 'Small', df.Outlet_Size.values)\n",
    "df"
   ]
  },
  {
   "cell_type": "code",
   "execution_count": 107,
   "metadata": {},
   "outputs": [
    {
     "output_type": "execute_result",
     "data": {
      "text/plain": [
       "1855"
      ]
     },
     "metadata": {},
     "execution_count": 107
    }
   ],
   "source": [
    "df['Outlet_Size'].isnull().sum()"
   ]
  },
  {
   "cell_type": "code",
   "execution_count": 108,
   "metadata": {},
   "outputs": [],
   "source": [
    "df['Outlet_Size'] = np.where(\n",
    "    (df.Outlet_Type.values == 'Supermarket Type1') & (df.Outlet_Location_Type.values == 'Tier 2'), 'Small',\n",
    "    df.Outlet_Size.values)"
   ]
  },
  {
   "cell_type": "code",
   "execution_count": 109,
   "metadata": {},
   "outputs": [
    {
     "output_type": "execute_result",
     "data": {
      "text/plain": [
       "0"
      ]
     },
     "metadata": {},
     "execution_count": 109
    }
   ],
   "source": [
    "df['Outlet_Size'].isnull().sum()"
   ]
  },
  {
   "cell_type": "code",
   "execution_count": 110,
   "metadata": {},
   "outputs": [
    {
     "output_type": "execute_result",
     "data": {
      "text/plain": [
       "0    Small\n",
       "dtype: object"
      ]
     },
     "metadata": {},
     "execution_count": 110
    }
   ],
   "source": [
    "df['Outlet_Size'].mode()"
   ]
  },
  {
   "cell_type": "code",
   "execution_count": 111,
   "metadata": {},
   "outputs": [
    {
     "output_type": "execute_result",
     "data": {
      "text/plain": [
       "     Item_Identifier  Item_Weight Item_Fat_Content  Item_Visibility  \\\n",
       "7              FDP10          NaN               LF         0.127470   \n",
       "18             DRI11          NaN               LF         0.034238   \n",
       "21             FDW12          NaN              REG         0.035400   \n",
       "23             FDC37          NaN               LF         0.057557   \n",
       "29             FDC14          NaN              REG         0.072222   \n",
       "...              ...          ...              ...              ...   \n",
       "8485           DRK37          NaN               LF         0.043792   \n",
       "8487           DRG13          NaN               LF         0.037006   \n",
       "8488           NCN14          NaN               LF         0.091473   \n",
       "8490           FDU44          NaN              REG         0.102296   \n",
       "8504           NCN18          NaN               LF         0.124111   \n",
       "\n",
       "                  Item_Type  Item_MRP Outlet_Identifier  \\\n",
       "7               Snack Foods  107.7622            OUT027   \n",
       "18              Hard Drinks  113.2834            OUT027   \n",
       "21             Baking Goods  144.5444            OUT027   \n",
       "23             Baking Goods  107.6938            OUT019   \n",
       "29                   Canned   43.6454            OUT019   \n",
       "...                     ...       ...               ...   \n",
       "8485            Soft Drinks  189.0530            OUT027   \n",
       "8487            Soft Drinks  164.7526            OUT027   \n",
       "8488                 Others  184.6608            OUT027   \n",
       "8490  Fruits and Vegetables  162.3552            OUT019   \n",
       "8504              Household  111.7544            OUT027   \n",
       "\n",
       "      Outlet_Establishment_Year Outlet_Size Outlet_Location_Type  \\\n",
       "7                          1985      Medium               Tier 3   \n",
       "18                         1985      Medium               Tier 3   \n",
       "21                         1985      Medium               Tier 3   \n",
       "23                         1985       Small               Tier 1   \n",
       "29                         1985       Small               Tier 1   \n",
       "...                         ...         ...                  ...   \n",
       "8485                       1985      Medium               Tier 3   \n",
       "8487                       1985      Medium               Tier 3   \n",
       "8488                       1985      Medium               Tier 3   \n",
       "8490                       1985       Small               Tier 1   \n",
       "8504                       1985      Medium               Tier 3   \n",
       "\n",
       "            Outlet_Type  Item_Outlet_Sales  \n",
       "7     Supermarket Type3          4022.7636  \n",
       "18    Supermarket Type3          2303.6680  \n",
       "21    Supermarket Type3          4064.0432  \n",
       "23        Grocery Store           214.3876  \n",
       "29        Grocery Store           125.8362  \n",
       "...                 ...                ...  \n",
       "8485  Supermarket Type3          6261.8490  \n",
       "8487  Supermarket Type3          4111.3150  \n",
       "8488  Supermarket Type3          2756.4120  \n",
       "8490      Grocery Store           487.3656  \n",
       "8504  Supermarket Type3          4138.6128  \n",
       "\n",
       "[1463 rows x 12 columns]"
      ],
      "text/html": "<div>\n<style scoped>\n    .dataframe tbody tr th:only-of-type {\n        vertical-align: middle;\n    }\n\n    .dataframe tbody tr th {\n        vertical-align: top;\n    }\n\n    .dataframe thead th {\n        text-align: right;\n    }\n</style>\n<table border=\"1\" class=\"dataframe\">\n  <thead>\n    <tr style=\"text-align: right;\">\n      <th></th>\n      <th>Item_Identifier</th>\n      <th>Item_Weight</th>\n      <th>Item_Fat_Content</th>\n      <th>Item_Visibility</th>\n      <th>Item_Type</th>\n      <th>Item_MRP</th>\n      <th>Outlet_Identifier</th>\n      <th>Outlet_Establishment_Year</th>\n      <th>Outlet_Size</th>\n      <th>Outlet_Location_Type</th>\n      <th>Outlet_Type</th>\n      <th>Item_Outlet_Sales</th>\n    </tr>\n  </thead>\n  <tbody>\n    <tr>\n      <th>7</th>\n      <td>FDP10</td>\n      <td>NaN</td>\n      <td>LF</td>\n      <td>0.127470</td>\n      <td>Snack Foods</td>\n      <td>107.7622</td>\n      <td>OUT027</td>\n      <td>1985</td>\n      <td>Medium</td>\n      <td>Tier 3</td>\n      <td>Supermarket Type3</td>\n      <td>4022.7636</td>\n    </tr>\n    <tr>\n      <th>18</th>\n      <td>DRI11</td>\n      <td>NaN</td>\n      <td>LF</td>\n      <td>0.034238</td>\n      <td>Hard Drinks</td>\n      <td>113.2834</td>\n      <td>OUT027</td>\n      <td>1985</td>\n      <td>Medium</td>\n      <td>Tier 3</td>\n      <td>Supermarket Type3</td>\n      <td>2303.6680</td>\n    </tr>\n    <tr>\n      <th>21</th>\n      <td>FDW12</td>\n      <td>NaN</td>\n      <td>REG</td>\n      <td>0.035400</td>\n      <td>Baking Goods</td>\n      <td>144.5444</td>\n      <td>OUT027</td>\n      <td>1985</td>\n      <td>Medium</td>\n      <td>Tier 3</td>\n      <td>Supermarket Type3</td>\n      <td>4064.0432</td>\n    </tr>\n    <tr>\n      <th>23</th>\n      <td>FDC37</td>\n      <td>NaN</td>\n      <td>LF</td>\n      <td>0.057557</td>\n      <td>Baking Goods</td>\n      <td>107.6938</td>\n      <td>OUT019</td>\n      <td>1985</td>\n      <td>Small</td>\n      <td>Tier 1</td>\n      <td>Grocery Store</td>\n      <td>214.3876</td>\n    </tr>\n    <tr>\n      <th>29</th>\n      <td>FDC14</td>\n      <td>NaN</td>\n      <td>REG</td>\n      <td>0.072222</td>\n      <td>Canned</td>\n      <td>43.6454</td>\n      <td>OUT019</td>\n      <td>1985</td>\n      <td>Small</td>\n      <td>Tier 1</td>\n      <td>Grocery Store</td>\n      <td>125.8362</td>\n    </tr>\n    <tr>\n      <th>...</th>\n      <td>...</td>\n      <td>...</td>\n      <td>...</td>\n      <td>...</td>\n      <td>...</td>\n      <td>...</td>\n      <td>...</td>\n      <td>...</td>\n      <td>...</td>\n      <td>...</td>\n      <td>...</td>\n      <td>...</td>\n    </tr>\n    <tr>\n      <th>8485</th>\n      <td>DRK37</td>\n      <td>NaN</td>\n      <td>LF</td>\n      <td>0.043792</td>\n      <td>Soft Drinks</td>\n      <td>189.0530</td>\n      <td>OUT027</td>\n      <td>1985</td>\n      <td>Medium</td>\n      <td>Tier 3</td>\n      <td>Supermarket Type3</td>\n      <td>6261.8490</td>\n    </tr>\n    <tr>\n      <th>8487</th>\n      <td>DRG13</td>\n      <td>NaN</td>\n      <td>LF</td>\n      <td>0.037006</td>\n      <td>Soft Drinks</td>\n      <td>164.7526</td>\n      <td>OUT027</td>\n      <td>1985</td>\n      <td>Medium</td>\n      <td>Tier 3</td>\n      <td>Supermarket Type3</td>\n      <td>4111.3150</td>\n    </tr>\n    <tr>\n      <th>8488</th>\n      <td>NCN14</td>\n      <td>NaN</td>\n      <td>LF</td>\n      <td>0.091473</td>\n      <td>Others</td>\n      <td>184.6608</td>\n      <td>OUT027</td>\n      <td>1985</td>\n      <td>Medium</td>\n      <td>Tier 3</td>\n      <td>Supermarket Type3</td>\n      <td>2756.4120</td>\n    </tr>\n    <tr>\n      <th>8490</th>\n      <td>FDU44</td>\n      <td>NaN</td>\n      <td>REG</td>\n      <td>0.102296</td>\n      <td>Fruits and Vegetables</td>\n      <td>162.3552</td>\n      <td>OUT019</td>\n      <td>1985</td>\n      <td>Small</td>\n      <td>Tier 1</td>\n      <td>Grocery Store</td>\n      <td>487.3656</td>\n    </tr>\n    <tr>\n      <th>8504</th>\n      <td>NCN18</td>\n      <td>NaN</td>\n      <td>LF</td>\n      <td>0.124111</td>\n      <td>Household</td>\n      <td>111.7544</td>\n      <td>OUT027</td>\n      <td>1985</td>\n      <td>Medium</td>\n      <td>Tier 3</td>\n      <td>Supermarket Type3</td>\n      <td>4138.6128</td>\n    </tr>\n  </tbody>\n</table>\n<p>1463 rows × 12 columns</p>\n</div>"
     },
     "metadata": {},
     "execution_count": 111
    }
   ],
   "source": [
    "df[df['Item_Weight'].isna()]"
   ]
  },
  {
   "cell_type": "code",
   "execution_count": 112,
   "metadata": {},
   "outputs": [
    {
     "output_type": "execute_result",
     "data": {
      "text/plain": [
       "1463"
      ]
     },
     "metadata": {},
     "execution_count": 112
    }
   ],
   "source": [
    "df['Item_Weight'].isnull().sum()"
   ]
  },
  {
   "cell_type": "code",
   "execution_count": 113,
   "metadata": {},
   "outputs": [
    {
     "output_type": "execute_result",
     "data": {
      "text/plain": [
       "1559"
      ]
     },
     "metadata": {},
     "execution_count": 113
    }
   ],
   "source": [
    "len(df['Item_Identifier'].unique())"
   ]
  },
  {
   "cell_type": "code",
   "execution_count": 114,
   "metadata": {},
   "outputs": [
    {
     "output_type": "execute_result",
     "data": {
      "text/plain": [
       "array(['FDA15', 'DRC01', 'FDN15', ..., 'NCF55', 'NCW30', 'NCW05'],\n",
       "      dtype=object)"
      ]
     },
     "metadata": {},
     "execution_count": 114
    }
   ],
   "source": [
    "df['Item_Identifier'].unique()"
   ]
  },
  {
   "cell_type": "code",
   "execution_count": 115,
   "metadata": {},
   "outputs": [
    {
     "output_type": "execute_result",
     "data": {
      "text/plain": [
       "     Item_Identifier  Item_Weight Item_Fat_Content  Item_Visibility  \\\n",
       "0              FDA15        9.300               LF         0.016047   \n",
       "1              DRC01        5.920              REG         0.019278   \n",
       "2              FDN15       17.500               LF         0.016760   \n",
       "3              FDX07       19.200              REG         0.000000   \n",
       "4              NCD19        8.930               LF         0.000000   \n",
       "...              ...          ...              ...              ...   \n",
       "8518           FDF22        6.865               LF         0.056783   \n",
       "8519           FDS36        8.380              REG         0.046982   \n",
       "8520           NCJ29       10.600               LF         0.035186   \n",
       "8521           FDN46        7.210              REG         0.145221   \n",
       "8522           DRG01       14.800               LF         0.044878   \n",
       "\n",
       "                  Item_Type  Item_MRP Outlet_Identifier  \\\n",
       "0                     Dairy  249.8092            OUT049   \n",
       "1               Soft Drinks   48.2692            OUT018   \n",
       "2                      Meat  141.6180            OUT049   \n",
       "3     Fruits and Vegetables  182.0950            OUT010   \n",
       "4                 Household   53.8614            OUT013   \n",
       "...                     ...       ...               ...   \n",
       "8518            Snack Foods  214.5218            OUT013   \n",
       "8519           Baking Goods  108.1570            OUT045   \n",
       "8520     Health and Hygiene   85.1224            OUT035   \n",
       "8521            Snack Foods  103.1332            OUT018   \n",
       "8522            Soft Drinks   75.4670            OUT046   \n",
       "\n",
       "      Outlet_Establishment_Year Outlet_Size Outlet_Location_Type  \\\n",
       "0                          1999      Medium               Tier 1   \n",
       "1                          2009      Medium               Tier 3   \n",
       "2                          1999      Medium               Tier 1   \n",
       "3                          1998       Small               Tier 3   \n",
       "4                          1987        High               Tier 3   \n",
       "...                         ...         ...                  ...   \n",
       "8518                       1987        High               Tier 3   \n",
       "8519                       2002       Small               Tier 2   \n",
       "8520                       2004       Small               Tier 2   \n",
       "8521                       2009      Medium               Tier 3   \n",
       "8522                       1997       Small               Tier 1   \n",
       "\n",
       "            Outlet_Type  Item_Outlet_Sales  \n",
       "0     Supermarket Type1          3735.1380  \n",
       "1     Supermarket Type2           443.4228  \n",
       "2     Supermarket Type1          2097.2700  \n",
       "3         Grocery Store           732.3800  \n",
       "4     Supermarket Type1           994.7052  \n",
       "...                 ...                ...  \n",
       "8518  Supermarket Type1          2778.3834  \n",
       "8519  Supermarket Type1           549.2850  \n",
       "8520  Supermarket Type1          1193.1136  \n",
       "8521  Supermarket Type2          1845.5976  \n",
       "8522  Supermarket Type1           765.6700  \n",
       "\n",
       "[8523 rows x 12 columns]"
      ],
      "text/html": "<div>\n<style scoped>\n    .dataframe tbody tr th:only-of-type {\n        vertical-align: middle;\n    }\n\n    .dataframe tbody tr th {\n        vertical-align: top;\n    }\n\n    .dataframe thead th {\n        text-align: right;\n    }\n</style>\n<table border=\"1\" class=\"dataframe\">\n  <thead>\n    <tr style=\"text-align: right;\">\n      <th></th>\n      <th>Item_Identifier</th>\n      <th>Item_Weight</th>\n      <th>Item_Fat_Content</th>\n      <th>Item_Visibility</th>\n      <th>Item_Type</th>\n      <th>Item_MRP</th>\n      <th>Outlet_Identifier</th>\n      <th>Outlet_Establishment_Year</th>\n      <th>Outlet_Size</th>\n      <th>Outlet_Location_Type</th>\n      <th>Outlet_Type</th>\n      <th>Item_Outlet_Sales</th>\n    </tr>\n  </thead>\n  <tbody>\n    <tr>\n      <th>0</th>\n      <td>FDA15</td>\n      <td>9.300</td>\n      <td>LF</td>\n      <td>0.016047</td>\n      <td>Dairy</td>\n      <td>249.8092</td>\n      <td>OUT049</td>\n      <td>1999</td>\n      <td>Medium</td>\n      <td>Tier 1</td>\n      <td>Supermarket Type1</td>\n      <td>3735.1380</td>\n    </tr>\n    <tr>\n      <th>1</th>\n      <td>DRC01</td>\n      <td>5.920</td>\n      <td>REG</td>\n      <td>0.019278</td>\n      <td>Soft Drinks</td>\n      <td>48.2692</td>\n      <td>OUT018</td>\n      <td>2009</td>\n      <td>Medium</td>\n      <td>Tier 3</td>\n      <td>Supermarket Type2</td>\n      <td>443.4228</td>\n    </tr>\n    <tr>\n      <th>2</th>\n      <td>FDN15</td>\n      <td>17.500</td>\n      <td>LF</td>\n      <td>0.016760</td>\n      <td>Meat</td>\n      <td>141.6180</td>\n      <td>OUT049</td>\n      <td>1999</td>\n      <td>Medium</td>\n      <td>Tier 1</td>\n      <td>Supermarket Type1</td>\n      <td>2097.2700</td>\n    </tr>\n    <tr>\n      <th>3</th>\n      <td>FDX07</td>\n      <td>19.200</td>\n      <td>REG</td>\n      <td>0.000000</td>\n      <td>Fruits and Vegetables</td>\n      <td>182.0950</td>\n      <td>OUT010</td>\n      <td>1998</td>\n      <td>Small</td>\n      <td>Tier 3</td>\n      <td>Grocery Store</td>\n      <td>732.3800</td>\n    </tr>\n    <tr>\n      <th>4</th>\n      <td>NCD19</td>\n      <td>8.930</td>\n      <td>LF</td>\n      <td>0.000000</td>\n      <td>Household</td>\n      <td>53.8614</td>\n      <td>OUT013</td>\n      <td>1987</td>\n      <td>High</td>\n      <td>Tier 3</td>\n      <td>Supermarket Type1</td>\n      <td>994.7052</td>\n    </tr>\n    <tr>\n      <th>...</th>\n      <td>...</td>\n      <td>...</td>\n      <td>...</td>\n      <td>...</td>\n      <td>...</td>\n      <td>...</td>\n      <td>...</td>\n      <td>...</td>\n      <td>...</td>\n      <td>...</td>\n      <td>...</td>\n      <td>...</td>\n    </tr>\n    <tr>\n      <th>8518</th>\n      <td>FDF22</td>\n      <td>6.865</td>\n      <td>LF</td>\n      <td>0.056783</td>\n      <td>Snack Foods</td>\n      <td>214.5218</td>\n      <td>OUT013</td>\n      <td>1987</td>\n      <td>High</td>\n      <td>Tier 3</td>\n      <td>Supermarket Type1</td>\n      <td>2778.3834</td>\n    </tr>\n    <tr>\n      <th>8519</th>\n      <td>FDS36</td>\n      <td>8.380</td>\n      <td>REG</td>\n      <td>0.046982</td>\n      <td>Baking Goods</td>\n      <td>108.1570</td>\n      <td>OUT045</td>\n      <td>2002</td>\n      <td>Small</td>\n      <td>Tier 2</td>\n      <td>Supermarket Type1</td>\n      <td>549.2850</td>\n    </tr>\n    <tr>\n      <th>8520</th>\n      <td>NCJ29</td>\n      <td>10.600</td>\n      <td>LF</td>\n      <td>0.035186</td>\n      <td>Health and Hygiene</td>\n      <td>85.1224</td>\n      <td>OUT035</td>\n      <td>2004</td>\n      <td>Small</td>\n      <td>Tier 2</td>\n      <td>Supermarket Type1</td>\n      <td>1193.1136</td>\n    </tr>\n    <tr>\n      <th>8521</th>\n      <td>FDN46</td>\n      <td>7.210</td>\n      <td>REG</td>\n      <td>0.145221</td>\n      <td>Snack Foods</td>\n      <td>103.1332</td>\n      <td>OUT018</td>\n      <td>2009</td>\n      <td>Medium</td>\n      <td>Tier 3</td>\n      <td>Supermarket Type2</td>\n      <td>1845.5976</td>\n    </tr>\n    <tr>\n      <th>8522</th>\n      <td>DRG01</td>\n      <td>14.800</td>\n      <td>LF</td>\n      <td>0.044878</td>\n      <td>Soft Drinks</td>\n      <td>75.4670</td>\n      <td>OUT046</td>\n      <td>1997</td>\n      <td>Small</td>\n      <td>Tier 1</td>\n      <td>Supermarket Type1</td>\n      <td>765.6700</td>\n    </tr>\n  </tbody>\n</table>\n<p>8523 rows × 12 columns</p>\n</div>"
     },
     "metadata": {},
     "execution_count": 115
    }
   ],
   "source": [
    "df"
   ]
  },
  {
   "cell_type": "code",
   "execution_count": 116,
   "metadata": {},
   "outputs": [
    {
     "output_type": "execute_result",
     "data": {
      "text/plain": [
       "     Item_Identifier  Item_Weight\n",
       "0              FDA15        9.300\n",
       "1              DRC01        5.920\n",
       "2              FDN15       17.500\n",
       "3              FDX07       19.200\n",
       "4              NCD19        8.930\n",
       "...              ...          ...\n",
       "8518           FDF22        6.865\n",
       "8519           FDS36        8.380\n",
       "8520           NCJ29       10.600\n",
       "8521           FDN46        7.210\n",
       "8522           DRG01       14.800\n",
       "\n",
       "[8523 rows x 2 columns]"
      ],
      "text/html": "<div>\n<style scoped>\n    .dataframe tbody tr th:only-of-type {\n        vertical-align: middle;\n    }\n\n    .dataframe tbody tr th {\n        vertical-align: top;\n    }\n\n    .dataframe thead th {\n        text-align: right;\n    }\n</style>\n<table border=\"1\" class=\"dataframe\">\n  <thead>\n    <tr style=\"text-align: right;\">\n      <th></th>\n      <th>Item_Identifier</th>\n      <th>Item_Weight</th>\n    </tr>\n  </thead>\n  <tbody>\n    <tr>\n      <th>0</th>\n      <td>FDA15</td>\n      <td>9.300</td>\n    </tr>\n    <tr>\n      <th>1</th>\n      <td>DRC01</td>\n      <td>5.920</td>\n    </tr>\n    <tr>\n      <th>2</th>\n      <td>FDN15</td>\n      <td>17.500</td>\n    </tr>\n    <tr>\n      <th>3</th>\n      <td>FDX07</td>\n      <td>19.200</td>\n    </tr>\n    <tr>\n      <th>4</th>\n      <td>NCD19</td>\n      <td>8.930</td>\n    </tr>\n    <tr>\n      <th>...</th>\n      <td>...</td>\n      <td>...</td>\n    </tr>\n    <tr>\n      <th>8518</th>\n      <td>FDF22</td>\n      <td>6.865</td>\n    </tr>\n    <tr>\n      <th>8519</th>\n      <td>FDS36</td>\n      <td>8.380</td>\n    </tr>\n    <tr>\n      <th>8520</th>\n      <td>NCJ29</td>\n      <td>10.600</td>\n    </tr>\n    <tr>\n      <th>8521</th>\n      <td>FDN46</td>\n      <td>7.210</td>\n    </tr>\n    <tr>\n      <th>8522</th>\n      <td>DRG01</td>\n      <td>14.800</td>\n    </tr>\n  </tbody>\n</table>\n<p>8523 rows × 2 columns</p>\n</div>"
     },
     "metadata": {},
     "execution_count": 116
    }
   ],
   "source": [
    "dummy = df[['Item_Identifier', 'Item_Weight']]\n",
    "dummy"
   ]
  },
  {
   "cell_type": "code",
   "execution_count": 117,
   "metadata": {},
   "outputs": [
    {
     "output_type": "execute_result",
     "data": {
      "text/plain": [
       "     Item_Identifier  Item_Weight\n",
       "7              FDP10          NaN\n",
       "18             DRI11          NaN\n",
       "21             FDW12          NaN\n",
       "23             FDC37          NaN\n",
       "29             FDC14          NaN\n",
       "...              ...          ...\n",
       "8485           DRK37          NaN\n",
       "8487           DRG13          NaN\n",
       "8488           NCN14          NaN\n",
       "8490           FDU44          NaN\n",
       "8504           NCN18          NaN\n",
       "\n",
       "[1463 rows x 2 columns]"
      ],
      "text/html": "<div>\n<style scoped>\n    .dataframe tbody tr th:only-of-type {\n        vertical-align: middle;\n    }\n\n    .dataframe tbody tr th {\n        vertical-align: top;\n    }\n\n    .dataframe thead th {\n        text-align: right;\n    }\n</style>\n<table border=\"1\" class=\"dataframe\">\n  <thead>\n    <tr style=\"text-align: right;\">\n      <th></th>\n      <th>Item_Identifier</th>\n      <th>Item_Weight</th>\n    </tr>\n  </thead>\n  <tbody>\n    <tr>\n      <th>7</th>\n      <td>FDP10</td>\n      <td>NaN</td>\n    </tr>\n    <tr>\n      <th>18</th>\n      <td>DRI11</td>\n      <td>NaN</td>\n    </tr>\n    <tr>\n      <th>21</th>\n      <td>FDW12</td>\n      <td>NaN</td>\n    </tr>\n    <tr>\n      <th>23</th>\n      <td>FDC37</td>\n      <td>NaN</td>\n    </tr>\n    <tr>\n      <th>29</th>\n      <td>FDC14</td>\n      <td>NaN</td>\n    </tr>\n    <tr>\n      <th>...</th>\n      <td>...</td>\n      <td>...</td>\n    </tr>\n    <tr>\n      <th>8485</th>\n      <td>DRK37</td>\n      <td>NaN</td>\n    </tr>\n    <tr>\n      <th>8487</th>\n      <td>DRG13</td>\n      <td>NaN</td>\n    </tr>\n    <tr>\n      <th>8488</th>\n      <td>NCN14</td>\n      <td>NaN</td>\n    </tr>\n    <tr>\n      <th>8490</th>\n      <td>FDU44</td>\n      <td>NaN</td>\n    </tr>\n    <tr>\n      <th>8504</th>\n      <td>NCN18</td>\n      <td>NaN</td>\n    </tr>\n  </tbody>\n</table>\n<p>1463 rows × 2 columns</p>\n</div>"
     },
     "metadata": {},
     "execution_count": 117
    }
   ],
   "source": [
    "dummy[dummy['Item_Weight'].isna()]"
   ]
  },
  {
   "cell_type": "code",
   "execution_count": 118,
   "metadata": {},
   "outputs": [
    {
     "output_type": "execute_result",
     "data": {
      "text/plain": [
       "     Item_Identifier  Item_Weight\n",
       "0              FDA15        9.300\n",
       "1              DRC01        5.920\n",
       "2              FDN15       17.500\n",
       "3              FDX07       19.200\n",
       "4              NCD19        8.930\n",
       "...              ...          ...\n",
       "8518           FDF22        6.865\n",
       "8519           FDS36        8.380\n",
       "8520           NCJ29       10.600\n",
       "8521           FDN46        7.210\n",
       "8522           DRG01       14.800\n",
       "\n",
       "[7060 rows x 2 columns]"
      ],
      "text/html": "<div>\n<style scoped>\n    .dataframe tbody tr th:only-of-type {\n        vertical-align: middle;\n    }\n\n    .dataframe tbody tr th {\n        vertical-align: top;\n    }\n\n    .dataframe thead th {\n        text-align: right;\n    }\n</style>\n<table border=\"1\" class=\"dataframe\">\n  <thead>\n    <tr style=\"text-align: right;\">\n      <th></th>\n      <th>Item_Identifier</th>\n      <th>Item_Weight</th>\n    </tr>\n  </thead>\n  <tbody>\n    <tr>\n      <th>0</th>\n      <td>FDA15</td>\n      <td>9.300</td>\n    </tr>\n    <tr>\n      <th>1</th>\n      <td>DRC01</td>\n      <td>5.920</td>\n    </tr>\n    <tr>\n      <th>2</th>\n      <td>FDN15</td>\n      <td>17.500</td>\n    </tr>\n    <tr>\n      <th>3</th>\n      <td>FDX07</td>\n      <td>19.200</td>\n    </tr>\n    <tr>\n      <th>4</th>\n      <td>NCD19</td>\n      <td>8.930</td>\n    </tr>\n    <tr>\n      <th>...</th>\n      <td>...</td>\n      <td>...</td>\n    </tr>\n    <tr>\n      <th>8518</th>\n      <td>FDF22</td>\n      <td>6.865</td>\n    </tr>\n    <tr>\n      <th>8519</th>\n      <td>FDS36</td>\n      <td>8.380</td>\n    </tr>\n    <tr>\n      <th>8520</th>\n      <td>NCJ29</td>\n      <td>10.600</td>\n    </tr>\n    <tr>\n      <th>8521</th>\n      <td>FDN46</td>\n      <td>7.210</td>\n    </tr>\n    <tr>\n      <th>8522</th>\n      <td>DRG01</td>\n      <td>14.800</td>\n    </tr>\n  </tbody>\n</table>\n<p>7060 rows × 2 columns</p>\n</div>"
     },
     "metadata": {},
     "execution_count": 118
    }
   ],
   "source": [
    "dummy = dummy[(dummy.Item_Weight.isnull() == False)]\n",
    "dummy"
   ]
  },
  {
   "cell_type": "code",
   "execution_count": 119,
   "metadata": {},
   "outputs": [
    {
     "output_type": "execute_result",
     "data": {
      "text/plain": [
       "1555"
      ]
     },
     "metadata": {},
     "execution_count": 119
    }
   ],
   "source": [
    "len(dummy.Item_Identifier.unique())"
   ]
  },
  {
   "cell_type": "code",
   "execution_count": 120,
   "metadata": {},
   "outputs": [
    {
     "output_type": "execute_result",
     "data": {
      "text/plain": [
       "     Item_Identifier  Item_Weight\n",
       "0              FDA15        9.300\n",
       "1              DRC01        5.920\n",
       "2              FDN15       17.500\n",
       "3              FDX07       19.200\n",
       "4              NCD19        8.930\n",
       "...              ...          ...\n",
       "7298           NCW05       20.250\n",
       "7373           FDS09        8.895\n",
       "7421           FDU43       19.350\n",
       "7944           FDO49       10.600\n",
       "8471           NCT53        5.400\n",
       "\n",
       "[1555 rows x 2 columns]"
      ],
      "text/html": "<div>\n<style scoped>\n    .dataframe tbody tr th:only-of-type {\n        vertical-align: middle;\n    }\n\n    .dataframe tbody tr th {\n        vertical-align: top;\n    }\n\n    .dataframe thead th {\n        text-align: right;\n    }\n</style>\n<table border=\"1\" class=\"dataframe\">\n  <thead>\n    <tr style=\"text-align: right;\">\n      <th></th>\n      <th>Item_Identifier</th>\n      <th>Item_Weight</th>\n    </tr>\n  </thead>\n  <tbody>\n    <tr>\n      <th>0</th>\n      <td>FDA15</td>\n      <td>9.300</td>\n    </tr>\n    <tr>\n      <th>1</th>\n      <td>DRC01</td>\n      <td>5.920</td>\n    </tr>\n    <tr>\n      <th>2</th>\n      <td>FDN15</td>\n      <td>17.500</td>\n    </tr>\n    <tr>\n      <th>3</th>\n      <td>FDX07</td>\n      <td>19.200</td>\n    </tr>\n    <tr>\n      <th>4</th>\n      <td>NCD19</td>\n      <td>8.930</td>\n    </tr>\n    <tr>\n      <th>...</th>\n      <td>...</td>\n      <td>...</td>\n    </tr>\n    <tr>\n      <th>7298</th>\n      <td>NCW05</td>\n      <td>20.250</td>\n    </tr>\n    <tr>\n      <th>7373</th>\n      <td>FDS09</td>\n      <td>8.895</td>\n    </tr>\n    <tr>\n      <th>7421</th>\n      <td>FDU43</td>\n      <td>19.350</td>\n    </tr>\n    <tr>\n      <th>7944</th>\n      <td>FDO49</td>\n      <td>10.600</td>\n    </tr>\n    <tr>\n      <th>8471</th>\n      <td>NCT53</td>\n      <td>5.400</td>\n    </tr>\n  </tbody>\n</table>\n<p>1555 rows × 2 columns</p>\n</div>"
     },
     "metadata": {},
     "execution_count": 120
    }
   ],
   "source": [
    "dummy = dummy.drop_duplicates()\n",
    "dummy"
   ]
  },
  {
   "cell_type": "code",
   "execution_count": 121,
   "metadata": {},
   "outputs": [
    {
     "output_type": "execute_result",
     "data": {
      "text/plain": [
       "                  0      1      2      3      4       5      6      8     \\\n",
       "Item_Identifier  FDA15  DRC01  FDN15  FDX07  NCD19   FDP36  FDO10  FDH17   \n",
       "Item_Weight        9.3   5.92   17.5   19.2   8.93  10.395  13.65   16.2   \n",
       "\n",
       "                  9      10    ...   6369    6440   6563   6892   7039   7298  \\\n",
       "Item_Identifier  FDU28  FDY07  ...  FDO08   FDD28  FDG04  NCF55  NCW30  NCW05   \n",
       "Item_Weight       19.2   11.8  ...   11.1  10.695   13.1  6.675   5.21  20.25   \n",
       "\n",
       "                  7373   7421   7944   8471  \n",
       "Item_Identifier  FDS09  FDU43  FDO49  NCT53  \n",
       "Item_Weight      8.895  19.35   10.6    5.4  \n",
       "\n",
       "[2 rows x 1555 columns]"
      ],
      "text/html": "<div>\n<style scoped>\n    .dataframe tbody tr th:only-of-type {\n        vertical-align: middle;\n    }\n\n    .dataframe tbody tr th {\n        vertical-align: top;\n    }\n\n    .dataframe thead th {\n        text-align: right;\n    }\n</style>\n<table border=\"1\" class=\"dataframe\">\n  <thead>\n    <tr style=\"text-align: right;\">\n      <th></th>\n      <th>0</th>\n      <th>1</th>\n      <th>2</th>\n      <th>3</th>\n      <th>4</th>\n      <th>5</th>\n      <th>6</th>\n      <th>8</th>\n      <th>9</th>\n      <th>10</th>\n      <th>...</th>\n      <th>6369</th>\n      <th>6440</th>\n      <th>6563</th>\n      <th>6892</th>\n      <th>7039</th>\n      <th>7298</th>\n      <th>7373</th>\n      <th>7421</th>\n      <th>7944</th>\n      <th>8471</th>\n    </tr>\n  </thead>\n  <tbody>\n    <tr>\n      <th>Item_Identifier</th>\n      <td>FDA15</td>\n      <td>DRC01</td>\n      <td>FDN15</td>\n      <td>FDX07</td>\n      <td>NCD19</td>\n      <td>FDP36</td>\n      <td>FDO10</td>\n      <td>FDH17</td>\n      <td>FDU28</td>\n      <td>FDY07</td>\n      <td>...</td>\n      <td>FDO08</td>\n      <td>FDD28</td>\n      <td>FDG04</td>\n      <td>NCF55</td>\n      <td>NCW30</td>\n      <td>NCW05</td>\n      <td>FDS09</td>\n      <td>FDU43</td>\n      <td>FDO49</td>\n      <td>NCT53</td>\n    </tr>\n    <tr>\n      <th>Item_Weight</th>\n      <td>9.3</td>\n      <td>5.92</td>\n      <td>17.5</td>\n      <td>19.2</td>\n      <td>8.93</td>\n      <td>10.395</td>\n      <td>13.65</td>\n      <td>16.2</td>\n      <td>19.2</td>\n      <td>11.8</td>\n      <td>...</td>\n      <td>11.1</td>\n      <td>10.695</td>\n      <td>13.1</td>\n      <td>6.675</td>\n      <td>5.21</td>\n      <td>20.25</td>\n      <td>8.895</td>\n      <td>19.35</td>\n      <td>10.6</td>\n      <td>5.4</td>\n    </tr>\n  </tbody>\n</table>\n<p>2 rows × 1555 columns</p>\n</div>"
     },
     "metadata": {},
     "execution_count": 121
    }
   ],
   "source": [
    "dummy = dummy.transpose()\n",
    "dummy"
   ]
  },
  {
   "cell_type": "code",
   "execution_count": 122,
   "metadata": {},
   "outputs": [
    {
     "output_type": "execute_result",
     "data": {
      "text/plain": [
       "0       FDA15\n",
       "1       DRC01\n",
       "2       FDN15\n",
       "3       FDX07\n",
       "4       NCD19\n",
       "        ...  \n",
       "7298    NCW05\n",
       "7373    FDS09\n",
       "7421    FDU43\n",
       "7944    FDO49\n",
       "8471    NCT53\n",
       "Name: Item_Identifier, Length: 1555, dtype: object"
      ]
     },
     "metadata": {},
     "execution_count": 122
    }
   ],
   "source": [
    "new_header = dummy.iloc[0] #grab the first row for the header\n",
    "new_header"
   ]
  },
  {
   "cell_type": "code",
   "execution_count": 123,
   "metadata": {},
   "outputs": [
    {
     "output_type": "execute_result",
     "data": {
      "text/plain": [
       "            0     1     2     3     4       5      6     8     9     10    \\\n",
       "Item_Weight  9.3  5.92  17.5  19.2  8.93  10.395  13.65  16.2  19.2  11.8   \n",
       "\n",
       "             ...  6369    6440  6563   6892  7039   7298   7373   7421  7944  \\\n",
       "Item_Weight  ...  11.1  10.695  13.1  6.675  5.21  20.25  8.895  19.35  10.6   \n",
       "\n",
       "            8471  \n",
       "Item_Weight  5.4  \n",
       "\n",
       "[1 rows x 1555 columns]"
      ],
      "text/html": "<div>\n<style scoped>\n    .dataframe tbody tr th:only-of-type {\n        vertical-align: middle;\n    }\n\n    .dataframe tbody tr th {\n        vertical-align: top;\n    }\n\n    .dataframe thead th {\n        text-align: right;\n    }\n</style>\n<table border=\"1\" class=\"dataframe\">\n  <thead>\n    <tr style=\"text-align: right;\">\n      <th></th>\n      <th>0</th>\n      <th>1</th>\n      <th>2</th>\n      <th>3</th>\n      <th>4</th>\n      <th>5</th>\n      <th>6</th>\n      <th>8</th>\n      <th>9</th>\n      <th>10</th>\n      <th>...</th>\n      <th>6369</th>\n      <th>6440</th>\n      <th>6563</th>\n      <th>6892</th>\n      <th>7039</th>\n      <th>7298</th>\n      <th>7373</th>\n      <th>7421</th>\n      <th>7944</th>\n      <th>8471</th>\n    </tr>\n  </thead>\n  <tbody>\n    <tr>\n      <th>Item_Weight</th>\n      <td>9.3</td>\n      <td>5.92</td>\n      <td>17.5</td>\n      <td>19.2</td>\n      <td>8.93</td>\n      <td>10.395</td>\n      <td>13.65</td>\n      <td>16.2</td>\n      <td>19.2</td>\n      <td>11.8</td>\n      <td>...</td>\n      <td>11.1</td>\n      <td>10.695</td>\n      <td>13.1</td>\n      <td>6.675</td>\n      <td>5.21</td>\n      <td>20.25</td>\n      <td>8.895</td>\n      <td>19.35</td>\n      <td>10.6</td>\n      <td>5.4</td>\n    </tr>\n  </tbody>\n</table>\n<p>1 rows × 1555 columns</p>\n</div>"
     },
     "metadata": {},
     "execution_count": 123
    }
   ],
   "source": [
    "dummy = dummy[1:] #take the data less the header row\n",
    "dummy"
   ]
  },
  {
   "cell_type": "code",
   "execution_count": 124,
   "metadata": {},
   "outputs": [
    {
     "output_type": "execute_result",
     "data": {
      "text/plain": [
       "Item_Identifier FDA15 DRC01 FDN15 FDX07 NCD19   FDP36  FDO10 FDH17 FDU28  \\\n",
       "Item_Weight       9.3  5.92  17.5  19.2  8.93  10.395  13.65  16.2  19.2   \n",
       "\n",
       "Item_Identifier FDY07  ... FDO08   FDD28 FDG04  NCF55 NCW30  NCW05  FDS09  \\\n",
       "Item_Weight      11.8  ...  11.1  10.695  13.1  6.675  5.21  20.25  8.895   \n",
       "\n",
       "Item_Identifier  FDU43 FDO49 NCT53  \n",
       "Item_Weight      19.35  10.6   5.4  \n",
       "\n",
       "[1 rows x 1555 columns]"
      ],
      "text/html": "<div>\n<style scoped>\n    .dataframe tbody tr th:only-of-type {\n        vertical-align: middle;\n    }\n\n    .dataframe tbody tr th {\n        vertical-align: top;\n    }\n\n    .dataframe thead th {\n        text-align: right;\n    }\n</style>\n<table border=\"1\" class=\"dataframe\">\n  <thead>\n    <tr style=\"text-align: right;\">\n      <th>Item_Identifier</th>\n      <th>FDA15</th>\n      <th>DRC01</th>\n      <th>FDN15</th>\n      <th>FDX07</th>\n      <th>NCD19</th>\n      <th>FDP36</th>\n      <th>FDO10</th>\n      <th>FDH17</th>\n      <th>FDU28</th>\n      <th>FDY07</th>\n      <th>...</th>\n      <th>FDO08</th>\n      <th>FDD28</th>\n      <th>FDG04</th>\n      <th>NCF55</th>\n      <th>NCW30</th>\n      <th>NCW05</th>\n      <th>FDS09</th>\n      <th>FDU43</th>\n      <th>FDO49</th>\n      <th>NCT53</th>\n    </tr>\n  </thead>\n  <tbody>\n    <tr>\n      <th>Item_Weight</th>\n      <td>9.3</td>\n      <td>5.92</td>\n      <td>17.5</td>\n      <td>19.2</td>\n      <td>8.93</td>\n      <td>10.395</td>\n      <td>13.65</td>\n      <td>16.2</td>\n      <td>19.2</td>\n      <td>11.8</td>\n      <td>...</td>\n      <td>11.1</td>\n      <td>10.695</td>\n      <td>13.1</td>\n      <td>6.675</td>\n      <td>5.21</td>\n      <td>20.25</td>\n      <td>8.895</td>\n      <td>19.35</td>\n      <td>10.6</td>\n      <td>5.4</td>\n    </tr>\n  </tbody>\n</table>\n<p>1 rows × 1555 columns</p>\n</div>"
     },
     "metadata": {},
     "execution_count": 124
    }
   ],
   "source": [
    "dummy.columns = new_header #set the header row as the df header\n",
    "dummy"
   ]
  },
  {
   "cell_type": "code",
   "execution_count": 125,
   "metadata": {},
   "outputs": [
    {
     "output_type": "execute_result",
     "data": {
      "text/plain": [
       "': {'Item_Weight': 9.6},\n",
       " 'FDD16': {'Item_Weight': 20.5},\n",
       " 'FDY44': {'Item_Weight': 14.15},\n",
       " 'DRH51': {'Item_Weight': 17.6},\n",
       " 'FDI50': {'Item_Weight': 8.42},\n",
       " 'FDB60': {'Item_Weight': 9.3},\n",
       " 'FDA20': {'Item_Weight': 6.78},\n",
       " 'DRF37': {'Item_Weight': 17.25},\n",
       " 'FDJ26': {'Item_Weight': 15.3},\n",
       " 'FDZ25': {'Item_Weight': 15.7},\n",
       " 'FDZ58': {'Item_Weight': 17.85},\n",
       " 'NCG18': {'Item_Weight': 15.3},\n",
       " 'FDH50': {'Item_Weight': 15.0},\n",
       " 'DRO35': {'Item_Weight': 13.85},\n",
       " 'FDP52': {'Item_Weight': 18.7},\n",
       " 'FDC05': {'Item_Weight': 13.1},\n",
       " 'NCA41': {'Item_Weight': 16.75},\n",
       " 'FDX56': {'Item_Weight': 17.1},\n",
       " 'NCP02': {'Item_Weight': 7.105},\n",
       " 'FDZ49': {'Item_Weight': 11.0},\n",
       " 'NCJ17': {'Item_Weight': 7.68},\n",
       " 'FDP48': {'Item_Weight': 7.52},\n",
       " 'FDI53': {'Item_Weight': 8.895},\n",
       " 'FDW02': {'Item_Weight': 4.805},\n",
       " 'FDO48': {'Item_Weight': 15.0},\n",
       " 'NCR53': {'Item_Weight': 12.15},\n",
       " 'FDF56': {'Item_Weight': 16.7},\n",
       " 'FDL57': {'Item_Weight': 15.1},\n",
       " 'FDV52': {'Item_Weight': 20.7},\n",
       " 'NCS41': {'Item_Weight': 12.85},\n",
       " 'FDF12': {'Item_Weight': 8.235},\n",
       " 'FDM13': {'Item_Weight': 6.425},\n",
       " 'NCS42': {'Item_Weight': 8.6},\n",
       " 'FDD47': {'Item_Weight': 7.6},\n",
       " 'DRE03': {'Item_Weight': 19.6},\n",
       " 'FDE20': {'Item_Weight': 11.35},\n",
       " 'FDI33': {'Item_Weight': 16.5},\n",
       " 'NCT06': {'Item_Weight': 17.1},\n",
       " 'FDD10': {'Item_Weight': 20.6},\n",
       " 'FDK52': {'Item_Weight': 18.25},\n",
       " 'FDJ36': {'Item_Weight': 14.5},\n",
       " 'NCK18': {'Item_Weight': 9.6},\n",
       " 'FDB08': {'Item_Weight': 6.055},\n",
       " 'FDX43': {'Item_Weight': 5.655},\n",
       " 'FDU58': {'Item_Weight': 6.61},\n",
       " 'NCT29': {'Item_Weight': 12.6},\n",
       " 'NCB43': {'Item_Weight': 20.2},\n",
       " 'FDR37': {'Item_Weight': 16.5},\n",
       " 'FDG56': {'Item_Weight': 13.3},\n",
       " 'FDL13': {'Item_Weight': 13.85},\n",
       " 'FDQ03': {'Item_Weight': 15.0},\n",
       " 'NCC55': {'Item_Weight': 10.695},\n",
       " 'FDA25': {'Item_Weight': 16.5},\n",
       " 'FDV33': {'Item_Weight': 9.6},\n",
       " 'FDX47': {'Item_Weight': 6.55},\n",
       " 'FDB02': {'Item_Weight': 9.695},\n",
       " 'FDI56': {'Item_Weight': 7.325},\n",
       " 'FDQ08': {'Item_Weight': 15.7},\n",
       " 'DRJ49': {'Item_Weight': 6.865},\n",
       " 'FDP26': {'Item_Weight': 7.785},\n",
       " 'FDO32': {'Item_Weight': 6.36},\n",
       " 'FDR34': {'Item_Weight': 17.0},\n",
       " 'FDU59': {'Item_Weight': 5.78},\n",
       " 'FDN31': {'Item_Weight': 11.5},\n",
       " 'FDC03': {'Item_Weight': 8.575},\n",
       " 'FDL14': {'Item_Weight': 8.115},\n",
       " 'FDP39': {'Item_Weight': 12.65},\n",
       " 'FDT11': {'Item_Weight': 5.94},\n",
       " 'FDU48': {'Item_Weight': 18.85},\n",
       " 'NCP06': {'Item_Weight': 20.7},\n",
       " 'FDT45': {'Item_Weight': 15.85},\n",
       " 'FDE56': {'Item_Weight': 17.25},\n",
       " 'FDZ34': {'Item_Weight': 6.695},\n",
       " 'NCM54': {'Item_Weight': 17.7},\n",
       " 'FDV24': {'Item_Weight': 5.635},\n",
       " 'FDD46': {'Item_Weight': 6.035},\n",
       " 'FDQ39': {'Item_Weight': 14.8},\n",
       " 'FDE11': {'Item_Weight': 17.7},\n",
       " 'NCU54': {'Item_Weight': 8.88},\n",
       " 'FDO60': {'Item_Weight': 20.0},\n",
       " 'NCS06': {'Item_Weight': 7.935},\n",
       " 'FDQ55': {'Item_Weight': 13.65},\n",
       " 'NCO02': {'Item_Weight': 11.15},\n",
       " 'FDB12': {'Item_Weight': 11.15},\n",
       " 'FDT40': {'Item_Weight': 5.985},\n",
       " 'NCO05': {'Item_Weight': 7.27},\n",
       " 'FDR32': {'Item_Weight': 6.78},\n",
       " 'FDM04': {'Item_Weight': 9.195},\n",
       " 'FDH08': {'Item_Weight': 7.51},\n",
       " 'FDZ08': {'Item_Weight': 12.5},\n",
       " 'FDU03': {'Item_Weight': 18.7},\n",
       " 'FDV08': {'Item_Weight': 7.35},\n",
       " 'FDY49': {'Item_Weight': 17.2},\n",
       " 'DRK47': {'Item_Weight': 7.905},\n",
       " 'NCE06': {'Item_Weight': 5.825},\n",
       " 'DRI47': {'Item_Weight': 14.7},\n",
       " 'FDR35': {'Item_Weight': 12.5},\n",
       " 'FDK03': {'Item_Weight': 12.6},\n",
       " 'FDN48': {'Item_Weight': 13.35},\n",
       " 'FDZ59': {'Item_Weight': 6.63},\n",
       " 'FDL09': {'Item_Weight': 19.6},\n",
       " 'FDL03': {'Item_Weight': 19.25},\n",
       " 'NCG07': {'Item_Weight': 12.3},\n",
       " 'FDP22': {'Item_Weight': 14.65},\n",
       " 'FDL45': {'Item_Weight': 15.6},\n",
       " 'FDC45': {'Item_Weight': 17.0},\n",
       " 'FDI40': {'Item_Weight': 11.5},\n",
       " 'FDQ11': {'Item_Weight': 5.695},\n",
       " 'FDQ52': {'Item_Weight': 17.0},\n",
       " 'FDJ27': {'Item_Weight': 17.7},\n",
       " 'NCM18': {'Item_Weight': 13.0},\n",
       " 'FDT26': {'Item_Weight': 18.85},\n",
       " 'DRD60': {'Item_Weight': 15.7},\n",
       " 'NCH07': {'Item_Weight': 13.15},\n",
       " 'FDP44': {'Item_Weight': 16.5},\n",
       " 'FDI48': {'Item_Weight': 11.85},\n",
       " 'NCF06': {'Item_Weight': 6.235},\n",
       " 'FDT24': {'Item_Weight': 12.35},\n",
       " 'FDK08': {'Item_Weight': 9.195},\n",
       " 'FDS11': {'Item_Weight': 7.05},\n",
       " 'DRE15': {'Item_Weight': 13.35},\n",
       " 'FDX21': {'Item_Weight': 7.05},\n",
       " 'NCI42': {'Item_Weight': 18.75},\n",
       " 'FDX37': {'Item_Weight': 16.2},\n",
       " 'FDX14': {'Item_Weight': 13.1},\n",
       " 'FDM09': {'Item_Weight': 11.15},\n",
       " 'NCW54': {'Item_Weight': 7.5},\n",
       " 'FDF47': {'Item_Weight': 20.85},\n",
       " 'FDW12': {'Item_Weight': 8.315},\n",
       " 'FDW24': {'Item_Weight': 6.8},\n",
       " 'DRD01': {'Item_Weight': 12.1},\n",
       " 'FDN25': {'Item_Weight': 7.895},\n",
       " 'FDP20': {'Item_Weight': 19.85},\n",
       " 'FDR45': {'Item_Weight': 10.8},\n",
       " 'FDZ45': {'Item_Weight': 14.1},\n",
       " 'FDB23': {'Item_Weight': 19.2},\n",
       " 'FDC41': {'Item_Weight': 15.6},\n",
       " 'NCM26': {'Item_Weight': 20.5},\n",
       " 'FDW35': {'Item_Weight': 10.6},\n",
       " 'FDK40': {'Item_Weight': 7.035},\n",
       " 'NCL42': {'Item_Weight': 18.85},\n",
       " 'FDC33': {'Item_Weight': 8.96},\n",
       " 'FDY04': {'Item_Weight': 17.7},\n",
       " 'NCG30': {'Item_Weight': 20.2},\n",
       " 'NCH29': {'Item_Weight': 5.51},\n",
       " 'FDV20': {'Item_Weight': 20.2},\n",
       " 'NCM29': {'Item_Weight': 11.5},\n",
       " 'FDD53': {'Item_Weight': 16.2},\n",
       " 'FDI44': {'Item_Weight': 16.1},\n",
       " 'FDU20': {'Item_Weight': 19.35},\n",
       " ...}"
      ]
     },
     "metadata": {},
     "execution_count": 125
    }
   ],
   "source": [
    "d = dummy.to_dict()\n",
    "d"
   ]
  },
  {
   "cell_type": "code",
   "execution_count": 126,
   "metadata": {},
   "outputs": [],
   "source": [
    "dict = {}\n",
    "for key, value in d.items():\n",
    "    dict[key] = value['Item_Weight']"
   ]
  },
  {
   "cell_type": "code",
   "execution_count": 127,
   "metadata": {},
   "outputs": [
    {
     "output_type": "execute_result",
     "data": {
      "text/plain": [
       "T38': 18.7,\n",
       " 'FDO40': 17.1,\n",
       " 'FDP12': 9.8,\n",
       " 'FDG16': 15.25,\n",
       " 'FDY11': 6.71,\n",
       " 'FDL38': 13.8,\n",
       " 'FDY60': 10.5,\n",
       " 'FDW40': 14.0,\n",
       " 'FDY08': 9.395,\n",
       " 'NCM42': 6.13,\n",
       " 'NCD07': 9.1,\n",
       " 'FDD09': 13.5,\n",
       " 'DRH59': 10.8,\n",
       " 'DRN36': 15.2,\n",
       " 'DRA24': 19.35,\n",
       " 'FDG34': 11.5,\n",
       " 'FDK22': 9.8,\n",
       " 'FDO33': 14.75,\n",
       " 'FDS10': 19.2,\n",
       " 'FDU34': 18.25,\n",
       " 'FDA26': 7.855,\n",
       " 'FDP38': 10.1,\n",
       " 'FDA50': 16.25,\n",
       " 'FDY10': 17.6,\n",
       " 'FDT19': 7.59,\n",
       " 'NCV54': 11.1,\n",
       " 'FDA28': 16.1,\n",
       " 'FDB05': 5.155,\n",
       " 'FDY52': 6.365,\n",
       " 'FDR48': 11.65,\n",
       " 'FDY15': 18.25,\n",
       " 'FDM51': 11.8,\n",
       " 'FDW09': 13.65,\n",
       " 'FDV44': 8.365,\n",
       " 'FDZ47': 20.7,\n",
       " 'NCP43': 17.75,\n",
       " 'FDL26': 18.0,\n",
       " 'DRM35': 9.695,\n",
       " 'DRD15': 10.6,\n",
       " 'FDV04': 7.825,\n",
       " 'NCN05': 8.235,\n",
       " 'FDJ02': 17.2,\n",
       " 'NCK17': 11.0,\n",
       " 'FDO58': 19.6,\n",
       " 'FDG33': 5.365,\n",
       " 'NCZ05': 8.485,\n",
       " 'NCP54': 15.35,\n",
       " 'FDV01': 19.2,\n",
       " 'FDF57': 14.5,\n",
       " 'FDA02': 14.0,\n",
       " 'DRJ37': 10.8,\n",
       " 'NCP55': 14.65,\n",
       " 'FDK38': 6.65,\n",
       " 'NCZ30': 6.59,\n",
       " 'DRY23': 9.395,\n",
       " 'NCG19': 20.25,\n",
       " 'FDQ01': 19.7,\n",
       " 'FDL44': 18.25,\n",
       " 'DRM23': 16.6,\n",
       " 'NCE18': 10.0,\n",
       " 'DRZ24': 7.535,\n",
       " 'FDT48': 4.92,\n",
       " 'DRG11': 6.385,\n",
       " 'FDP60': 17.35,\n",
       " 'FDE05': 10.895,\n",
       " 'FDC32': 18.35,\n",
       " 'FDJ22': 18.75,\n",
       " 'NCH18': 9.3,\n",
       " 'DRC13': 8.26,\n",
       " 'FDG47': 12.8,\n",
       " 'NCT05': 10.895,\n",
       " 'FDN50': 16.85,\n",
       " 'FDU60': 20.0,\n",
       " 'FDX02': 16.0,\n",
       " 'DRF27': 8.93,\n",
       " 'FDQ59': 9.8,\n",
       " 'NCZ53': 9.6,\n",
       " 'FDD34': 7.945,\n",
       " 'FDY43': 14.85,\n",
       " 'FDG46': 8.63,\n",
       " 'FDN44': 13.15,\n",
       " 'FDD32': 17.7,\n",
       " 'FDA56': 9.21,\n",
       " 'FDT13': 14.85,\n",
       " 'NCY29': 13.65,\n",
       " 'NCA42': 6.965,\n",
       " 'FDG26': 18.85,\n",
       " 'FDH24': 20.7,\n",
       " 'FDT52': 9.695,\n",
       " 'FDT04': 17.25,\n",
       " 'NCL54': 12.6,\n",
       " 'FDW50': 13.1,\n",
       " 'FDQ32': 17.85,\n",
       " 'FDE29': 8.905,\n",
       " 'FDB37': 20.25,\n",
       " 'FDN46': 7.21,\n",
       " 'FDV28': 16.1,\n",
       " 'FDV40': 17.35,\n",
       " 'FDZ57': 10.0,\n",
       " 'FDY46': 18.6,\n",
       " 'FDX45': 16.75,\n",
       " 'FDB33': 17.75,\n",
       " 'FDT58': 9.0,\n",
       " 'NCL31': 7.39,\n",
       " 'FDJ44': 12.3,\n",
       " 'FDS50': 17.0,\n",
       " 'FDA49': 19.7,\n",
       " 'FDO50': 16.25,\n",
       " 'DRK13': 11.8,\n",
       " 'FDI20': 19.1,\n",
       " 'FDM36': 11.65,\n",
       " 'FDN12': 15.6,\n",
       " 'FDG17': 6.865,\n",
       " 'FDM32': 20.5,\n",
       " 'FDC51': 10.895,\n",
       " 'FDF16': 7.3,\n",
       " 'FDI46': 9.5,\n",
       " 'FDZ21': 17.6,\n",
       " 'DRF25': 9.0,\n",
       " 'FDH05': 14.35,\n",
       " 'FDD52': 18.25,\n",
       " 'FDR55': 12.15,\n",
       " 'FDP04': 15.35,\n",
       " 'FDQ14': 9.27,\n",
       " 'DRN59': 15.0,\n",
       " 'NCR06': 12.5,\n",
       " 'FDB58': 10.5,\n",
       " 'NCV41': 14.35,\n",
       " 'FDW19': 12.35,\n",
       " 'FDO56': 10.195,\n",
       " 'FDN10': 11.5,\n",
       " 'FDY20': 12.5,\n",
       " 'FDV34': 10.695,\n",
       " 'NCX18': 14.15,\n",
       " 'FDT12': 6.215,\n",
       " 'FDD57': 18.1,\n",
       " 'FDK45': 11.65,\n",
       " 'FDZ48': 17.75,\n",
       " 'FDZ31': 15.35,\n",
       " 'FDL21': 15.85,\n",
       " 'FDC39': 7.405,\n",
       " 'FDP45': 15.7,\n",
       " 'FDC56': 7.72,\n",
       " 'FDE59': 12.15,\n",
       " 'FDB04': 11.35,\n",
       " 'NCK05': 20.1,\n",
       " 'FDR03': 15.7,\n",
       " 'FDC59': 16.7,\n",
       " 'DRB13': 6.115,\n",
       " 'NCE54': 20.7,\n",
       " 'FDC10': 9.8,\n",
       " 'NCL29': 9.695,\n",
       " 'FDM57': 11.65,\n",
       " 'FDZ36': 6.035,\n",
       " 'FDX10': 6.385,\n",
       " 'FDO46': 9.6,\n",
       " 'FDD16': 20.5,\n",
       " 'FDY44': 14.15,\n",
       " 'DRH51': 17.6,\n",
       " 'FDI50': 8.42,\n",
       " 'FDB60': 9.3,\n",
       " 'FDA20': 6.78,\n",
       " 'DRF37': 17.25,\n",
       " 'FDJ26': 15.3,\n",
       " 'FDZ25': 15.7,\n",
       " 'FDZ58': 17.85,\n",
       " 'NCG18': 15.3,\n",
       " 'FDH50': 15.0,\n",
       " 'DRO35': 13.85,\n",
       " 'FDP52': 18.7,\n",
       " 'FDC05': 13.1,\n",
       " 'NCA41': 16.75,\n",
       " 'FDX56': 17.1,\n",
       " 'NCP02': 7.105,\n",
       " 'FDZ49': 11.0,\n",
       " 'NCJ17': 7.68,\n",
       " 'FDP48': 7.52,\n",
       " 'FDI53': 8.895,\n",
       " 'FDW02': 4.805,\n",
       " 'FDO48': 15.0,\n",
       " 'NCR53': 12.15,\n",
       " 'FDF56': 16.7,\n",
       " 'FDL57': 15.1,\n",
       " 'FDV52': 20.7,\n",
       " 'NCS41': 12.85,\n",
       " 'FDF12': 8.235,\n",
       " 'FDM13': 6.425,\n",
       " 'NCS42': 8.6,\n",
       " 'FDD47': 7.6,\n",
       " 'DRE03': 19.6,\n",
       " 'FDE20': 11.35,\n",
       " 'FDI33': 16.5,\n",
       " 'NCT06': 17.1,\n",
       " 'FDD10': 20.6,\n",
       " 'FDK52': 18.25,\n",
       " 'FDJ36': 14.5,\n",
       " 'NCK18': 9.6,\n",
       " 'FDB08': 6.055,\n",
       " 'FDX43': 5.655,\n",
       " 'FDU58': 6.61,\n",
       " 'NCT29': 12.6,\n",
       " 'NCB43': 20.2,\n",
       " 'FDR37': 16.5,\n",
       " 'FDG56': 13.3,\n",
       " 'FDL13': 13.85,\n",
       " 'FDQ03': 15.0,\n",
       " 'NCC55': 10.695,\n",
       " 'FDA25': 16.5,\n",
       " 'FDV33': 9.6,\n",
       " 'FDX47': 6.55,\n",
       " 'FDB02': 9.695,\n",
       " 'FDI56': 7.325,\n",
       " 'FDQ08': 15.7,\n",
       " 'DRJ49': 6.865,\n",
       " 'FDP26': 7.785,\n",
       " 'FDO32': 6.36,\n",
       " 'FDR34': 17.0,\n",
       " 'FDU59': 5.78,\n",
       " 'FDN31': 11.5,\n",
       " 'FDC03': 8.575,\n",
       " 'FDL14': 8.115,\n",
       " 'FDP39': 12.65,\n",
       " 'FDT11': 5.94,\n",
       " 'FDU48': 18.85,\n",
       " 'NCP06': 20.7,\n",
       " 'FDT45': 15.85,\n",
       " 'FDE56': 17.25,\n",
       " 'FDZ34': 6.695,\n",
       " 'NCM54': 17.7,\n",
       " 'FDV24': 5.635,\n",
       " 'FDD46': 6.035,\n",
       " 'FDQ39': 14.8,\n",
       " 'FDE11': 17.7,\n",
       " 'NCU54': 8.88,\n",
       " 'FDO60': 20.0,\n",
       " 'NCS06': 7.935,\n",
       " 'FDQ55': 13.65,\n",
       " 'NCO02': 11.15,\n",
       " 'FDB12': 11.15,\n",
       " 'FDT40': 5.985,\n",
       " 'NCO05': 7.27,\n",
       " 'FDR32': 6.78,\n",
       " 'FDM04': 9.195,\n",
       " 'FDH08': 7.51,\n",
       " 'FDZ08': 12.5,\n",
       " 'FDU03': 18.7,\n",
       " 'FDV08': 7.35,\n",
       " 'FDY49': 17.2,\n",
       " 'DRK47': 7.905,\n",
       " 'NCE06': 5.825,\n",
       " 'DRI47': 14.7,\n",
       " 'FDR35': 12.5,\n",
       " 'FDK03': 12.6,\n",
       " 'FDN48': 13.35,\n",
       " 'FDZ59': 6.63,\n",
       " 'FDL09': 19.6,\n",
       " 'FDL03': 19.25,\n",
       " 'NCG07': 12.3,\n",
       " 'FDP22': 14.65,\n",
       " 'FDL45': 15.6,\n",
       " 'FDC45': 17.0,\n",
       " 'FDI40': 11.5,\n",
       " 'FDQ11': 5.695,\n",
       " 'FDQ52': 17.0,\n",
       " 'FDJ27': 17.7,\n",
       " 'NCM18': 13.0,\n",
       " 'FDT26': 18.85,\n",
       " 'DRD60': 15.7,\n",
       " 'NCH07': 13.15,\n",
       " 'FDP44': 16.5,\n",
       " 'FDI48': 11.85,\n",
       " 'NCF06': 6.235,\n",
       " 'FDT24': 12.35,\n",
       " 'FDK08': 9.195,\n",
       " 'FDS11': 7.05,\n",
       " 'DRE15': 13.35,\n",
       " 'FDX21': 7.05,\n",
       " 'NCI42': 18.75,\n",
       " 'FDX37': 16.2,\n",
       " 'FDX14': 13.1,\n",
       " 'FDM09': 11.15,\n",
       " 'NCW54': 7.5,\n",
       " 'FDF47': 20.85,\n",
       " 'FDW12': 8.315,\n",
       " 'FDW24': 6.8,\n",
       " 'DRD01': 12.1,\n",
       " 'FDN25': 7.895,\n",
       " 'FDP20': 19.85,\n",
       " 'FDR45': 10.8,\n",
       " 'FDZ45': 14.1,\n",
       " 'FDB23': 19.2,\n",
       " 'FDC41': 15.6,\n",
       " 'NCM26': 20.5,\n",
       " 'FDW35': 10.6,\n",
       " 'FDK40': 7.035,\n",
       " 'NCL42': 18.85,\n",
       " 'FDC33': 8.96,\n",
       " 'FDY04': 17.7,\n",
       " 'NCG30': 20.2,\n",
       " 'NCH29': 5.51,\n",
       " 'FDV20': 20.2,\n",
       " 'NCM29': 11.5,\n",
       " 'FDD53': 16.2,\n",
       " 'FDI44': 16.1,\n",
       " 'FDU20': 19.35,\n",
       " ...}"
      ]
     },
     "metadata": {},
     "execution_count": 127
    }
   ],
   "source": [
    "dict"
   ]
  },
  {
   "cell_type": "code",
   "execution_count": 128,
   "metadata": {},
   "outputs": [
    {
     "output_type": "execute_result",
     "data": {
      "text/plain": [
       "     Item_Identifier  Item_Weight Item_Fat_Content  Item_Visibility  \\\n",
       "0              FDA15        9.300               LF         0.016047   \n",
       "1              DRC01        5.920              REG         0.019278   \n",
       "2              FDN15       17.500               LF         0.016760   \n",
       "3              FDX07       19.200              REG         0.000000   \n",
       "4              NCD19        8.930               LF         0.000000   \n",
       "...              ...          ...              ...              ...   \n",
       "8518           FDF22        6.865               LF         0.056783   \n",
       "8519           FDS36        8.380              REG         0.046982   \n",
       "8520           NCJ29       10.600               LF         0.035186   \n",
       "8521           FDN46        7.210              REG         0.145221   \n",
       "8522           DRG01       14.800               LF         0.044878   \n",
       "\n",
       "                  Item_Type  Item_MRP Outlet_Identifier  \\\n",
       "0                     Dairy  249.8092            OUT049   \n",
       "1               Soft Drinks   48.2692            OUT018   \n",
       "2                      Meat  141.6180            OUT049   \n",
       "3     Fruits and Vegetables  182.0950            OUT010   \n",
       "4                 Household   53.8614            OUT013   \n",
       "...                     ...       ...               ...   \n",
       "8518            Snack Foods  214.5218            OUT013   \n",
       "8519           Baking Goods  108.1570            OUT045   \n",
       "8520     Health and Hygiene   85.1224            OUT035   \n",
       "8521            Snack Foods  103.1332            OUT018   \n",
       "8522            Soft Drinks   75.4670            OUT046   \n",
       "\n",
       "      Outlet_Establishment_Year Outlet_Size Outlet_Location_Type  \\\n",
       "0                          1999      Medium               Tier 1   \n",
       "1                          2009      Medium               Tier 3   \n",
       "2                          1999      Medium               Tier 1   \n",
       "3                          1998       Small               Tier 3   \n",
       "4                          1987        High               Tier 3   \n",
       "...                         ...         ...                  ...   \n",
       "8518                       1987        High               Tier 3   \n",
       "8519                       2002       Small               Tier 2   \n",
       "8520                       2004       Small               Tier 2   \n",
       "8521                       2009      Medium               Tier 3   \n",
       "8522                       1997       Small               Tier 1   \n",
       "\n",
       "            Outlet_Type  Item_Outlet_Sales  \n",
       "0     Supermarket Type1          3735.1380  \n",
       "1     Supermarket Type2           443.4228  \n",
       "2     Supermarket Type1          2097.2700  \n",
       "3         Grocery Store           732.3800  \n",
       "4     Supermarket Type1           994.7052  \n",
       "...                 ...                ...  \n",
       "8518  Supermarket Type1          2778.3834  \n",
       "8519  Supermarket Type1           549.2850  \n",
       "8520  Supermarket Type1          1193.1136  \n",
       "8521  Supermarket Type2          1845.5976  \n",
       "8522  Supermarket Type1           765.6700  \n",
       "\n",
       "[8523 rows x 12 columns]"
      ],
      "text/html": "<div>\n<style scoped>\n    .dataframe tbody tr th:only-of-type {\n        vertical-align: middle;\n    }\n\n    .dataframe tbody tr th {\n        vertical-align: top;\n    }\n\n    .dataframe thead th {\n        text-align: right;\n    }\n</style>\n<table border=\"1\" class=\"dataframe\">\n  <thead>\n    <tr style=\"text-align: right;\">\n      <th></th>\n      <th>Item_Identifier</th>\n      <th>Item_Weight</th>\n      <th>Item_Fat_Content</th>\n      <th>Item_Visibility</th>\n      <th>Item_Type</th>\n      <th>Item_MRP</th>\n      <th>Outlet_Identifier</th>\n      <th>Outlet_Establishment_Year</th>\n      <th>Outlet_Size</th>\n      <th>Outlet_Location_Type</th>\n      <th>Outlet_Type</th>\n      <th>Item_Outlet_Sales</th>\n    </tr>\n  </thead>\n  <tbody>\n    <tr>\n      <th>0</th>\n      <td>FDA15</td>\n      <td>9.300</td>\n      <td>LF</td>\n      <td>0.016047</td>\n      <td>Dairy</td>\n      <td>249.8092</td>\n      <td>OUT049</td>\n      <td>1999</td>\n      <td>Medium</td>\n      <td>Tier 1</td>\n      <td>Supermarket Type1</td>\n      <td>3735.1380</td>\n    </tr>\n    <tr>\n      <th>1</th>\n      <td>DRC01</td>\n      <td>5.920</td>\n      <td>REG</td>\n      <td>0.019278</td>\n      <td>Soft Drinks</td>\n      <td>48.2692</td>\n      <td>OUT018</td>\n      <td>2009</td>\n      <td>Medium</td>\n      <td>Tier 3</td>\n      <td>Supermarket Type2</td>\n      <td>443.4228</td>\n    </tr>\n    <tr>\n      <th>2</th>\n      <td>FDN15</td>\n      <td>17.500</td>\n      <td>LF</td>\n      <td>0.016760</td>\n      <td>Meat</td>\n      <td>141.6180</td>\n      <td>OUT049</td>\n      <td>1999</td>\n      <td>Medium</td>\n      <td>Tier 1</td>\n      <td>Supermarket Type1</td>\n      <td>2097.2700</td>\n    </tr>\n    <tr>\n      <th>3</th>\n      <td>FDX07</td>\n      <td>19.200</td>\n      <td>REG</td>\n      <td>0.000000</td>\n      <td>Fruits and Vegetables</td>\n      <td>182.0950</td>\n      <td>OUT010</td>\n      <td>1998</td>\n      <td>Small</td>\n      <td>Tier 3</td>\n      <td>Grocery Store</td>\n      <td>732.3800</td>\n    </tr>\n    <tr>\n      <th>4</th>\n      <td>NCD19</td>\n      <td>8.930</td>\n      <td>LF</td>\n      <td>0.000000</td>\n      <td>Household</td>\n      <td>53.8614</td>\n      <td>OUT013</td>\n      <td>1987</td>\n      <td>High</td>\n      <td>Tier 3</td>\n      <td>Supermarket Type1</td>\n      <td>994.7052</td>\n    </tr>\n    <tr>\n      <th>...</th>\n      <td>...</td>\n      <td>...</td>\n      <td>...</td>\n      <td>...</td>\n      <td>...</td>\n      <td>...</td>\n      <td>...</td>\n      <td>...</td>\n      <td>...</td>\n      <td>...</td>\n      <td>...</td>\n      <td>...</td>\n    </tr>\n    <tr>\n      <th>8518</th>\n      <td>FDF22</td>\n      <td>6.865</td>\n      <td>LF</td>\n      <td>0.056783</td>\n      <td>Snack Foods</td>\n      <td>214.5218</td>\n      <td>OUT013</td>\n      <td>1987</td>\n      <td>High</td>\n      <td>Tier 3</td>\n      <td>Supermarket Type1</td>\n      <td>2778.3834</td>\n    </tr>\n    <tr>\n      <th>8519</th>\n      <td>FDS36</td>\n      <td>8.380</td>\n      <td>REG</td>\n      <td>0.046982</td>\n      <td>Baking Goods</td>\n      <td>108.1570</td>\n      <td>OUT045</td>\n      <td>2002</td>\n      <td>Small</td>\n      <td>Tier 2</td>\n      <td>Supermarket Type1</td>\n      <td>549.2850</td>\n    </tr>\n    <tr>\n      <th>8520</th>\n      <td>NCJ29</td>\n      <td>10.600</td>\n      <td>LF</td>\n      <td>0.035186</td>\n      <td>Health and Hygiene</td>\n      <td>85.1224</td>\n      <td>OUT035</td>\n      <td>2004</td>\n      <td>Small</td>\n      <td>Tier 2</td>\n      <td>Supermarket Type1</td>\n      <td>1193.1136</td>\n    </tr>\n    <tr>\n      <th>8521</th>\n      <td>FDN46</td>\n      <td>7.210</td>\n      <td>REG</td>\n      <td>0.145221</td>\n      <td>Snack Foods</td>\n      <td>103.1332</td>\n      <td>OUT018</td>\n      <td>2009</td>\n      <td>Medium</td>\n      <td>Tier 3</td>\n      <td>Supermarket Type2</td>\n      <td>1845.5976</td>\n    </tr>\n    <tr>\n      <th>8522</th>\n      <td>DRG01</td>\n      <td>14.800</td>\n      <td>LF</td>\n      <td>0.044878</td>\n      <td>Soft Drinks</td>\n      <td>75.4670</td>\n      <td>OUT046</td>\n      <td>1997</td>\n      <td>Small</td>\n      <td>Tier 1</td>\n      <td>Supermarket Type1</td>\n      <td>765.6700</td>\n    </tr>\n  </tbody>\n</table>\n<p>8523 rows × 12 columns</p>\n</div>"
     },
     "metadata": {},
     "execution_count": 128
    }
   ],
   "source": [
    "df.Item_Weight = df.Item_Weight.fillna(df.Item_Identifier.map(dict))\n",
    "df"
   ]
  },
  {
   "cell_type": "code",
   "execution_count": 129,
   "metadata": {},
   "outputs": [
    {
     "output_type": "execute_result",
     "data": {
      "text/plain": [
       "True"
      ]
     },
     "metadata": {},
     "execution_count": 129
    }
   ],
   "source": [
    "df['Item_Weight'].isna().any()"
   ]
  },
  {
   "cell_type": "code",
   "execution_count": 130,
   "metadata": {},
   "outputs": [
    {
     "output_type": "execute_result",
     "data": {
      "text/plain": [
       "     Item_Identifier  Item_Weight Item_Fat_Content  Item_Visibility  \\\n",
       "927            FDN52          NaN              REG         0.130933   \n",
       "1922           FDK57          NaN               LF         0.079904   \n",
       "4187           FDE52          NaN              REG         0.029742   \n",
       "5022           FDQ60          NaN              REG         0.191501   \n",
       "\n",
       "         Item_Type  Item_MRP Outlet_Identifier  Outlet_Establishment_Year  \\\n",
       "927   Frozen Foods   86.9198            OUT027                       1985   \n",
       "1922   Snack Foods  120.0440            OUT027                       1985   \n",
       "4187         Dairy   88.9514            OUT027                       1985   \n",
       "5022  Baking Goods  121.2098            OUT019                       1985   \n",
       "\n",
       "     Outlet_Size Outlet_Location_Type        Outlet_Type  Item_Outlet_Sales  \n",
       "927       Medium               Tier 3  Supermarket Type3          1569.9564  \n",
       "1922      Medium               Tier 3  Supermarket Type3          4434.2280  \n",
       "4187      Medium               Tier 3  Supermarket Type3          3453.5046  \n",
       "5022       Small               Tier 1      Grocery Store           120.5098  "
      ],
      "text/html": "<div>\n<style scoped>\n    .dataframe tbody tr th:only-of-type {\n        vertical-align: middle;\n    }\n\n    .dataframe tbody tr th {\n        vertical-align: top;\n    }\n\n    .dataframe thead th {\n        text-align: right;\n    }\n</style>\n<table border=\"1\" class=\"dataframe\">\n  <thead>\n    <tr style=\"text-align: right;\">\n      <th></th>\n      <th>Item_Identifier</th>\n      <th>Item_Weight</th>\n      <th>Item_Fat_Content</th>\n      <th>Item_Visibility</th>\n      <th>Item_Type</th>\n      <th>Item_MRP</th>\n      <th>Outlet_Identifier</th>\n      <th>Outlet_Establishment_Year</th>\n      <th>Outlet_Size</th>\n      <th>Outlet_Location_Type</th>\n      <th>Outlet_Type</th>\n      <th>Item_Outlet_Sales</th>\n    </tr>\n  </thead>\n  <tbody>\n    <tr>\n      <th>927</th>\n      <td>FDN52</td>\n      <td>NaN</td>\n      <td>REG</td>\n      <td>0.130933</td>\n      <td>Frozen Foods</td>\n      <td>86.9198</td>\n      <td>OUT027</td>\n      <td>1985</td>\n      <td>Medium</td>\n      <td>Tier 3</td>\n      <td>Supermarket Type3</td>\n      <td>1569.9564</td>\n    </tr>\n    <tr>\n      <th>1922</th>\n      <td>FDK57</td>\n      <td>NaN</td>\n      <td>LF</td>\n      <td>0.079904</td>\n      <td>Snack Foods</td>\n      <td>120.0440</td>\n      <td>OUT027</td>\n      <td>1985</td>\n      <td>Medium</td>\n      <td>Tier 3</td>\n      <td>Supermarket Type3</td>\n      <td>4434.2280</td>\n    </tr>\n    <tr>\n      <th>4187</th>\n      <td>FDE52</td>\n      <td>NaN</td>\n      <td>REG</td>\n      <td>0.029742</td>\n      <td>Dairy</td>\n      <td>88.9514</td>\n      <td>OUT027</td>\n      <td>1985</td>\n      <td>Medium</td>\n      <td>Tier 3</td>\n      <td>Supermarket Type3</td>\n      <td>3453.5046</td>\n    </tr>\n    <tr>\n      <th>5022</th>\n      <td>FDQ60</td>\n      <td>NaN</td>\n      <td>REG</td>\n      <td>0.191501</td>\n      <td>Baking Goods</td>\n      <td>121.2098</td>\n      <td>OUT019</td>\n      <td>1985</td>\n      <td>Small</td>\n      <td>Tier 1</td>\n      <td>Grocery Store</td>\n      <td>120.5098</td>\n    </tr>\n  </tbody>\n</table>\n</div>"
     },
     "metadata": {},
     "execution_count": 130
    }
   ],
   "source": [
    "df[df['Item_Weight'].isna()]"
   ]
  },
  {
   "cell_type": "code",
   "execution_count": 131,
   "metadata": {},
   "outputs": [],
   "source": [
    "assign = {'FDN52':11.8, 'FDK57':13.5, 'FDE52':15.6, 'FDQ60':7.85, 'FDA15':9.3}"
   ]
  },
  {
   "cell_type": "code",
   "execution_count": 132,
   "metadata": {},
   "outputs": [
    {
     "output_type": "execute_result",
     "data": {
      "text/plain": [
       "T38': 18.7,\n",
       " 'FDO40': 17.1,\n",
       " 'FDP12': 9.8,\n",
       " 'FDG16': 15.25,\n",
       " 'FDY11': 6.71,\n",
       " 'FDL38': 13.8,\n",
       " 'FDY60': 10.5,\n",
       " 'FDW40': 14.0,\n",
       " 'FDY08': 9.395,\n",
       " 'NCM42': 6.13,\n",
       " 'NCD07': 9.1,\n",
       " 'FDD09': 13.5,\n",
       " 'DRH59': 10.8,\n",
       " 'DRN36': 15.2,\n",
       " 'DRA24': 19.35,\n",
       " 'FDG34': 11.5,\n",
       " 'FDK22': 9.8,\n",
       " 'FDO33': 14.75,\n",
       " 'FDS10': 19.2,\n",
       " 'FDU34': 18.25,\n",
       " 'FDA26': 7.855,\n",
       " 'FDP38': 10.1,\n",
       " 'FDA50': 16.25,\n",
       " 'FDY10': 17.6,\n",
       " 'FDT19': 7.59,\n",
       " 'NCV54': 11.1,\n",
       " 'FDA28': 16.1,\n",
       " 'FDB05': 5.155,\n",
       " 'FDY52': 6.365,\n",
       " 'FDR48': 11.65,\n",
       " 'FDY15': 18.25,\n",
       " 'FDM51': 11.8,\n",
       " 'FDW09': 13.65,\n",
       " 'FDV44': 8.365,\n",
       " 'FDZ47': 20.7,\n",
       " 'NCP43': 17.75,\n",
       " 'FDL26': 18.0,\n",
       " 'DRM35': 9.695,\n",
       " 'DRD15': 10.6,\n",
       " 'FDV04': 7.825,\n",
       " 'NCN05': 8.235,\n",
       " 'FDJ02': 17.2,\n",
       " 'NCK17': 11.0,\n",
       " 'FDO58': 19.6,\n",
       " 'FDG33': 5.365,\n",
       " 'NCZ05': 8.485,\n",
       " 'NCP54': 15.35,\n",
       " 'FDV01': 19.2,\n",
       " 'FDF57': 14.5,\n",
       " 'FDA02': 14.0,\n",
       " 'DRJ37': 10.8,\n",
       " 'NCP55': 14.65,\n",
       " 'FDK38': 6.65,\n",
       " 'NCZ30': 6.59,\n",
       " 'DRY23': 9.395,\n",
       " 'NCG19': 20.25,\n",
       " 'FDQ01': 19.7,\n",
       " 'FDL44': 18.25,\n",
       " 'DRM23': 16.6,\n",
       " 'NCE18': 10.0,\n",
       " 'DRZ24': 7.535,\n",
       " 'FDT48': 4.92,\n",
       " 'DRG11': 6.385,\n",
       " 'FDP60': 17.35,\n",
       " 'FDE05': 10.895,\n",
       " 'FDC32': 18.35,\n",
       " 'FDJ22': 18.75,\n",
       " 'NCH18': 9.3,\n",
       " 'DRC13': 8.26,\n",
       " 'FDG47': 12.8,\n",
       " 'NCT05': 10.895,\n",
       " 'FDN50': 16.85,\n",
       " 'FDU60': 20.0,\n",
       " 'FDX02': 16.0,\n",
       " 'DRF27': 8.93,\n",
       " 'FDQ59': 9.8,\n",
       " 'NCZ53': 9.6,\n",
       " 'FDD34': 7.945,\n",
       " 'FDY43': 14.85,\n",
       " 'FDG46': 8.63,\n",
       " 'FDN44': 13.15,\n",
       " 'FDD32': 17.7,\n",
       " 'FDA56': 9.21,\n",
       " 'FDT13': 14.85,\n",
       " 'NCY29': 13.65,\n",
       " 'NCA42': 6.965,\n",
       " 'FDG26': 18.85,\n",
       " 'FDH24': 20.7,\n",
       " 'FDT52': 9.695,\n",
       " 'FDT04': 17.25,\n",
       " 'NCL54': 12.6,\n",
       " 'FDW50': 13.1,\n",
       " 'FDQ32': 17.85,\n",
       " 'FDE29': 8.905,\n",
       " 'FDB37': 20.25,\n",
       " 'FDN46': 7.21,\n",
       " 'FDV28': 16.1,\n",
       " 'FDV40': 17.35,\n",
       " 'FDZ57': 10.0,\n",
       " 'FDY46': 18.6,\n",
       " 'FDX45': 16.75,\n",
       " 'FDB33': 17.75,\n",
       " 'FDT58': 9.0,\n",
       " 'NCL31': 7.39,\n",
       " 'FDJ44': 12.3,\n",
       " 'FDS50': 17.0,\n",
       " 'FDA49': 19.7,\n",
       " 'FDO50': 16.25,\n",
       " 'DRK13': 11.8,\n",
       " 'FDI20': 19.1,\n",
       " 'FDM36': 11.65,\n",
       " 'FDN12': 15.6,\n",
       " 'FDG17': 6.865,\n",
       " 'FDM32': 20.5,\n",
       " 'FDC51': 10.895,\n",
       " 'FDF16': 7.3,\n",
       " 'FDI46': 9.5,\n",
       " 'FDZ21': 17.6,\n",
       " 'DRF25': 9.0,\n",
       " 'FDH05': 14.35,\n",
       " 'FDD52': 18.25,\n",
       " 'FDR55': 12.15,\n",
       " 'FDP04': 15.35,\n",
       " 'FDQ14': 9.27,\n",
       " 'DRN59': 15.0,\n",
       " 'NCR06': 12.5,\n",
       " 'FDB58': 10.5,\n",
       " 'NCV41': 14.35,\n",
       " 'FDW19': 12.35,\n",
       " 'FDO56': 10.195,\n",
       " 'FDN10': 11.5,\n",
       " 'FDY20': 12.5,\n",
       " 'FDV34': 10.695,\n",
       " 'NCX18': 14.15,\n",
       " 'FDT12': 6.215,\n",
       " 'FDD57': 18.1,\n",
       " 'FDK45': 11.65,\n",
       " 'FDZ48': 17.75,\n",
       " 'FDZ31': 15.35,\n",
       " 'FDL21': 15.85,\n",
       " 'FDC39': 7.405,\n",
       " 'FDP45': 15.7,\n",
       " 'FDC56': 7.72,\n",
       " 'FDE59': 12.15,\n",
       " 'FDB04': 11.35,\n",
       " 'NCK05': 20.1,\n",
       " 'FDR03': 15.7,\n",
       " 'FDC59': 16.7,\n",
       " 'DRB13': 6.115,\n",
       " 'NCE54': 20.7,\n",
       " 'FDC10': 9.8,\n",
       " 'NCL29': 9.695,\n",
       " 'FDM57': 11.65,\n",
       " 'FDZ36': 6.035,\n",
       " 'FDX10': 6.385,\n",
       " 'FDO46': 9.6,\n",
       " 'FDD16': 20.5,\n",
       " 'FDY44': 14.15,\n",
       " 'DRH51': 17.6,\n",
       " 'FDI50': 8.42,\n",
       " 'FDB60': 9.3,\n",
       " 'FDA20': 6.78,\n",
       " 'DRF37': 17.25,\n",
       " 'FDJ26': 15.3,\n",
       " 'FDZ25': 15.7,\n",
       " 'FDZ58': 17.85,\n",
       " 'NCG18': 15.3,\n",
       " 'FDH50': 15.0,\n",
       " 'DRO35': 13.85,\n",
       " 'FDP52': 18.7,\n",
       " 'FDC05': 13.1,\n",
       " 'NCA41': 16.75,\n",
       " 'FDX56': 17.1,\n",
       " 'NCP02': 7.105,\n",
       " 'FDZ49': 11.0,\n",
       " 'NCJ17': 7.68,\n",
       " 'FDP48': 7.52,\n",
       " 'FDI53': 8.895,\n",
       " 'FDW02': 4.805,\n",
       " 'FDO48': 15.0,\n",
       " 'NCR53': 12.15,\n",
       " 'FDF56': 16.7,\n",
       " 'FDL57': 15.1,\n",
       " 'FDV52': 20.7,\n",
       " 'NCS41': 12.85,\n",
       " 'FDF12': 8.235,\n",
       " 'FDM13': 6.425,\n",
       " 'NCS42': 8.6,\n",
       " 'FDD47': 7.6,\n",
       " 'DRE03': 19.6,\n",
       " 'FDE20': 11.35,\n",
       " 'FDI33': 16.5,\n",
       " 'NCT06': 17.1,\n",
       " 'FDD10': 20.6,\n",
       " 'FDK52': 18.25,\n",
       " 'FDJ36': 14.5,\n",
       " 'NCK18': 9.6,\n",
       " 'FDB08': 6.055,\n",
       " 'FDX43': 5.655,\n",
       " 'FDU58': 6.61,\n",
       " 'NCT29': 12.6,\n",
       " 'NCB43': 20.2,\n",
       " 'FDR37': 16.5,\n",
       " 'FDG56': 13.3,\n",
       " 'FDL13': 13.85,\n",
       " 'FDQ03': 15.0,\n",
       " 'NCC55': 10.695,\n",
       " 'FDA25': 16.5,\n",
       " 'FDV33': 9.6,\n",
       " 'FDX47': 6.55,\n",
       " 'FDB02': 9.695,\n",
       " 'FDI56': 7.325,\n",
       " 'FDQ08': 15.7,\n",
       " 'DRJ49': 6.865,\n",
       " 'FDP26': 7.785,\n",
       " 'FDO32': 6.36,\n",
       " 'FDR34': 17.0,\n",
       " 'FDU59': 5.78,\n",
       " 'FDN31': 11.5,\n",
       " 'FDC03': 8.575,\n",
       " 'FDL14': 8.115,\n",
       " 'FDP39': 12.65,\n",
       " 'FDT11': 5.94,\n",
       " 'FDU48': 18.85,\n",
       " 'NCP06': 20.7,\n",
       " 'FDT45': 15.85,\n",
       " 'FDE56': 17.25,\n",
       " 'FDZ34': 6.695,\n",
       " 'NCM54': 17.7,\n",
       " 'FDV24': 5.635,\n",
       " 'FDD46': 6.035,\n",
       " 'FDQ39': 14.8,\n",
       " 'FDE11': 17.7,\n",
       " 'NCU54': 8.88,\n",
       " 'FDO60': 20.0,\n",
       " 'NCS06': 7.935,\n",
       " 'FDQ55': 13.65,\n",
       " 'NCO02': 11.15,\n",
       " 'FDB12': 11.15,\n",
       " 'FDT40': 5.985,\n",
       " 'NCO05': 7.27,\n",
       " 'FDR32': 6.78,\n",
       " 'FDM04': 9.195,\n",
       " 'FDH08': 7.51,\n",
       " 'FDZ08': 12.5,\n",
       " 'FDU03': 18.7,\n",
       " 'FDV08': 7.35,\n",
       " 'FDY49': 17.2,\n",
       " 'DRK47': 7.905,\n",
       " 'NCE06': 5.825,\n",
       " 'DRI47': 14.7,\n",
       " 'FDR35': 12.5,\n",
       " 'FDK03': 12.6,\n",
       " 'FDN48': 13.35,\n",
       " 'FDZ59': 6.63,\n",
       " 'FDL09': 19.6,\n",
       " 'FDL03': 19.25,\n",
       " 'NCG07': 12.3,\n",
       " 'FDP22': 14.65,\n",
       " 'FDL45': 15.6,\n",
       " 'FDC45': 17.0,\n",
       " 'FDI40': 11.5,\n",
       " 'FDQ11': 5.695,\n",
       " 'FDQ52': 17.0,\n",
       " 'FDJ27': 17.7,\n",
       " 'NCM18': 13.0,\n",
       " 'FDT26': 18.85,\n",
       " 'DRD60': 15.7,\n",
       " 'NCH07': 13.15,\n",
       " 'FDP44': 16.5,\n",
       " 'FDI48': 11.85,\n",
       " 'NCF06': 6.235,\n",
       " 'FDT24': 12.35,\n",
       " 'FDK08': 9.195,\n",
       " 'FDS11': 7.05,\n",
       " 'DRE15': 13.35,\n",
       " 'FDX21': 7.05,\n",
       " 'NCI42': 18.75,\n",
       " 'FDX37': 16.2,\n",
       " 'FDX14': 13.1,\n",
       " 'FDM09': 11.15,\n",
       " 'NCW54': 7.5,\n",
       " 'FDF47': 20.85,\n",
       " 'FDW12': 8.315,\n",
       " 'FDW24': 6.8,\n",
       " 'DRD01': 12.1,\n",
       " 'FDN25': 7.895,\n",
       " 'FDP20': 19.85,\n",
       " 'FDR45': 10.8,\n",
       " 'FDZ45': 14.1,\n",
       " 'FDB23': 19.2,\n",
       " 'FDC41': 15.6,\n",
       " 'NCM26': 20.5,\n",
       " 'FDW35': 10.6,\n",
       " 'FDK40': 7.035,\n",
       " 'NCL42': 18.85,\n",
       " 'FDC33': 8.96,\n",
       " 'FDY04': 17.7,\n",
       " 'NCG30': 20.2,\n",
       " 'NCH29': 5.51,\n",
       " 'FDV20': 20.2,\n",
       " 'NCM29': 11.5,\n",
       " 'FDD53': 16.2,\n",
       " 'FDI44': 16.1,\n",
       " 'FDU20': 19.35,\n",
       " ...}"
      ]
     },
     "metadata": {},
     "execution_count": 132
    }
   ],
   "source": [
    "dict.update({'FDN52':11.8, 'FDK57':13.5, 'FDE52':15.6, 'FDQ60':7.85, 'FDA15':9.3})\n",
    "dict"
   ]
  },
  {
   "cell_type": "code",
   "execution_count": 133,
   "metadata": {},
   "outputs": [],
   "source": [
    "df.Item_Weight = df.Item_Weight.fillna(df.Item_Identifier.map(dict))\n"
   ]
  },
  {
   "cell_type": "code",
   "execution_count": 134,
   "metadata": {},
   "outputs": [
    {
     "output_type": "execute_result",
     "data": {
      "text/plain": [
       "False"
      ]
     },
     "metadata": {},
     "execution_count": 134
    }
   ],
   "source": [
    "df['Item_Weight'].isna().any()"
   ]
  },
  {
   "cell_type": "code",
   "execution_count": 135,
   "metadata": {},
   "outputs": [
    {
     "output_type": "execute_result",
     "data": {
      "text/plain": [
       "Item_Identifier              False\n",
       "Item_Weight                  False\n",
       "Item_Fat_Content             False\n",
       "Item_Visibility              False\n",
       "Item_Type                    False\n",
       "Item_MRP                     False\n",
       "Outlet_Identifier            False\n",
       "Outlet_Establishment_Year    False\n",
       "Outlet_Size                  False\n",
       "Outlet_Location_Type         False\n",
       "Outlet_Type                  False\n",
       "Item_Outlet_Sales            False\n",
       "dtype: bool"
      ]
     },
     "metadata": {},
     "execution_count": 135
    }
   ],
   "source": [
    "df.isna().any()"
   ]
  },
  {
   "cell_type": "markdown",
   "metadata": {},
   "source": [
    "Done"
   ]
  }
 ],
 "metadata": {
  "kernelspec": {
   "name": "python3",
   "display_name": "Python 3.8.7 64-bit",
   "metadata": {
    "interpreter": {
     "hash": "b899ac9ce3b06db7a94413463e032a624c8fce36dd37f035bc1fef97f088be8e"
    }
   }
  },
  "language_info": {
   "codemirror_mode": {
    "name": "ipython",
    "version": 3
   },
   "file_extension": ".py",
   "mimetype": "text/x-python",
   "name": "python",
   "nbconvert_exporter": "python",
   "pygments_lexer": "ipython3",
   "version": "3.8.7-final"
  }
 },
 "nbformat": 4,
 "nbformat_minor": 2
}